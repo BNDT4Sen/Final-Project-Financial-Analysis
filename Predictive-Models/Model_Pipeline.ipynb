{
 "cells": [
  {
   "cell_type": "code",
   "execution_count": 57,
   "metadata": {},
   "outputs": [
    {
     "name": "stdout",
     "output_type": "stream",
     "text": [
      "Number of unique industries for classification : 345\n"
     ]
    }
   ],
   "source": [
    "# Conducting preliminary steps such as importing modules and reading in the data.\n",
    "\n",
    "import pandas as pd\n",
    "import pickle\n",
    "from sklearn.decomposition import PCA\n",
    "from sklearn.ensemble import RandomForestClassifier\n",
    "from sklearn.preprocessing import LabelEncoder, QuantileTransformer\n",
    "from sklearn.model_selection import train_test_split, GridSearchCV\n",
    "from sklearn.pipeline import Pipeline, FeatureUnion\n",
    "from sklearn.metrics import recall_score, precision_score, f1_score, multilabel_confusion_matrix\n",
    "\n",
    "# Data is imported and split, with the target variable being numerically encoded.\n",
    "model_df = pd.read_csv('../Data/model_data.csv', index_col = 0)\n",
    "target_encoding = LabelEncoder()\n",
    "model_df = model_df.groupby('industry').filter(lambda x : x['industry'].shape[0] >= 4)\n",
    "print(f'Number of unique industries for classification : {len(model_df[\"industry\"].unique())}')\n",
    "y = model_df['industry']\n",
    "y = target_encoding.fit_transform(y)\n",
    "model_df = model_df.drop(['industry', 'office'], axis = 1)\n",
    "df_columns = model_df.columns\n",
    "X = model_df[df_columns]"
   ]
  },
  {
   "cell_type": "code",
   "execution_count": 2,
   "metadata": {},
   "outputs": [],
   "source": [
    "# Splitting the data into training and test sets.\n",
    "# The data segments will be stratified along the target variable, and so the distribution of industries will remain consistent between testing and training.\n",
    "\n",
    "X_train, X_test, y_train, y_test = train_test_split(X, y, test_size = 0.2, random_state = 42, stratify = y)"
   ]
  },
  {
   "cell_type": "code",
   "execution_count": 3,
   "metadata": {},
   "outputs": [],
   "source": [
    "# Initializing features to be used in the pipeline.\n",
    "# QuantileTransformer will be used to scale the numeric variables.\n",
    "# Principal Component Analysis will allow some of the less important features to be identified and stripped.\n",
    "# Random Forest will the model trained and tested on the data.\n",
    "\n",
    "scaler_quantile = QuantileTransformer(output_distribution = 'normal')\n",
    "\n",
    "pca = PCA()\n",
    "\n",
    "random_forest = RandomForestClassifier()\n",
    "\n",
    "features = FeatureUnion([('quantile_scaler', scaler_quantile), ('PCA', pca)])"
   ]
  },
  {
   "cell_type": "code",
   "execution_count": 4,
   "metadata": {},
   "outputs": [
    {
     "data": {
      "text/html": [
       "<style>#sk-container-id-1 {color: black;background-color: white;}#sk-container-id-1 pre{padding: 0;}#sk-container-id-1 div.sk-toggleable {background-color: white;}#sk-container-id-1 label.sk-toggleable__label {cursor: pointer;display: block;width: 100%;margin-bottom: 0;padding: 0.3em;box-sizing: border-box;text-align: center;}#sk-container-id-1 label.sk-toggleable__label-arrow:before {content: \"▸\";float: left;margin-right: 0.25em;color: #696969;}#sk-container-id-1 label.sk-toggleable__label-arrow:hover:before {color: black;}#sk-container-id-1 div.sk-estimator:hover label.sk-toggleable__label-arrow:before {color: black;}#sk-container-id-1 div.sk-toggleable__content {max-height: 0;max-width: 0;overflow: hidden;text-align: left;background-color: #f0f8ff;}#sk-container-id-1 div.sk-toggleable__content pre {margin: 0.2em;color: black;border-radius: 0.25em;background-color: #f0f8ff;}#sk-container-id-1 input.sk-toggleable__control:checked~div.sk-toggleable__content {max-height: 200px;max-width: 100%;overflow: auto;}#sk-container-id-1 input.sk-toggleable__control:checked~label.sk-toggleable__label-arrow:before {content: \"▾\";}#sk-container-id-1 div.sk-estimator input.sk-toggleable__control:checked~label.sk-toggleable__label {background-color: #d4ebff;}#sk-container-id-1 div.sk-label input.sk-toggleable__control:checked~label.sk-toggleable__label {background-color: #d4ebff;}#sk-container-id-1 input.sk-hidden--visually {border: 0;clip: rect(1px 1px 1px 1px);clip: rect(1px, 1px, 1px, 1px);height: 1px;margin: -1px;overflow: hidden;padding: 0;position: absolute;width: 1px;}#sk-container-id-1 div.sk-estimator {font-family: monospace;background-color: #f0f8ff;border: 1px dotted black;border-radius: 0.25em;box-sizing: border-box;margin-bottom: 0.5em;}#sk-container-id-1 div.sk-estimator:hover {background-color: #d4ebff;}#sk-container-id-1 div.sk-parallel-item::after {content: \"\";width: 100%;border-bottom: 1px solid gray;flex-grow: 1;}#sk-container-id-1 div.sk-label:hover label.sk-toggleable__label {background-color: #d4ebff;}#sk-container-id-1 div.sk-serial::before {content: \"\";position: absolute;border-left: 1px solid gray;box-sizing: border-box;top: 0;bottom: 0;left: 50%;z-index: 0;}#sk-container-id-1 div.sk-serial {display: flex;flex-direction: column;align-items: center;background-color: white;padding-right: 0.2em;padding-left: 0.2em;position: relative;}#sk-container-id-1 div.sk-item {position: relative;z-index: 1;}#sk-container-id-1 div.sk-parallel {display: flex;align-items: stretch;justify-content: center;background-color: white;position: relative;}#sk-container-id-1 div.sk-item::before, #sk-container-id-1 div.sk-parallel-item::before {content: \"\";position: absolute;border-left: 1px solid gray;box-sizing: border-box;top: 0;bottom: 0;left: 50%;z-index: -1;}#sk-container-id-1 div.sk-parallel-item {display: flex;flex-direction: column;z-index: 1;position: relative;background-color: white;}#sk-container-id-1 div.sk-parallel-item:first-child::after {align-self: flex-end;width: 50%;}#sk-container-id-1 div.sk-parallel-item:last-child::after {align-self: flex-start;width: 50%;}#sk-container-id-1 div.sk-parallel-item:only-child::after {width: 0;}#sk-container-id-1 div.sk-dashed-wrapped {border: 1px dashed gray;margin: 0 0.4em 0.5em 0.4em;box-sizing: border-box;padding-bottom: 0.4em;background-color: white;}#sk-container-id-1 div.sk-label label {font-family: monospace;font-weight: bold;display: inline-block;line-height: 1.2em;}#sk-container-id-1 div.sk-label-container {text-align: center;}#sk-container-id-1 div.sk-container {/* jupyter's `normalize.less` sets `[hidden] { display: none; }` but bootstrap.min.css set `[hidden] { display: none !important; }` so we also need the `!important` here to be able to override the default hidden behavior on the sphinx rendered scikit-learn.org. See: https://github.com/scikit-learn/scikit-learn/issues/21755 */display: inline-block !important;position: relative;}#sk-container-id-1 div.sk-text-repr-fallback {display: none;}</style><div id=\"sk-container-id-1\" class=\"sk-top-container\"><div class=\"sk-text-repr-fallback\"><pre>Pipeline(steps=[(&#x27;features&#x27;,\n",
       "                 FeatureUnion(transformer_list=[(&#x27;quantile_scaler&#x27;,\n",
       "                                                 QuantileTransformer(output_distribution=&#x27;normal&#x27;)),\n",
       "                                                (&#x27;PCA&#x27;, PCA())])),\n",
       "                (&#x27;Random_Forest&#x27;, RandomForestClassifier())])</pre><b>In a Jupyter environment, please rerun this cell to show the HTML representation or trust the notebook. <br />On GitHub, the HTML representation is unable to render, please try loading this page with nbviewer.org.</b></div><div class=\"sk-container\" hidden><div class=\"sk-item sk-dashed-wrapped\"><div class=\"sk-label-container\"><div class=\"sk-label sk-toggleable\"><input class=\"sk-toggleable__control sk-hidden--visually\" id=\"sk-estimator-id-1\" type=\"checkbox\" ><label for=\"sk-estimator-id-1\" class=\"sk-toggleable__label sk-toggleable__label-arrow\">Pipeline</label><div class=\"sk-toggleable__content\"><pre>Pipeline(steps=[(&#x27;features&#x27;,\n",
       "                 FeatureUnion(transformer_list=[(&#x27;quantile_scaler&#x27;,\n",
       "                                                 QuantileTransformer(output_distribution=&#x27;normal&#x27;)),\n",
       "                                                (&#x27;PCA&#x27;, PCA())])),\n",
       "                (&#x27;Random_Forest&#x27;, RandomForestClassifier())])</pre></div></div></div><div class=\"sk-serial\"><div class=\"sk-item sk-dashed-wrapped\"><div class=\"sk-label-container\"><div class=\"sk-label sk-toggleable\"><input class=\"sk-toggleable__control sk-hidden--visually\" id=\"sk-estimator-id-2\" type=\"checkbox\" ><label for=\"sk-estimator-id-2\" class=\"sk-toggleable__label sk-toggleable__label-arrow\">features: FeatureUnion</label><div class=\"sk-toggleable__content\"><pre>FeatureUnion(transformer_list=[(&#x27;quantile_scaler&#x27;,\n",
       "                                QuantileTransformer(output_distribution=&#x27;normal&#x27;)),\n",
       "                               (&#x27;PCA&#x27;, PCA())])</pre></div></div></div><div class=\"sk-parallel\"><div class=\"sk-parallel-item\"><div class=\"sk-item\"><div class=\"sk-label-container\"><div class=\"sk-label sk-toggleable\"><label>quantile_scaler</label></div></div><div class=\"sk-serial\"><div class=\"sk-item\"><div class=\"sk-estimator sk-toggleable\"><input class=\"sk-toggleable__control sk-hidden--visually\" id=\"sk-estimator-id-3\" type=\"checkbox\" ><label for=\"sk-estimator-id-3\" class=\"sk-toggleable__label sk-toggleable__label-arrow\">QuantileTransformer</label><div class=\"sk-toggleable__content\"><pre>QuantileTransformer(output_distribution=&#x27;normal&#x27;)</pre></div></div></div></div></div></div><div class=\"sk-parallel-item\"><div class=\"sk-item\"><div class=\"sk-label-container\"><div class=\"sk-label sk-toggleable\"><label>PCA</label></div></div><div class=\"sk-serial\"><div class=\"sk-item\"><div class=\"sk-estimator sk-toggleable\"><input class=\"sk-toggleable__control sk-hidden--visually\" id=\"sk-estimator-id-4\" type=\"checkbox\" ><label for=\"sk-estimator-id-4\" class=\"sk-toggleable__label sk-toggleable__label-arrow\">PCA</label><div class=\"sk-toggleable__content\"><pre>PCA()</pre></div></div></div></div></div></div></div></div><div class=\"sk-item\"><div class=\"sk-estimator sk-toggleable\"><input class=\"sk-toggleable__control sk-hidden--visually\" id=\"sk-estimator-id-5\" type=\"checkbox\" ><label for=\"sk-estimator-id-5\" class=\"sk-toggleable__label sk-toggleable__label-arrow\">RandomForestClassifier</label><div class=\"sk-toggleable__content\"><pre>RandomForestClassifier()</pre></div></div></div></div></div></div></div>"
      ],
      "text/plain": [
       "Pipeline(steps=[('features',\n",
       "                 FeatureUnion(transformer_list=[('quantile_scaler',\n",
       "                                                 QuantileTransformer(output_distribution='normal')),\n",
       "                                                ('PCA', PCA())])),\n",
       "                ('Random_Forest', RandomForestClassifier())])"
      ]
     },
     "execution_count": 4,
     "metadata": {},
     "output_type": "execute_result"
    }
   ],
   "source": [
    "# Initializing the pipeline with the previously created features.\n",
    "\n",
    "pipeline = Pipeline([('features', features), ('Random_Forest', random_forest)])\n",
    "pipeline"
   ]
  },
  {
   "cell_type": "code",
   "execution_count": 14,
   "metadata": {},
   "outputs": [
    {
     "name": "stdout",
     "output_type": "stream",
     "text": [
      "Fitting 3 folds for each of 8 candidates, totalling 24 fits\n",
      "[CV 1/3] END features__PCA__n_components=5, features__quantile_scaler__output_distribution=uniform;, score=0.187 total time=  27.7s\n",
      "[CV 2/3] END features__PCA__n_components=5, features__quantile_scaler__output_distribution=uniform;, score=0.185 total time=  27.2s\n",
      "[CV 3/3] END features__PCA__n_components=5, features__quantile_scaler__output_distribution=uniform;, score=0.190 total time=  27.7s\n",
      "[CV 1/3] END features__PCA__n_components=5, features__quantile_scaler__output_distribution=normal;, score=0.183 total time=  27.8s\n",
      "[CV 2/3] END features__PCA__n_components=5, features__quantile_scaler__output_distribution=normal;, score=0.184 total time=  27.4s\n",
      "[CV 3/3] END features__PCA__n_components=5, features__quantile_scaler__output_distribution=normal;, score=0.195 total time=  27.4s\n",
      "[CV 1/3] END features__PCA__n_components=6, features__quantile_scaler__output_distribution=uniform;, score=0.182 total time=  28.2s\n",
      "[CV 2/3] END features__PCA__n_components=6, features__quantile_scaler__output_distribution=uniform;, score=0.182 total time=  27.4s\n",
      "[CV 3/3] END features__PCA__n_components=6, features__quantile_scaler__output_distribution=uniform;, score=0.195 total time=  28.0s\n",
      "[CV 1/3] END features__PCA__n_components=6, features__quantile_scaler__output_distribution=normal;, score=0.177 total time=  28.0s\n",
      "[CV 2/3] END features__PCA__n_components=6, features__quantile_scaler__output_distribution=normal;, score=0.181 total time=  27.8s\n",
      "[CV 3/3] END features__PCA__n_components=6, features__quantile_scaler__output_distribution=normal;, score=0.190 total time=  28.2s\n",
      "[CV 1/3] END features__PCA__n_components=7, features__quantile_scaler__output_distribution=uniform;, score=0.175 total time=  28.4s\n",
      "[CV 2/3] END features__PCA__n_components=7, features__quantile_scaler__output_distribution=uniform;, score=0.177 total time=  27.9s\n",
      "[CV 3/3] END features__PCA__n_components=7, features__quantile_scaler__output_distribution=uniform;, score=0.183 total time=  28.9s\n",
      "[CV 1/3] END features__PCA__n_components=7, features__quantile_scaler__output_distribution=normal;, score=0.176 total time=  28.7s\n",
      "[CV 2/3] END features__PCA__n_components=7, features__quantile_scaler__output_distribution=normal;, score=0.175 total time=  28.0s\n",
      "[CV 3/3] END features__PCA__n_components=7, features__quantile_scaler__output_distribution=normal;, score=0.188 total time=  28.4s\n",
      "[CV 1/3] END features__PCA__n_components=8, features__quantile_scaler__output_distribution=uniform;, score=0.177 total time=  37.6s\n",
      "[CV 2/3] END features__PCA__n_components=8, features__quantile_scaler__output_distribution=uniform;, score=0.177 total time=  36.8s\n",
      "[CV 3/3] END features__PCA__n_components=8, features__quantile_scaler__output_distribution=uniform;, score=0.188 total time=  37.6s\n",
      "[CV 1/3] END features__PCA__n_components=8, features__quantile_scaler__output_distribution=normal;, score=0.177 total time=  37.2s\n",
      "[CV 2/3] END features__PCA__n_components=8, features__quantile_scaler__output_distribution=normal;, score=0.179 total time=  36.9s\n",
      "[CV 3/3] END features__PCA__n_components=8, features__quantile_scaler__output_distribution=normal;, score=0.187 total time=  37.5s\n",
      "{'features__PCA__n_components': 5, 'features__quantile_scaler__output_distribution': 'uniform'}\n"
     ]
    }
   ],
   "source": [
    "# Running the first round of grid search for the ideal parameters for PCA.\n",
    "# The grid search process is split into several rounds to save what would otherwise be an overwhelming amount of computational power.\n",
    "\n",
    "pipeline = Pipeline([('features', features), ('Random_Forest', random_forest)])\n",
    "\n",
    "param_grid_round_1 = {'features__quantile_scaler__output_distribution': ['uniform', 'normal'],\n",
    "              'features__PCA__n_components': [5, 6, 7, 8],\n",
    "              'Random_Forest__n_jobs': [3]}\n",
    "\n",
    "\n",
    "grid_search_round_1 = GridSearchCV(pipeline, param_grid = param_grid_round_1, scoring = 'f1_weighted', verbose = 3, cv = 3)\n",
    "\n",
    "grid_search_round_1.fit(X_train, y_train)\n",
    "\n",
    "pickle.dump(grid_search_round_1, open('./Model_Files_Pickle/grid_search_round_1.pickle', 'wb'))\n",
    "\n",
    "print(grid_search_round_1.best_params_)"
   ]
  },
  {
   "cell_type": "code",
   "execution_count": 15,
   "metadata": {},
   "outputs": [
    {
     "name": "stdout",
     "output_type": "stream",
     "text": [
      "Fitting 3 folds for each of 6 candidates, totalling 18 fits\n",
      "[CV 1/3] END Random_Forest__criterion=gini, Random_Forest__n_estimators=50, features__PCA__n_components=5, features__quantile_scaler__output_distribution=uniform;, score=0.175 total time=  13.9s\n",
      "[CV 2/3] END Random_Forest__criterion=gini, Random_Forest__n_estimators=50, features__PCA__n_components=5, features__quantile_scaler__output_distribution=uniform;, score=0.174 total time=  13.7s\n",
      "[CV 3/3] END Random_Forest__criterion=gini, Random_Forest__n_estimators=50, features__PCA__n_components=5, features__quantile_scaler__output_distribution=uniform;, score=0.186 total time=  13.8s\n",
      "[CV 1/3] END Random_Forest__criterion=gini, Random_Forest__n_estimators=100, features__PCA__n_components=5, features__quantile_scaler__output_distribution=uniform;, score=0.183 total time=  27.9s\n",
      "[CV 2/3] END Random_Forest__criterion=gini, Random_Forest__n_estimators=100, features__PCA__n_components=5, features__quantile_scaler__output_distribution=uniform;, score=0.180 total time=  27.5s\n",
      "[CV 3/3] END Random_Forest__criterion=gini, Random_Forest__n_estimators=100, features__PCA__n_components=5, features__quantile_scaler__output_distribution=uniform;, score=0.195 total time=  27.9s\n",
      "[CV 1/3] END Random_Forest__criterion=gini, Random_Forest__n_estimators=200, features__PCA__n_components=5, features__quantile_scaler__output_distribution=uniform;, score=0.187 total time=  55.7s\n",
      "[CV 2/3] END Random_Forest__criterion=gini, Random_Forest__n_estimators=200, features__PCA__n_components=5, features__quantile_scaler__output_distribution=uniform;, score=0.187 total time=  54.6s\n",
      "[CV 3/3] END Random_Forest__criterion=gini, Random_Forest__n_estimators=200, features__PCA__n_components=5, features__quantile_scaler__output_distribution=uniform;, score=0.195 total time=  55.7s\n",
      "[CV 1/3] END Random_Forest__criterion=entropy, Random_Forest__n_estimators=50, features__PCA__n_components=5, features__quantile_scaler__output_distribution=uniform;, score=0.183 total time=  32.6s\n",
      "[CV 2/3] END Random_Forest__criterion=entropy, Random_Forest__n_estimators=50, features__PCA__n_components=5, features__quantile_scaler__output_distribution=uniform;, score=0.177 total time=  32.4s\n",
      "[CV 3/3] END Random_Forest__criterion=entropy, Random_Forest__n_estimators=50, features__PCA__n_components=5, features__quantile_scaler__output_distribution=uniform;, score=0.191 total time=  32.5s\n",
      "[CV 1/3] END Random_Forest__criterion=entropy, Random_Forest__n_estimators=100, features__PCA__n_components=5, features__quantile_scaler__output_distribution=uniform;, score=0.184 total time= 1.1min\n",
      "[CV 2/3] END Random_Forest__criterion=entropy, Random_Forest__n_estimators=100, features__PCA__n_components=5, features__quantile_scaler__output_distribution=uniform;, score=0.187 total time= 1.1min\n",
      "[CV 3/3] END Random_Forest__criterion=entropy, Random_Forest__n_estimators=100, features__PCA__n_components=5, features__quantile_scaler__output_distribution=uniform;, score=0.198 total time= 1.1min\n",
      "[CV 1/3] END Random_Forest__criterion=entropy, Random_Forest__n_estimators=200, features__PCA__n_components=5, features__quantile_scaler__output_distribution=uniform;, score=0.190 total time= 2.2min\n",
      "[CV 2/3] END Random_Forest__criterion=entropy, Random_Forest__n_estimators=200, features__PCA__n_components=5, features__quantile_scaler__output_distribution=uniform;, score=0.189 total time= 2.2min\n",
      "[CV 3/3] END Random_Forest__criterion=entropy, Random_Forest__n_estimators=200, features__PCA__n_components=5, features__quantile_scaler__output_distribution=uniform;, score=0.200 total time= 2.2min\n",
      "{'Random_Forest__criterion': 'entropy', 'Random_Forest__n_estimators': 200, 'features__PCA__n_components': 5, 'features__quantile_scaler__output_distribution': 'uniform'}\n"
     ]
    }
   ],
   "source": [
    "# The second round will focus on the important parameters for the Random Forest model.\n",
    "\n",
    "# grid_search_round_1 = pickle.load(open('./Model_Files_Pickle/grid_search_round_1.pickle', 'rb'))\n",
    "\n",
    "best_params_round_1 = grid_search_round_1.best_params_\n",
    "\n",
    "param_grid_round_2 = {'Random_Forest__n_estimators': [50, 100, 200],\n",
    "                      'Random_Forest__criterion': ['gini', 'entropy'],\n",
    "                      'Random_Forest__n_jobs': [3]}\n",
    "\n",
    "for key, value in grid_search_round_1.best_params_.items():\n",
    "    value_to_list = [value]\n",
    "    param_grid_round_2.update({key: value_to_list})\n",
    "\n",
    "grid_search_round_2 = GridSearchCV(pipeline, param_grid = param_grid_round_2, scoring = 'f1_weighted', verbose = 3, cv = 3)\n",
    "\n",
    "grid_search_round_2.fit(X_train, y_train)\n",
    "\n",
    "pickle.dump(grid_search_round_2, open('./Model_Files_Pickle/grid_search_round_2.pickle', 'wb'))\n",
    "\n",
    "print(grid_search_round_2.best_params_)"
   ]
  },
  {
   "cell_type": "code",
   "execution_count": 5,
   "metadata": {},
   "outputs": [
    {
     "name": "stdout",
     "output_type": "stream",
     "text": [
      "Fitting 3 folds for each of 9 candidates, totalling 27 fits\n",
      "[CV 1/3] END Random_Forest__criterion=entropy, Random_Forest__n_estimators=200, Random_Forest__n_jobs=3, features__PCA__n_components=3, features__quantile_scaler__output_distribution=uniform;, score=0.169 total time=  52.0s\n",
      "[CV 2/3] END Random_Forest__criterion=entropy, Random_Forest__n_estimators=200, Random_Forest__n_jobs=3, features__PCA__n_components=3, features__quantile_scaler__output_distribution=uniform;, score=0.193 total time=  50.8s\n",
      "[CV 3/3] END Random_Forest__criterion=entropy, Random_Forest__n_estimators=200, Random_Forest__n_jobs=3, features__PCA__n_components=3, features__quantile_scaler__output_distribution=uniform;, score=0.203 total time=  50.6s\n",
      "[CV 1/3] END Random_Forest__criterion=entropy, Random_Forest__n_estimators=200, Random_Forest__n_jobs=3, features__PCA__n_components=4, features__quantile_scaler__output_distribution=uniform;, score=0.165 total time=  53.2s\n",
      "[CV 2/3] END Random_Forest__criterion=entropy, Random_Forest__n_estimators=200, Random_Forest__n_jobs=3, features__PCA__n_components=4, features__quantile_scaler__output_distribution=uniform;, score=0.193 total time=  51.1s\n",
      "[CV 3/3] END Random_Forest__criterion=entropy, Random_Forest__n_estimators=200, Random_Forest__n_jobs=3, features__PCA__n_components=4, features__quantile_scaler__output_distribution=uniform;, score=0.201 total time=  51.3s\n",
      "[CV 1/3] END Random_Forest__criterion=entropy, Random_Forest__n_estimators=200, Random_Forest__n_jobs=3, features__PCA__n_components=5, features__quantile_scaler__output_distribution=uniform;, score=0.190 total time=  51.9s\n",
      "[CV 2/3] END Random_Forest__criterion=entropy, Random_Forest__n_estimators=200, Random_Forest__n_jobs=3, features__PCA__n_components=5, features__quantile_scaler__output_distribution=uniform;, score=0.191 total time=  52.0s\n",
      "[CV 3/3] END Random_Forest__criterion=entropy, Random_Forest__n_estimators=200, Random_Forest__n_jobs=3, features__PCA__n_components=5, features__quantile_scaler__output_distribution=uniform;, score=0.203 total time=  52.3s\n",
      "[CV 1/3] END Random_Forest__criterion=entropy, Random_Forest__n_estimators=250, Random_Forest__n_jobs=3, features__PCA__n_components=3, features__quantile_scaler__output_distribution=uniform;, score=0.168 total time= 1.1min\n",
      "[CV 2/3] END Random_Forest__criterion=entropy, Random_Forest__n_estimators=250, Random_Forest__n_jobs=3, features__PCA__n_components=3, features__quantile_scaler__output_distribution=uniform;, score=0.196 total time= 1.0min\n",
      "[CV 3/3] END Random_Forest__criterion=entropy, Random_Forest__n_estimators=250, Random_Forest__n_jobs=3, features__PCA__n_components=3, features__quantile_scaler__output_distribution=uniform;, score=0.205 total time= 1.0min\n",
      "[CV 1/3] END Random_Forest__criterion=entropy, Random_Forest__n_estimators=250, Random_Forest__n_jobs=3, features__PCA__n_components=4, features__quantile_scaler__output_distribution=uniform;, score=0.165 total time= 1.1min\n",
      "[CV 2/3] END Random_Forest__criterion=entropy, Random_Forest__n_estimators=250, Random_Forest__n_jobs=3, features__PCA__n_components=4, features__quantile_scaler__output_distribution=uniform;, score=0.195 total time= 1.1min\n",
      "[CV 3/3] END Random_Forest__criterion=entropy, Random_Forest__n_estimators=250, Random_Forest__n_jobs=3, features__PCA__n_components=4, features__quantile_scaler__output_distribution=uniform;, score=0.200 total time= 1.1min\n",
      "[CV 1/3] END Random_Forest__criterion=entropy, Random_Forest__n_estimators=250, Random_Forest__n_jobs=3, features__PCA__n_components=5, features__quantile_scaler__output_distribution=uniform;, score=0.188 total time= 1.1min\n",
      "[CV 2/3] END Random_Forest__criterion=entropy, Random_Forest__n_estimators=250, Random_Forest__n_jobs=3, features__PCA__n_components=5, features__quantile_scaler__output_distribution=uniform;, score=0.191 total time= 1.1min\n",
      "[CV 3/3] END Random_Forest__criterion=entropy, Random_Forest__n_estimators=250, Random_Forest__n_jobs=3, features__PCA__n_components=5, features__quantile_scaler__output_distribution=uniform;, score=0.199 total time= 1.0min\n",
      "[CV 1/3] END Random_Forest__criterion=entropy, Random_Forest__n_estimators=300, Random_Forest__n_jobs=3, features__PCA__n_components=3, features__quantile_scaler__output_distribution=uniform;, score=0.166 total time= 1.3min\n",
      "[CV 2/3] END Random_Forest__criterion=entropy, Random_Forest__n_estimators=300, Random_Forest__n_jobs=3, features__PCA__n_components=3, features__quantile_scaler__output_distribution=uniform;, score=0.196 total time= 1.3min\n",
      "[CV 3/3] END Random_Forest__criterion=entropy, Random_Forest__n_estimators=300, Random_Forest__n_jobs=3, features__PCA__n_components=3, features__quantile_scaler__output_distribution=uniform;, score=0.203 total time= 1.3min\n",
      "[CV 1/3] END Random_Forest__criterion=entropy, Random_Forest__n_estimators=300, Random_Forest__n_jobs=3, features__PCA__n_components=4, features__quantile_scaler__output_distribution=uniform;, score=0.165 total time= 1.3min\n",
      "[CV 2/3] END Random_Forest__criterion=entropy, Random_Forest__n_estimators=300, Random_Forest__n_jobs=3, features__PCA__n_components=4, features__quantile_scaler__output_distribution=uniform;, score=0.191 total time= 1.3min\n",
      "[CV 3/3] END Random_Forest__criterion=entropy, Random_Forest__n_estimators=300, Random_Forest__n_jobs=3, features__PCA__n_components=4, features__quantile_scaler__output_distribution=uniform;, score=0.205 total time= 1.3min\n",
      "[CV 1/3] END Random_Forest__criterion=entropy, Random_Forest__n_estimators=300, Random_Forest__n_jobs=3, features__PCA__n_components=5, features__quantile_scaler__output_distribution=uniform;, score=0.192 total time= 1.3min\n",
      "[CV 2/3] END Random_Forest__criterion=entropy, Random_Forest__n_estimators=300, Random_Forest__n_jobs=3, features__PCA__n_components=5, features__quantile_scaler__output_distribution=uniform;, score=0.194 total time= 1.3min\n",
      "[CV 3/3] END Random_Forest__criterion=entropy, Random_Forest__n_estimators=300, Random_Forest__n_jobs=3, features__PCA__n_components=5, features__quantile_scaler__output_distribution=uniform;, score=0.199 total time= 1.3min\n"
     ]
    },
    {
     "ename": "OSError",
     "evalue": "[Errno 28] No space left on device",
     "output_type": "error",
     "traceback": [
      "\u001b[1;31m---------------------------------------------------------------------------\u001b[0m",
      "\u001b[1;31mOSError\u001b[0m                                   Traceback (most recent call last)",
      "Cell \u001b[1;32mIn[5], line 16\u001b[0m\n\u001b[0;32m     12\u001b[0m grid_search_round_3 \u001b[39m=\u001b[39m GridSearchCV(pipeline, param_grid \u001b[39m=\u001b[39m param_grid_round_3, scoring \u001b[39m=\u001b[39m \u001b[39m'\u001b[39m\u001b[39mf1_weighted\u001b[39m\u001b[39m'\u001b[39m, verbose \u001b[39m=\u001b[39m \u001b[39m3\u001b[39m, cv \u001b[39m=\u001b[39m \u001b[39m3\u001b[39m)\n\u001b[0;32m     14\u001b[0m grid_search_round_3\u001b[39m.\u001b[39mfit(X_train, y_train)\n\u001b[1;32m---> 16\u001b[0m pickle\u001b[39m.\u001b[39mdump(grid_search_round_3, \u001b[39mopen\u001b[39m(\u001b[39m'\u001b[39m\u001b[39m./Model_Files_Pickle/grid_search_round_3.pickle\u001b[39m\u001b[39m'\u001b[39m, \u001b[39m'\u001b[39m\u001b[39mwb\u001b[39m\u001b[39m'\u001b[39m))\n\u001b[0;32m     18\u001b[0m \u001b[39mprint\u001b[39m(grid_search_round_3\u001b[39m.\u001b[39mbest_params_)\n",
      "\u001b[1;31mOSError\u001b[0m: [Errno 28] No space left on device"
     ]
    }
   ],
   "source": [
    "# The third round of the grid search is run, maintaining several optimal parameters from earlier rounds.\n",
    "# This round will rerun previously covered settings because several of the determined optimal parameters were at the bounds of the defined range.  \n",
    "\n",
    "# grid_search_round_2 = pickle.load(open('./Model_Files_Pickle/grid_search_round_2.pickle', 'rb'))\n",
    "\n",
    "param_grid_round_3 = {'Random_Forest__n_estimators': [200, 250, 300],\n",
    "                      'Random_Forest__criterion': ['entropy'],\n",
    "                      'Random_Forest__n_jobs': [3],\n",
    "                      'features__quantile_scaler__output_distribution': ['uniform'],\n",
    "                      'features__PCA__n_components': [3, 4, 5]}\n",
    "\n",
    "grid_search_round_3 = GridSearchCV(pipeline, param_grid = param_grid_round_3, scoring = 'f1_weighted', verbose = 3, cv = 3)\n",
    "\n",
    "grid_search_round_3.fit(X_train, y_train)\n",
    "\n",
    "pickle.dump(grid_search_round_3, open('./Model_Files_Pickle/grid_search_round_3.pickle', 'wb'))\n",
    "\n",
    "print(grid_search_round_3.best_params_)"
   ]
  },
  {
   "cell_type": "code",
   "execution_count": 47,
   "metadata": {},
   "outputs": [
    {
     "name": "stdout",
     "output_type": "stream",
     "text": [
      "Precision Score : 0.24388087138496128\n",
      "Recall Score : 0.24451827242524918\n",
      "F1 Score : 0.23616679502604565\n"
     ]
    }
   ],
   "source": [
    "# The model is run once more with the best parameters determined by the grid search.\n",
    "\n",
    "# grid_search_round_3 = pickle.load(open('./Model_Files_Pickle/grid_search_round_3.pickle', 'rb'))\n",
    "\n",
    "final_params = grid_search_round_3.best_params_\n",
    "\n",
    "final_pipeline = grid_search_round_3.best_estimator_\n",
    "\n",
    "final_pipeline.fit(X_train, y_train)\n",
    "\n",
    "y_pred = final_pipeline.predict(X_test)\n",
    "\n",
    "print(f'Precision Score : {precision_score(y_test, y_pred, average = \"weighted\", zero_division = 0)}')\n",
    "print(f'Recall Score : {recall_score(y_test, y_pred, average = \"weighted\")}')\n",
    "print(f'F1 Score : {f1_score(y_test, y_pred, average = \"weighted\")}')"
   ]
  },
  {
   "cell_type": "code",
   "execution_count": 45,
   "metadata": {},
   "outputs": [
    {
     "name": "stdout",
     "output_type": "stream",
     "text": [
      "Precision Score : 0.016284361333351653\n",
      "Recall Score : 0.016389811738648948\n",
      "F1 Score : 0.016294857731529073\n"
     ]
    }
   ],
   "source": [
    "# These scores provide a baseline from which to compare any models.\n",
    "# The DummyClassifier is naive, guessing mostly randomly, only taking the frequency of the industries into account for its predictions.\n",
    "# This is realistically the lowest score that a genuine model would output.\n",
    "from sklearn.dummy import DummyClassifier\n",
    "\n",
    "dummy = DummyClassifier(strategy = 'stratified')\n",
    "\n",
    "dummy.fit(X_train, y_train)\n",
    "\n",
    "dummy_pred = dummy.predict(X_test)\n",
    "\n",
    "print(f'Precision Score : {precision_score(y_test, dummy_pred, average = \"weighted\", zero_division = 0)}')\n",
    "print(f'Recall Score : {recall_score(y_test, dummy_pred, average = \"weighted\")}')\n",
    "print(f'F1 Score : {f1_score(y_test, dummy_pred, average = \"weighted\")}')"
   ]
  },
  {
   "cell_type": "code",
   "execution_count": 46,
   "metadata": {},
   "outputs": [
    {
     "name": "stdout",
     "output_type": "stream",
     "text": [
      "Precision Score : 0.2160195781693903\n",
      "Recall Score : 0.21461794019933556\n",
      "F1 Score : 0.20580463480091718\n"
     ]
    }
   ],
   "source": [
    "# This is a vanilla Random Forest model for score comparison.\n",
    "\n",
    "vanilla = RandomForestClassifier()\n",
    "\n",
    "vanilla.fit(X_train, y_train)\n",
    "\n",
    "vanilla_pred = vanilla.predict(X_test)\n",
    "\n",
    "print(f'Precision Score : {precision_score(y_test, vanilla_pred, average = \"weighted\", zero_division = 0)}')\n",
    "print(f'Recall Score : {recall_score(y_test, vanilla_pred, average = \"weighted\")}')\n",
    "print(f'F1 Score : {f1_score(y_test, vanilla_pred, average = \"weighted\")}')"
   ]
  },
  {
   "cell_type": "code",
   "execution_count": 42,
   "metadata": {},
   "outputs": [
    {
     "data": {
      "text/plain": [
       "array([[[4512,    1],\n",
       "        [   2,    0]],\n",
       "\n",
       "       [[4495,    6],\n",
       "        [  13,    1]],\n",
       "\n",
       "       [[4510,    2],\n",
       "        [   2,    1]],\n",
       "\n",
       "       ...,\n",
       "\n",
       "       [[4511,    2],\n",
       "        [   1,    1]],\n",
       "\n",
       "       [[4513,    0],\n",
       "        [   0,    2]],\n",
       "\n",
       "       [[4510,    2],\n",
       "        [   3,    0]]], dtype=int64)"
      ]
     },
     "execution_count": 42,
     "metadata": {},
     "output_type": "execute_result"
    }
   ],
   "source": [
    "multilabel_confusion_matrix(y_test, y_pred)\n",
    "# ConfusionMatrixDisplay.from_predictions(y_test, y_pred)"
   ]
  }
 ],
 "metadata": {
  "kernelspec": {
   "display_name": "Python 3",
   "language": "python",
   "name": "python3"
  },
  "language_info": {
   "codemirror_mode": {
    "name": "ipython",
    "version": 3
   },
   "file_extension": ".py",
   "mimetype": "text/x-python",
   "name": "python",
   "nbconvert_exporter": "python",
   "pygments_lexer": "ipython3",
   "version": "3.11.3"
  },
  "orig_nbformat": 4
 },
 "nbformat": 4,
 "nbformat_minor": 2
}
