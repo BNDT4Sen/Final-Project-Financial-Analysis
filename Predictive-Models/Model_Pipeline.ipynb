{
 "cells": [
  {
   "cell_type": "code",
   "execution_count": 166,
   "metadata": {},
   "outputs": [],
   "source": [
    "import pandas as pd\n",
    "import numpy as np\n",
    "from sklearn.decomposition import PCA\n",
    "from sklearn.ensemble import RandomForestClassifier\n",
    "from sklearn.preprocessing import LabelEncoder, QuantileTransformer, MinMaxScaler, StandardScaler\n",
    "from sklearn.model_selection import train_test_split, GridSearchCV\n",
    "from sklearn.pipeline import Pipeline, FeatureUnion\n",
    "from sklearn.metrics import recall_score, precision_score, precision_recall_curve, f1_score, multilabel_confusion_matrix\n",
    "\n",
    "model_df = pd.read_csv('../Data/model_data.csv', index_col = 0)\n",
    "target_encoding = LabelEncoder()\n",
    "model_df = model_df.groupby('industry').filter(lambda x : x['industry'].shape[0] >= 4)\n",
    "y = model_df['industry']\n",
    "y = target_encoding.fit_transform(y)\n",
    "model_df = model_df.drop(['industry', 'office'], axis = 1)\n",
    "df_columns = model_df.columns\n",
    "X = model_df[df_columns]"
   ]
  },
  {
   "cell_type": "code",
   "execution_count": 167,
   "metadata": {},
   "outputs": [],
   "source": [
    "X_train, X_test, y_train, y_test = train_test_split(X, y, test_size = 0.2, random_state = 42, stratify = y)"
   ]
  },
  {
   "cell_type": "code",
   "execution_count": 168,
   "metadata": {},
   "outputs": [],
   "source": [
    "# scaler_standard = StandardScaler()\n",
    "\n",
    "scaler_quantile = QuantileTransformer(output_distribution = 'normal')\n",
    "\n",
    "pca = PCA()\n",
    "\n",
    "random_forest = RandomForestClassifier()\n",
    "\n",
    "features = FeatureUnion([('quantile_scaler', scaler_quantile), ('PCA', pca)])"
   ]
  },
  {
   "cell_type": "code",
   "execution_count": 172,
   "metadata": {},
   "outputs": [
    {
     "data": {
      "text/html": [
       "<style>#sk-container-id-23 {color: black;background-color: white;}#sk-container-id-23 pre{padding: 0;}#sk-container-id-23 div.sk-toggleable {background-color: white;}#sk-container-id-23 label.sk-toggleable__label {cursor: pointer;display: block;width: 100%;margin-bottom: 0;padding: 0.3em;box-sizing: border-box;text-align: center;}#sk-container-id-23 label.sk-toggleable__label-arrow:before {content: \"▸\";float: left;margin-right: 0.25em;color: #696969;}#sk-container-id-23 label.sk-toggleable__label-arrow:hover:before {color: black;}#sk-container-id-23 div.sk-estimator:hover label.sk-toggleable__label-arrow:before {color: black;}#sk-container-id-23 div.sk-toggleable__content {max-height: 0;max-width: 0;overflow: hidden;text-align: left;background-color: #f0f8ff;}#sk-container-id-23 div.sk-toggleable__content pre {margin: 0.2em;color: black;border-radius: 0.25em;background-color: #f0f8ff;}#sk-container-id-23 input.sk-toggleable__control:checked~div.sk-toggleable__content {max-height: 200px;max-width: 100%;overflow: auto;}#sk-container-id-23 input.sk-toggleable__control:checked~label.sk-toggleable__label-arrow:before {content: \"▾\";}#sk-container-id-23 div.sk-estimator input.sk-toggleable__control:checked~label.sk-toggleable__label {background-color: #d4ebff;}#sk-container-id-23 div.sk-label input.sk-toggleable__control:checked~label.sk-toggleable__label {background-color: #d4ebff;}#sk-container-id-23 input.sk-hidden--visually {border: 0;clip: rect(1px 1px 1px 1px);clip: rect(1px, 1px, 1px, 1px);height: 1px;margin: -1px;overflow: hidden;padding: 0;position: absolute;width: 1px;}#sk-container-id-23 div.sk-estimator {font-family: monospace;background-color: #f0f8ff;border: 1px dotted black;border-radius: 0.25em;box-sizing: border-box;margin-bottom: 0.5em;}#sk-container-id-23 div.sk-estimator:hover {background-color: #d4ebff;}#sk-container-id-23 div.sk-parallel-item::after {content: \"\";width: 100%;border-bottom: 1px solid gray;flex-grow: 1;}#sk-container-id-23 div.sk-label:hover label.sk-toggleable__label {background-color: #d4ebff;}#sk-container-id-23 div.sk-serial::before {content: \"\";position: absolute;border-left: 1px solid gray;box-sizing: border-box;top: 0;bottom: 0;left: 50%;z-index: 0;}#sk-container-id-23 div.sk-serial {display: flex;flex-direction: column;align-items: center;background-color: white;padding-right: 0.2em;padding-left: 0.2em;position: relative;}#sk-container-id-23 div.sk-item {position: relative;z-index: 1;}#sk-container-id-23 div.sk-parallel {display: flex;align-items: stretch;justify-content: center;background-color: white;position: relative;}#sk-container-id-23 div.sk-item::before, #sk-container-id-23 div.sk-parallel-item::before {content: \"\";position: absolute;border-left: 1px solid gray;box-sizing: border-box;top: 0;bottom: 0;left: 50%;z-index: -1;}#sk-container-id-23 div.sk-parallel-item {display: flex;flex-direction: column;z-index: 1;position: relative;background-color: white;}#sk-container-id-23 div.sk-parallel-item:first-child::after {align-self: flex-end;width: 50%;}#sk-container-id-23 div.sk-parallel-item:last-child::after {align-self: flex-start;width: 50%;}#sk-container-id-23 div.sk-parallel-item:only-child::after {width: 0;}#sk-container-id-23 div.sk-dashed-wrapped {border: 1px dashed gray;margin: 0 0.4em 0.5em 0.4em;box-sizing: border-box;padding-bottom: 0.4em;background-color: white;}#sk-container-id-23 div.sk-label label {font-family: monospace;font-weight: bold;display: inline-block;line-height: 1.2em;}#sk-container-id-23 div.sk-label-container {text-align: center;}#sk-container-id-23 div.sk-container {/* jupyter's `normalize.less` sets `[hidden] { display: none; }` but bootstrap.min.css set `[hidden] { display: none !important; }` so we also need the `!important` here to be able to override the default hidden behavior on the sphinx rendered scikit-learn.org. See: https://github.com/scikit-learn/scikit-learn/issues/21755 */display: inline-block !important;position: relative;}#sk-container-id-23 div.sk-text-repr-fallback {display: none;}</style><div id=\"sk-container-id-23\" class=\"sk-top-container\"><div class=\"sk-text-repr-fallback\"><pre>Pipeline(steps=[(&#x27;features&#x27;,\n",
       "                 FeatureUnion(transformer_list=[(&#x27;quantile_scaler&#x27;,\n",
       "                                                 QuantileTransformer(output_distribution=&#x27;normal&#x27;)),\n",
       "                                                (&#x27;PCA&#x27;, PCA())])),\n",
       "                (&#x27;Random_Forest&#x27;, RandomForestClassifier())])</pre><b>In a Jupyter environment, please rerun this cell to show the HTML representation or trust the notebook. <br />On GitHub, the HTML representation is unable to render, please try loading this page with nbviewer.org.</b></div><div class=\"sk-container\" hidden><div class=\"sk-item sk-dashed-wrapped\"><div class=\"sk-label-container\"><div class=\"sk-label sk-toggleable\"><input class=\"sk-toggleable__control sk-hidden--visually\" id=\"sk-estimator-id-125\" type=\"checkbox\" ><label for=\"sk-estimator-id-125\" class=\"sk-toggleable__label sk-toggleable__label-arrow\">Pipeline</label><div class=\"sk-toggleable__content\"><pre>Pipeline(steps=[(&#x27;features&#x27;,\n",
       "                 FeatureUnion(transformer_list=[(&#x27;quantile_scaler&#x27;,\n",
       "                                                 QuantileTransformer(output_distribution=&#x27;normal&#x27;)),\n",
       "                                                (&#x27;PCA&#x27;, PCA())])),\n",
       "                (&#x27;Random_Forest&#x27;, RandomForestClassifier())])</pre></div></div></div><div class=\"sk-serial\"><div class=\"sk-item sk-dashed-wrapped\"><div class=\"sk-label-container\"><div class=\"sk-label sk-toggleable\"><input class=\"sk-toggleable__control sk-hidden--visually\" id=\"sk-estimator-id-126\" type=\"checkbox\" ><label for=\"sk-estimator-id-126\" class=\"sk-toggleable__label sk-toggleable__label-arrow\">features: FeatureUnion</label><div class=\"sk-toggleable__content\"><pre>FeatureUnion(transformer_list=[(&#x27;quantile_scaler&#x27;,\n",
       "                                QuantileTransformer(output_distribution=&#x27;normal&#x27;)),\n",
       "                               (&#x27;PCA&#x27;, PCA())])</pre></div></div></div><div class=\"sk-parallel\"><div class=\"sk-parallel-item\"><div class=\"sk-item\"><div class=\"sk-label-container\"><div class=\"sk-label sk-toggleable\"><label>quantile_scaler</label></div></div><div class=\"sk-serial\"><div class=\"sk-item\"><div class=\"sk-estimator sk-toggleable\"><input class=\"sk-toggleable__control sk-hidden--visually\" id=\"sk-estimator-id-127\" type=\"checkbox\" ><label for=\"sk-estimator-id-127\" class=\"sk-toggleable__label sk-toggleable__label-arrow\">QuantileTransformer</label><div class=\"sk-toggleable__content\"><pre>QuantileTransformer(output_distribution=&#x27;normal&#x27;)</pre></div></div></div></div></div></div><div class=\"sk-parallel-item\"><div class=\"sk-item\"><div class=\"sk-label-container\"><div class=\"sk-label sk-toggleable\"><label>PCA</label></div></div><div class=\"sk-serial\"><div class=\"sk-item\"><div class=\"sk-estimator sk-toggleable\"><input class=\"sk-toggleable__control sk-hidden--visually\" id=\"sk-estimator-id-128\" type=\"checkbox\" ><label for=\"sk-estimator-id-128\" class=\"sk-toggleable__label sk-toggleable__label-arrow\">PCA</label><div class=\"sk-toggleable__content\"><pre>PCA()</pre></div></div></div></div></div></div></div></div><div class=\"sk-item\"><div class=\"sk-estimator sk-toggleable\"><input class=\"sk-toggleable__control sk-hidden--visually\" id=\"sk-estimator-id-129\" type=\"checkbox\" ><label for=\"sk-estimator-id-129\" class=\"sk-toggleable__label sk-toggleable__label-arrow\">RandomForestClassifier</label><div class=\"sk-toggleable__content\"><pre>RandomForestClassifier()</pre></div></div></div></div></div></div></div>"
      ],
      "text/plain": [
       "Pipeline(steps=[('features',\n",
       "                 FeatureUnion(transformer_list=[('quantile_scaler',\n",
       "                                                 QuantileTransformer(output_distribution='normal')),\n",
       "                                                ('PCA', PCA())])),\n",
       "                ('Random_Forest', RandomForestClassifier())])"
      ]
     },
     "execution_count": 172,
     "metadata": {},
     "output_type": "execute_result"
    }
   ],
   "source": [
    "pipeline = Pipeline([('features', features), ('Random_Forest', random_forest)])\n",
    "pipeline"
   ]
  },
  {
   "cell_type": "code",
   "execution_count": 175,
   "metadata": {},
   "outputs": [],
   "source": [
    "param_grid = {'features__quantile_scaler__output_distribution': ['uniform', 'normal'],\n",
    "              'features__PCA__n_components': [5, 6, 7, 8],\n",
    "              'Random_Forest__n_estimators': [50, 100, 200],\n",
    "              'Random_Forest__criterion': ['gini', 'entropy']}"
   ]
  },
  {
   "cell_type": "code",
   "execution_count": 177,
   "metadata": {},
   "outputs": [
    {
     "name": "stdout",
     "output_type": "stream",
     "text": [
      "Fitting 3 folds for each of 48 candidates, totalling 144 fits\n",
      "[CV 1/3] END Random_Forest__criterion=gini, Random_Forest__n_estimators=50, features__PCA__n_components=5, features__quantile_scaler__output_distribution=uniform;, score=0.172 total time=  14.1s\n",
      "[CV 2/3] END Random_Forest__criterion=gini, Random_Forest__n_estimators=50, features__PCA__n_components=5, features__quantile_scaler__output_distribution=uniform;, score=0.174 total time=  14.0s\n",
      "[CV 3/3] END Random_Forest__criterion=gini, Random_Forest__n_estimators=50, features__PCA__n_components=5, features__quantile_scaler__output_distribution=uniform;, score=0.184 total time=  14.4s\n",
      "[CV 1/3] END Random_Forest__criterion=gini, Random_Forest__n_estimators=50, features__PCA__n_components=5, features__quantile_scaler__output_distribution=normal;, score=0.176 total time=  14.2s\n",
      "[CV 2/3] END Random_Forest__criterion=gini, Random_Forest__n_estimators=50, features__PCA__n_components=5, features__quantile_scaler__output_distribution=normal;, score=0.176 total time=  14.1s\n",
      "[CV 3/3] END Random_Forest__criterion=gini, Random_Forest__n_estimators=50, features__PCA__n_components=5, features__quantile_scaler__output_distribution=normal;, score=0.180 total time=  14.0s\n",
      "[CV 1/3] END Random_Forest__criterion=gini, Random_Forest__n_estimators=50, features__PCA__n_components=6, features__quantile_scaler__output_distribution=uniform;, score=0.171 total time=  14.1s\n",
      "[CV 2/3] END Random_Forest__criterion=gini, Random_Forest__n_estimators=50, features__PCA__n_components=6, features__quantile_scaler__output_distribution=uniform;, score=0.171 total time=  14.1s\n",
      "[CV 3/3] END Random_Forest__criterion=gini, Random_Forest__n_estimators=50, features__PCA__n_components=6, features__quantile_scaler__output_distribution=uniform;, score=0.179 total time=  14.5s\n",
      "[CV 1/3] END Random_Forest__criterion=gini, Random_Forest__n_estimators=50, features__PCA__n_components=6, features__quantile_scaler__output_distribution=normal;, score=0.171 total time=  14.3s\n",
      "[CV 2/3] END Random_Forest__criterion=gini, Random_Forest__n_estimators=50, features__PCA__n_components=6, features__quantile_scaler__output_distribution=normal;, score=0.174 total time=  13.9s\n",
      "[CV 3/3] END Random_Forest__criterion=gini, Random_Forest__n_estimators=50, features__PCA__n_components=6, features__quantile_scaler__output_distribution=normal;, score=0.181 total time=  14.3s\n",
      "[CV 1/3] END Random_Forest__criterion=gini, Random_Forest__n_estimators=50, features__PCA__n_components=7, features__quantile_scaler__output_distribution=uniform;, score=0.168 total time=  14.5s\n",
      "[CV 2/3] END Random_Forest__criterion=gini, Random_Forest__n_estimators=50, features__PCA__n_components=7, features__quantile_scaler__output_distribution=uniform;, score=0.165 total time=  14.3s\n",
      "[CV 3/3] END Random_Forest__criterion=gini, Random_Forest__n_estimators=50, features__PCA__n_components=7, features__quantile_scaler__output_distribution=uniform;, score=0.177 total time=  14.5s\n",
      "[CV 1/3] END Random_Forest__criterion=gini, Random_Forest__n_estimators=50, features__PCA__n_components=7, features__quantile_scaler__output_distribution=normal;, score=0.163 total time=  14.4s\n",
      "[CV 2/3] END Random_Forest__criterion=gini, Random_Forest__n_estimators=50, features__PCA__n_components=7, features__quantile_scaler__output_distribution=normal;, score=0.172 total time=  14.5s\n",
      "[CV 3/3] END Random_Forest__criterion=gini, Random_Forest__n_estimators=50, features__PCA__n_components=7, features__quantile_scaler__output_distribution=normal;, score=0.179 total time=  14.3s\n",
      "[CV 1/3] END Random_Forest__criterion=gini, Random_Forest__n_estimators=50, features__PCA__n_components=8, features__quantile_scaler__output_distribution=uniform;, score=0.166 total time=  18.9s\n",
      "[CV 2/3] END Random_Forest__criterion=gini, Random_Forest__n_estimators=50, features__PCA__n_components=8, features__quantile_scaler__output_distribution=uniform;, score=0.171 total time=  18.6s\n",
      "[CV 3/3] END Random_Forest__criterion=gini, Random_Forest__n_estimators=50, features__PCA__n_components=8, features__quantile_scaler__output_distribution=uniform;, score=0.175 total time=  19.0s\n",
      "[CV 1/3] END Random_Forest__criterion=gini, Random_Forest__n_estimators=50, features__PCA__n_components=8, features__quantile_scaler__output_distribution=normal;, score=0.166 total time=  19.2s\n",
      "[CV 2/3] END Random_Forest__criterion=gini, Random_Forest__n_estimators=50, features__PCA__n_components=8, features__quantile_scaler__output_distribution=normal;, score=0.171 total time=  18.9s\n",
      "[CV 3/3] END Random_Forest__criterion=gini, Random_Forest__n_estimators=50, features__PCA__n_components=8, features__quantile_scaler__output_distribution=normal;, score=0.183 total time=  19.0s\n",
      "[CV 1/3] END Random_Forest__criterion=gini, Random_Forest__n_estimators=100, features__PCA__n_components=5, features__quantile_scaler__output_distribution=uniform;, score=0.182 total time=  28.4s\n",
      "[CV 2/3] END Random_Forest__criterion=gini, Random_Forest__n_estimators=100, features__PCA__n_components=5, features__quantile_scaler__output_distribution=uniform;, score=0.183 total time=  27.7s\n",
      "[CV 3/3] END Random_Forest__criterion=gini, Random_Forest__n_estimators=100, features__PCA__n_components=5, features__quantile_scaler__output_distribution=uniform;, score=0.193 total time=  28.2s\n",
      "[CV 1/3] END Random_Forest__criterion=gini, Random_Forest__n_estimators=100, features__PCA__n_components=5, features__quantile_scaler__output_distribution=normal;, score=0.184 total time=  28.2s\n",
      "[CV 2/3] END Random_Forest__criterion=gini, Random_Forest__n_estimators=100, features__PCA__n_components=5, features__quantile_scaler__output_distribution=normal;, score=0.184 total time=  28.0s\n",
      "[CV 3/3] END Random_Forest__criterion=gini, Random_Forest__n_estimators=100, features__PCA__n_components=5, features__quantile_scaler__output_distribution=normal;, score=0.192 total time=  28.1s\n",
      "[CV 1/3] END Random_Forest__criterion=gini, Random_Forest__n_estimators=100, features__PCA__n_components=6, features__quantile_scaler__output_distribution=uniform;, score=0.182 total time=  28.6s\n",
      "[CV 2/3] END Random_Forest__criterion=gini, Random_Forest__n_estimators=100, features__PCA__n_components=6, features__quantile_scaler__output_distribution=uniform;, score=0.177 total time=  28.3s\n",
      "[CV 3/3] END Random_Forest__criterion=gini, Random_Forest__n_estimators=100, features__PCA__n_components=6, features__quantile_scaler__output_distribution=uniform;, score=0.190 total time=  28.5s\n",
      "[CV 1/3] END Random_Forest__criterion=gini, Random_Forest__n_estimators=100, features__PCA__n_components=6, features__quantile_scaler__output_distribution=normal;, score=0.177 total time=  28.5s\n",
      "[CV 2/3] END Random_Forest__criterion=gini, Random_Forest__n_estimators=100, features__PCA__n_components=6, features__quantile_scaler__output_distribution=normal;, score=0.180 total time=  28.2s\n",
      "[CV 3/3] END Random_Forest__criterion=gini, Random_Forest__n_estimators=100, features__PCA__n_components=6, features__quantile_scaler__output_distribution=normal;, score=0.188 total time=  28.6s\n",
      "[CV 1/3] END Random_Forest__criterion=gini, Random_Forest__n_estimators=100, features__PCA__n_components=7, features__quantile_scaler__output_distribution=uniform;, score=0.178 total time=  28.8s\n",
      "[CV 2/3] END Random_Forest__criterion=gini, Random_Forest__n_estimators=100, features__PCA__n_components=7, features__quantile_scaler__output_distribution=uniform;, score=0.174 total time=  28.4s\n",
      "[CV 3/3] END Random_Forest__criterion=gini, Random_Forest__n_estimators=100, features__PCA__n_components=7, features__quantile_scaler__output_distribution=uniform;, score=0.183 total time=  28.8s\n",
      "[CV 1/3] END Random_Forest__criterion=gini, Random_Forest__n_estimators=100, features__PCA__n_components=7, features__quantile_scaler__output_distribution=normal;, score=0.181 total time=  28.7s\n",
      "[CV 2/3] END Random_Forest__criterion=gini, Random_Forest__n_estimators=100, features__PCA__n_components=7, features__quantile_scaler__output_distribution=normal;, score=0.174 total time=  28.5s\n",
      "[CV 3/3] END Random_Forest__criterion=gini, Random_Forest__n_estimators=100, features__PCA__n_components=7, features__quantile_scaler__output_distribution=normal;, score=0.188 total time=  28.9s\n",
      "[CV 1/3] END Random_Forest__criterion=gini, Random_Forest__n_estimators=100, features__PCA__n_components=8, features__quantile_scaler__output_distribution=uniform;, score=0.174 total time=  38.2s\n",
      "[CV 2/3] END Random_Forest__criterion=gini, Random_Forest__n_estimators=100, features__PCA__n_components=8, features__quantile_scaler__output_distribution=uniform;, score=0.175 total time=  37.9s\n",
      "[CV 3/3] END Random_Forest__criterion=gini, Random_Forest__n_estimators=100, features__PCA__n_components=8, features__quantile_scaler__output_distribution=uniform;, score=0.185 total time=  38.4s\n",
      "[CV 1/3] END Random_Forest__criterion=gini, Random_Forest__n_estimators=100, features__PCA__n_components=8, features__quantile_scaler__output_distribution=normal;, score=0.182 total time=  38.2s\n",
      "[CV 2/3] END Random_Forest__criterion=gini, Random_Forest__n_estimators=100, features__PCA__n_components=8, features__quantile_scaler__output_distribution=normal;, score=0.179 total time=  37.8s\n",
      "[CV 3/3] END Random_Forest__criterion=gini, Random_Forest__n_estimators=100, features__PCA__n_components=8, features__quantile_scaler__output_distribution=normal;, score=0.186 total time=  38.2s\n",
      "[CV 1/3] END Random_Forest__criterion=gini, Random_Forest__n_estimators=200, features__PCA__n_components=5, features__quantile_scaler__output_distribution=uniform;, score=0.190 total time=  56.8s\n",
      "[CV 2/3] END Random_Forest__criterion=gini, Random_Forest__n_estimators=200, features__PCA__n_components=5, features__quantile_scaler__output_distribution=uniform;, score=0.188 total time=  56.8s\n",
      "[CV 3/3] END Random_Forest__criterion=gini, Random_Forest__n_estimators=200, features__PCA__n_components=5, features__quantile_scaler__output_distribution=uniform;, score=0.199 total time=  56.5s\n",
      "[CV 1/3] END Random_Forest__criterion=gini, Random_Forest__n_estimators=200, features__PCA__n_components=5, features__quantile_scaler__output_distribution=normal;, score=0.185 total time=  56.6s\n",
      "[CV 2/3] END Random_Forest__criterion=gini, Random_Forest__n_estimators=200, features__PCA__n_components=5, features__quantile_scaler__output_distribution=normal;, score=0.187 total time=  55.7s\n",
      "[CV 3/3] END Random_Forest__criterion=gini, Random_Forest__n_estimators=200, features__PCA__n_components=5, features__quantile_scaler__output_distribution=normal;, score=0.202 total time=  56.6s\n",
      "[CV 1/3] END Random_Forest__criterion=gini, Random_Forest__n_estimators=200, features__PCA__n_components=6, features__quantile_scaler__output_distribution=uniform;, score=0.185 total time=  57.3s\n",
      "[CV 2/3] END Random_Forest__criterion=gini, Random_Forest__n_estimators=200, features__PCA__n_components=6, features__quantile_scaler__output_distribution=uniform;, score=0.186 total time=  56.9s\n",
      "[CV 3/3] END Random_Forest__criterion=gini, Random_Forest__n_estimators=200, features__PCA__n_components=6, features__quantile_scaler__output_distribution=uniform;, score=0.194 total time=  57.2s\n",
      "[CV 1/3] END Random_Forest__criterion=gini, Random_Forest__n_estimators=200, features__PCA__n_components=6, features__quantile_scaler__output_distribution=normal;, score=0.184 total time=  57.6s\n",
      "[CV 2/3] END Random_Forest__criterion=gini, Random_Forest__n_estimators=200, features__PCA__n_components=6, features__quantile_scaler__output_distribution=normal;, score=0.186 total time=  56.2s\n",
      "[CV 3/3] END Random_Forest__criterion=gini, Random_Forest__n_estimators=200, features__PCA__n_components=6, features__quantile_scaler__output_distribution=normal;, score=0.194 total time=  57.0s\n",
      "[CV 1/3] END Random_Forest__criterion=gini, Random_Forest__n_estimators=200, features__PCA__n_components=7, features__quantile_scaler__output_distribution=uniform;, score=0.181 total time=  58.0s\n",
      "[CV 2/3] END Random_Forest__criterion=gini, Random_Forest__n_estimators=200, features__PCA__n_components=7, features__quantile_scaler__output_distribution=uniform;, score=0.181 total time=  56.9s\n",
      "[CV 3/3] END Random_Forest__criterion=gini, Random_Forest__n_estimators=200, features__PCA__n_components=7, features__quantile_scaler__output_distribution=uniform;, score=0.195 total time=  57.5s\n",
      "[CV 1/3] END Random_Forest__criterion=gini, Random_Forest__n_estimators=200, features__PCA__n_components=7, features__quantile_scaler__output_distribution=normal;, score=0.179 total time=  58.0s\n",
      "[CV 2/3] END Random_Forest__criterion=gini, Random_Forest__n_estimators=200, features__PCA__n_components=7, features__quantile_scaler__output_distribution=normal;, score=0.183 total time=  57.2s\n",
      "[CV 3/3] END Random_Forest__criterion=gini, Random_Forest__n_estimators=200, features__PCA__n_components=7, features__quantile_scaler__output_distribution=normal;, score=0.190 total time=  57.8s\n"
     ]
    }
   ],
   "source": [
    "grid_search = GridSearchCV(pipeline, param_grid = param_grid, scoring = 'f1_weighted', verbose = 3, cv = 3)\n",
    "\n",
    "grid_search.fit(X_train, y_train)\n",
    "\n",
    "print(grid_search.best_params_)"
   ]
  },
  {
   "cell_type": "code",
   "execution_count": 145,
   "metadata": {},
   "outputs": [
    {
     "name": "stdout",
     "output_type": "stream",
     "text": [
      "[Pipeline] .......... (step 1 of 2) Processing features, total=   0.0s\n",
      "[Pipeline] ..... (step 2 of 2) Processing random_forest, total=  55.0s\n"
     ]
    },
    {
     "data": {
      "text/html": [
       "<style>#sk-container-id-18 {color: black;background-color: white;}#sk-container-id-18 pre{padding: 0;}#sk-container-id-18 div.sk-toggleable {background-color: white;}#sk-container-id-18 label.sk-toggleable__label {cursor: pointer;display: block;width: 100%;margin-bottom: 0;padding: 0.3em;box-sizing: border-box;text-align: center;}#sk-container-id-18 label.sk-toggleable__label-arrow:before {content: \"▸\";float: left;margin-right: 0.25em;color: #696969;}#sk-container-id-18 label.sk-toggleable__label-arrow:hover:before {color: black;}#sk-container-id-18 div.sk-estimator:hover label.sk-toggleable__label-arrow:before {color: black;}#sk-container-id-18 div.sk-toggleable__content {max-height: 0;max-width: 0;overflow: hidden;text-align: left;background-color: #f0f8ff;}#sk-container-id-18 div.sk-toggleable__content pre {margin: 0.2em;color: black;border-radius: 0.25em;background-color: #f0f8ff;}#sk-container-id-18 input.sk-toggleable__control:checked~div.sk-toggleable__content {max-height: 200px;max-width: 100%;overflow: auto;}#sk-container-id-18 input.sk-toggleable__control:checked~label.sk-toggleable__label-arrow:before {content: \"▾\";}#sk-container-id-18 div.sk-estimator input.sk-toggleable__control:checked~label.sk-toggleable__label {background-color: #d4ebff;}#sk-container-id-18 div.sk-label input.sk-toggleable__control:checked~label.sk-toggleable__label {background-color: #d4ebff;}#sk-container-id-18 input.sk-hidden--visually {border: 0;clip: rect(1px 1px 1px 1px);clip: rect(1px, 1px, 1px, 1px);height: 1px;margin: -1px;overflow: hidden;padding: 0;position: absolute;width: 1px;}#sk-container-id-18 div.sk-estimator {font-family: monospace;background-color: #f0f8ff;border: 1px dotted black;border-radius: 0.25em;box-sizing: border-box;margin-bottom: 0.5em;}#sk-container-id-18 div.sk-estimator:hover {background-color: #d4ebff;}#sk-container-id-18 div.sk-parallel-item::after {content: \"\";width: 100%;border-bottom: 1px solid gray;flex-grow: 1;}#sk-container-id-18 div.sk-label:hover label.sk-toggleable__label {background-color: #d4ebff;}#sk-container-id-18 div.sk-serial::before {content: \"\";position: absolute;border-left: 1px solid gray;box-sizing: border-box;top: 0;bottom: 0;left: 50%;z-index: 0;}#sk-container-id-18 div.sk-serial {display: flex;flex-direction: column;align-items: center;background-color: white;padding-right: 0.2em;padding-left: 0.2em;position: relative;}#sk-container-id-18 div.sk-item {position: relative;z-index: 1;}#sk-container-id-18 div.sk-parallel {display: flex;align-items: stretch;justify-content: center;background-color: white;position: relative;}#sk-container-id-18 div.sk-item::before, #sk-container-id-18 div.sk-parallel-item::before {content: \"\";position: absolute;border-left: 1px solid gray;box-sizing: border-box;top: 0;bottom: 0;left: 50%;z-index: -1;}#sk-container-id-18 div.sk-parallel-item {display: flex;flex-direction: column;z-index: 1;position: relative;background-color: white;}#sk-container-id-18 div.sk-parallel-item:first-child::after {align-self: flex-end;width: 50%;}#sk-container-id-18 div.sk-parallel-item:last-child::after {align-self: flex-start;width: 50%;}#sk-container-id-18 div.sk-parallel-item:only-child::after {width: 0;}#sk-container-id-18 div.sk-dashed-wrapped {border: 1px dashed gray;margin: 0 0.4em 0.5em 0.4em;box-sizing: border-box;padding-bottom: 0.4em;background-color: white;}#sk-container-id-18 div.sk-label label {font-family: monospace;font-weight: bold;display: inline-block;line-height: 1.2em;}#sk-container-id-18 div.sk-label-container {text-align: center;}#sk-container-id-18 div.sk-container {/* jupyter's `normalize.less` sets `[hidden] { display: none; }` but bootstrap.min.css set `[hidden] { display: none !important; }` so we also need the `!important` here to be able to override the default hidden behavior on the sphinx rendered scikit-learn.org. See: https://github.com/scikit-learn/scikit-learn/issues/21755 */display: inline-block !important;position: relative;}#sk-container-id-18 div.sk-text-repr-fallback {display: none;}</style><div id=\"sk-container-id-18\" class=\"sk-top-container\"><div class=\"sk-text-repr-fallback\"><pre>Pipeline(steps=[(&#x27;features&#x27;,\n",
       "                 FeatureUnion(transformer_list=[(&#x27;standard_scaler&#x27;,\n",
       "                                                 StandardScaler()),\n",
       "                                                (&#x27;quantile_scaler&#x27;,\n",
       "                                                 QuantileTransformer(output_distribution=&#x27;normal&#x27;)),\n",
       "                                                (&#x27;PCA&#x27;, PCA())])),\n",
       "                (&#x27;random_forest&#x27;, RandomForestClassifier())],\n",
       "         verbose=True)</pre><b>In a Jupyter environment, please rerun this cell to show the HTML representation or trust the notebook. <br />On GitHub, the HTML representation is unable to render, please try loading this page with nbviewer.org.</b></div><div class=\"sk-container\" hidden><div class=\"sk-item sk-dashed-wrapped\"><div class=\"sk-label-container\"><div class=\"sk-label sk-toggleable\"><input class=\"sk-toggleable__control sk-hidden--visually\" id=\"sk-estimator-id-99\" type=\"checkbox\" ><label for=\"sk-estimator-id-99\" class=\"sk-toggleable__label sk-toggleable__label-arrow\">Pipeline</label><div class=\"sk-toggleable__content\"><pre>Pipeline(steps=[(&#x27;features&#x27;,\n",
       "                 FeatureUnion(transformer_list=[(&#x27;standard_scaler&#x27;,\n",
       "                                                 StandardScaler()),\n",
       "                                                (&#x27;quantile_scaler&#x27;,\n",
       "                                                 QuantileTransformer(output_distribution=&#x27;normal&#x27;)),\n",
       "                                                (&#x27;PCA&#x27;, PCA())])),\n",
       "                (&#x27;random_forest&#x27;, RandomForestClassifier())],\n",
       "         verbose=True)</pre></div></div></div><div class=\"sk-serial\"><div class=\"sk-item sk-dashed-wrapped\"><div class=\"sk-label-container\"><div class=\"sk-label sk-toggleable\"><input class=\"sk-toggleable__control sk-hidden--visually\" id=\"sk-estimator-id-100\" type=\"checkbox\" ><label for=\"sk-estimator-id-100\" class=\"sk-toggleable__label sk-toggleable__label-arrow\">features: FeatureUnion</label><div class=\"sk-toggleable__content\"><pre>FeatureUnion(transformer_list=[(&#x27;standard_scaler&#x27;, StandardScaler()),\n",
       "                               (&#x27;quantile_scaler&#x27;,\n",
       "                                QuantileTransformer(output_distribution=&#x27;normal&#x27;)),\n",
       "                               (&#x27;PCA&#x27;, PCA())])</pre></div></div></div><div class=\"sk-parallel\"><div class=\"sk-parallel-item\"><div class=\"sk-item\"><div class=\"sk-label-container\"><div class=\"sk-label sk-toggleable\"><label>standard_scaler</label></div></div><div class=\"sk-serial\"><div class=\"sk-item\"><div class=\"sk-estimator sk-toggleable\"><input class=\"sk-toggleable__control sk-hidden--visually\" id=\"sk-estimator-id-101\" type=\"checkbox\" ><label for=\"sk-estimator-id-101\" class=\"sk-toggleable__label sk-toggleable__label-arrow\">StandardScaler</label><div class=\"sk-toggleable__content\"><pre>StandardScaler()</pre></div></div></div></div></div></div><div class=\"sk-parallel-item\"><div class=\"sk-item\"><div class=\"sk-label-container\"><div class=\"sk-label sk-toggleable\"><label>quantile_scaler</label></div></div><div class=\"sk-serial\"><div class=\"sk-item\"><div class=\"sk-estimator sk-toggleable\"><input class=\"sk-toggleable__control sk-hidden--visually\" id=\"sk-estimator-id-102\" type=\"checkbox\" ><label for=\"sk-estimator-id-102\" class=\"sk-toggleable__label sk-toggleable__label-arrow\">QuantileTransformer</label><div class=\"sk-toggleable__content\"><pre>QuantileTransformer(output_distribution=&#x27;normal&#x27;)</pre></div></div></div></div></div></div><div class=\"sk-parallel-item\"><div class=\"sk-item\"><div class=\"sk-label-container\"><div class=\"sk-label sk-toggleable\"><label>PCA</label></div></div><div class=\"sk-serial\"><div class=\"sk-item\"><div class=\"sk-estimator sk-toggleable\"><input class=\"sk-toggleable__control sk-hidden--visually\" id=\"sk-estimator-id-103\" type=\"checkbox\" ><label for=\"sk-estimator-id-103\" class=\"sk-toggleable__label sk-toggleable__label-arrow\">PCA</label><div class=\"sk-toggleable__content\"><pre>PCA()</pre></div></div></div></div></div></div></div></div><div class=\"sk-item\"><div class=\"sk-estimator sk-toggleable\"><input class=\"sk-toggleable__control sk-hidden--visually\" id=\"sk-estimator-id-104\" type=\"checkbox\" ><label for=\"sk-estimator-id-104\" class=\"sk-toggleable__label sk-toggleable__label-arrow\">RandomForestClassifier</label><div class=\"sk-toggleable__content\"><pre>RandomForestClassifier()</pre></div></div></div></div></div></div></div>"
      ],
      "text/plain": [
       "Pipeline(steps=[('features',\n",
       "                 FeatureUnion(transformer_list=[('standard_scaler',\n",
       "                                                 StandardScaler()),\n",
       "                                                ('quantile_scaler',\n",
       "                                                 QuantileTransformer(output_distribution='normal')),\n",
       "                                                ('PCA', PCA())])),\n",
       "                ('random_forest', RandomForestClassifier())],\n",
       "         verbose=True)"
      ]
     },
     "execution_count": 145,
     "metadata": {},
     "output_type": "execute_result"
    }
   ],
   "source": [
    "pipeline.fit(X_train, y_train)"
   ]
  },
  {
   "cell_type": "code",
   "execution_count": 146,
   "metadata": {},
   "outputs": [
    {
     "name": "stdout",
     "output_type": "stream",
     "text": [
      "0.22620628596724215\n",
      "0.23193468037553674\n",
      "0.218253861613946\n"
     ]
    }
   ],
   "source": [
    "y_pred = pipeline.predict(X_test)\n",
    "\n",
    "\n",
    "print(recall_score(y_test, y_pred, average = 'weighted'))\n",
    "print(precision_score(y_test, y_pred, average = 'weighted', zero_division = 0))\n",
    "print(f1_score(y_test, y_pred, average = 'weighted'))"
   ]
  },
  {
   "cell_type": "code",
   "execution_count": 147,
   "metadata": {},
   "outputs": [
    {
     "name": "stdout",
     "output_type": "stream",
     "text": [
      "0.015493581230633024\n",
      "0.01538736515568725\n",
      "0.015408673522316948\n"
     ]
    }
   ],
   "source": [
    "from sklearn.dummy import DummyClassifier\n",
    "\n",
    "dummy = DummyClassifier(strategy = 'stratified')\n",
    "\n",
    "dummy.fit(X_train, y_train)\n",
    "\n",
    "dummy_pred = dummy.predict(X_test)\n",
    "\n",
    "print(recall_score(y_test, dummy_pred, average = 'weighted', zero_division = 0))\n",
    "print(precision_score(y_test, dummy_pred, average = 'weighted', zero_division = 0))\n",
    "print(f1_score(y_test, dummy_pred, average = 'weighted'))"
   ]
  },
  {
   "cell_type": "code",
   "execution_count": 135,
   "metadata": {},
   "outputs": [
    {
     "data": {
      "text/plain": [
       "array([[[4515,    1],\n",
       "        [   2,    0]],\n",
       "\n",
       "       [[4492,   12],\n",
       "        [  12,    2]],\n",
       "\n",
       "       [[4514,    1],\n",
       "        [   2,    1]],\n",
       "\n",
       "       ...,\n",
       "\n",
       "       [[4514,    2],\n",
       "        [   1,    1]],\n",
       "\n",
       "       [[4515,    1],\n",
       "        [   0,    2]],\n",
       "\n",
       "       [[4514,    1],\n",
       "        [   3,    0]]], dtype=int64)"
      ]
     },
     "execution_count": 135,
     "metadata": {},
     "output_type": "execute_result"
    }
   ],
   "source": [
    "multilabel_confusion_matrix(y_test, y_pred)"
   ]
  }
 ],
 "metadata": {
  "kernelspec": {
   "display_name": "Python 3",
   "language": "python",
   "name": "python3"
  },
  "language_info": {
   "codemirror_mode": {
    "name": "ipython",
    "version": 3
   },
   "file_extension": ".py",
   "mimetype": "text/x-python",
   "name": "python",
   "nbconvert_exporter": "python",
   "pygments_lexer": "ipython3",
   "version": "3.11.3"
  },
  "orig_nbformat": 4
 },
 "nbformat": 4,
 "nbformat_minor": 2
}
