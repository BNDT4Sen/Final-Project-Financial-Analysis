{
 "cells": [
  {
   "cell_type": "code",
   "execution_count": 1,
   "metadata": {},
   "outputs": [
    {
     "data": {
      "text/html": [
       "<div>\n",
       "<style scoped>\n",
       "    .dataframe tbody tr th:only-of-type {\n",
       "        vertical-align: middle;\n",
       "    }\n",
       "\n",
       "    .dataframe tbody tr th {\n",
       "        vertical-align: top;\n",
       "    }\n",
       "\n",
       "    .dataframe thead th {\n",
       "        text-align: right;\n",
       "    }\n",
       "</style>\n",
       "<table border=\"1\" class=\"dataframe\">\n",
       "  <thead>\n",
       "    <tr style=\"text-align: right;\">\n",
       "      <th></th>\n",
       "      <th>current_ratio</th>\n",
       "      <th>operating_cash_flow</th>\n",
       "      <th>debt_to_equity</th>\n",
       "      <th>interest_coverage</th>\n",
       "      <th>operating_margin</th>\n",
       "      <th>return_on_assets</th>\n",
       "      <th>return_on_equity</th>\n",
       "      <th>office</th>\n",
       "      <th>has_interest_payments</th>\n",
       "    </tr>\n",
       "  </thead>\n",
       "  <tbody>\n",
       "    <tr>\n",
       "      <th>0001090872:2011:FY</th>\n",
       "      <td>3.031573</td>\n",
       "      <td>0.477953</td>\n",
       "      <td>1.098471</td>\n",
       "      <td>12.453488</td>\n",
       "      <td>0.533485</td>\n",
       "      <td>0.111737</td>\n",
       "      <td>0.234476</td>\n",
       "      <td>Industrial Applications and Services</td>\n",
       "      <td>1</td>\n",
       "    </tr>\n",
       "    <tr>\n",
       "      <th>0001090872:2012:FY</th>\n",
       "      <td>2.445325</td>\n",
       "      <td>-0.621236</td>\n",
       "      <td>1.032015</td>\n",
       "      <td>11.079208</td>\n",
       "      <td>0.525518</td>\n",
       "      <td>0.109434</td>\n",
       "      <td>0.222372</td>\n",
       "      <td>Industrial Applications and Services</td>\n",
       "      <td>1</td>\n",
       "    </tr>\n",
       "    <tr>\n",
       "      <th>0001090872:2013:FY</th>\n",
       "      <td>3.110487</td>\n",
       "      <td>0.202247</td>\n",
       "      <td>1.020420</td>\n",
       "      <td>8.887850</td>\n",
       "      <td>0.521233</td>\n",
       "      <td>0.067752</td>\n",
       "      <td>0.136888</td>\n",
       "      <td>Industrial Applications and Services</td>\n",
       "      <td>1</td>\n",
       "    </tr>\n",
       "  </tbody>\n",
       "</table>\n",
       "</div>"
      ],
      "text/plain": [
       "                    current_ratio  operating_cash_flow  debt_to_equity  \\\n",
       "0001090872:2011:FY       3.031573             0.477953        1.098471   \n",
       "0001090872:2012:FY       2.445325            -0.621236        1.032015   \n",
       "0001090872:2013:FY       3.110487             0.202247        1.020420   \n",
       "\n",
       "                    interest_coverage  operating_margin  return_on_assets  \\\n",
       "0001090872:2011:FY          12.453488          0.533485          0.111737   \n",
       "0001090872:2012:FY          11.079208          0.525518          0.109434   \n",
       "0001090872:2013:FY           8.887850          0.521233          0.067752   \n",
       "\n",
       "                    return_on_equity                                office  \\\n",
       "0001090872:2011:FY          0.234476  Industrial Applications and Services   \n",
       "0001090872:2012:FY          0.222372  Industrial Applications and Services   \n",
       "0001090872:2013:FY          0.136888  Industrial Applications and Services   \n",
       "\n",
       "                    has_interest_payments  \n",
       "0001090872:2011:FY                      1  \n",
       "0001090872:2012:FY                      1  \n",
       "0001090872:2013:FY                      1  "
      ]
     },
     "execution_count": 1,
     "metadata": {},
     "output_type": "execute_result"
    }
   ],
   "source": [
    "import pandas as pd\n",
    "import numpy as np\n",
    "from sklearn.ensemble import HistGradientBoostingClassifier\n",
    "from sklearn.preprocessing import LabelEncoder, QuantileTransformer, MinMaxScaler\n",
    "from sklearn.model_selection import train_test_split, GridSearchCV\n",
    "from sklearn.metrics import accuracy_score, roc_auc_score, balanced_accuracy_score\n",
    "\n",
    "model_df = pd.read_csv('../Data/model_data.csv', index_col = 0)\n",
    "model_df = model_df.drop('industry', axis = 1)\n",
    "# modle_df = model_df.set_index('office', inplace = True)\n",
    "model_df.head(3)"
   ]
  },
  {
   "cell_type": "code",
   "execution_count": 2,
   "metadata": {},
   "outputs": [
    {
     "data": {
      "text/plain": [
       "{0: 'Industrial Applications and Services',\n",
       " 1: 'Office of Crypto Assets',\n",
       " 2: 'Office of Energy & Transportation',\n",
       " 3: 'Office of Finance',\n",
       " 4: 'Office of Finance or Office of Crypto Assets',\n",
       " 5: 'Office of Life Sciences',\n",
       " 6: 'Office of Manufacturing',\n",
       " 7: 'Office of Real Estate & Construction',\n",
       " 8: 'Office of Technology',\n",
       " 9: 'Office of Trade & Services'}"
      ]
     },
     "execution_count": 2,
     "metadata": {},
     "output_type": "execute_result"
    }
   ],
   "source": [
    "target_encoding = LabelEncoder()\n",
    "scaler = QuantileTransformer(n_quantiles = 20000, subsample= 25000)\n",
    "\n",
    "X = model_df.drop('office', axis = 1).copy()\n",
    "\n",
    "X = scaler.fit_transform(X)\n",
    "\n",
    "y = model_df['office'].copy()\n",
    "\n",
    "y = target_encoding.fit_transform(y)\n",
    "\n",
    "office_dict = {}\n",
    "\n",
    "for label in range(len(target_encoding.classes_)):\n",
    "    office = target_encoding.classes_[label]\n",
    "    office_dict[label] = office\n",
    "    \n",
    "office_dict"
   ]
  },
  {
   "cell_type": "code",
   "execution_count": 3,
   "metadata": {},
   "outputs": [],
   "source": [
    "X_train, X_test, y_train, y_test = train_test_split(X, y)"
   ]
  },
  {
   "cell_type": "code",
   "execution_count": 5,
   "metadata": {},
   "outputs": [
    {
     "name": "stdout",
     "output_type": "stream",
     "text": [
      "0.6217663805523506\n"
     ]
    }
   ],
   "source": [
    "model = HistGradientBoostingClassifier()\n",
    "\n",
    "model.fit(X_train, y_train)\n",
    "\n",
    "y_pred = model.predict_proba(X_test)\n",
    "\n",
    "# print(accuracy_score(y_test, y_pred))\n",
    "# print(balanced_accuracy_score(y_test, y_pred, adjusted = False))\n",
    "\n",
    "print(roc_auc_score(y_test, y_pred, multi_class = 'ovr'))"
   ]
  }
 ],
 "metadata": {
  "kernelspec": {
   "display_name": "Python 3",
   "language": "python",
   "name": "python3"
  },
  "language_info": {
   "codemirror_mode": {
    "name": "ipython",
    "version": 3
   },
   "file_extension": ".py",
   "mimetype": "text/x-python",
   "name": "python",
   "nbconvert_exporter": "python",
   "pygments_lexer": "ipython3",
   "version": "3.11.3"
  },
  "orig_nbformat": 4
 },
 "nbformat": 4,
 "nbformat_minor": 2
}
