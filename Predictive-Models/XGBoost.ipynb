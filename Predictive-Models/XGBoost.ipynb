{
 "cells": [
  {
   "cell_type": "code",
   "execution_count": 47,
   "metadata": {},
   "outputs": [
    {
     "data": {
      "text/html": [
       "<div>\n",
       "<style scoped>\n",
       "    .dataframe tbody tr th:only-of-type {\n",
       "        vertical-align: middle;\n",
       "    }\n",
       "\n",
       "    .dataframe tbody tr th {\n",
       "        vertical-align: top;\n",
       "    }\n",
       "\n",
       "    .dataframe thead th {\n",
       "        text-align: right;\n",
       "    }\n",
       "</style>\n",
       "<table border=\"1\" class=\"dataframe\">\n",
       "  <thead>\n",
       "    <tr style=\"text-align: right;\">\n",
       "      <th></th>\n",
       "      <th>current_ratio</th>\n",
       "      <th>operating_cash_flow</th>\n",
       "      <th>debt_to_equity</th>\n",
       "      <th>interest_coverage</th>\n",
       "      <th>operating_margin</th>\n",
       "      <th>return_on_assets</th>\n",
       "      <th>return_on_equity</th>\n",
       "      <th>office</th>\n",
       "      <th>has_interest_payments</th>\n",
       "    </tr>\n",
       "  </thead>\n",
       "  <tbody>\n",
       "    <tr>\n",
       "      <th>0001090872:2011:FY</th>\n",
       "      <td>3.031573</td>\n",
       "      <td>0.477953</td>\n",
       "      <td>1.098471</td>\n",
       "      <td>12.453488</td>\n",
       "      <td>0.533485</td>\n",
       "      <td>0.111737</td>\n",
       "      <td>0.234476</td>\n",
       "      <td>Industrial Applications and Services</td>\n",
       "      <td>1</td>\n",
       "    </tr>\n",
       "    <tr>\n",
       "      <th>0001090872:2012:FY</th>\n",
       "      <td>2.445325</td>\n",
       "      <td>-0.621236</td>\n",
       "      <td>1.032015</td>\n",
       "      <td>11.079208</td>\n",
       "      <td>0.525518</td>\n",
       "      <td>0.109434</td>\n",
       "      <td>0.222372</td>\n",
       "      <td>Industrial Applications and Services</td>\n",
       "      <td>1</td>\n",
       "    </tr>\n",
       "    <tr>\n",
       "      <th>0001090872:2013:FY</th>\n",
       "      <td>3.110487</td>\n",
       "      <td>0.202247</td>\n",
       "      <td>1.020420</td>\n",
       "      <td>8.887850</td>\n",
       "      <td>0.521233</td>\n",
       "      <td>0.067752</td>\n",
       "      <td>0.136888</td>\n",
       "      <td>Industrial Applications and Services</td>\n",
       "      <td>1</td>\n",
       "    </tr>\n",
       "  </tbody>\n",
       "</table>\n",
       "</div>"
      ],
      "text/plain": [
       "                    current_ratio  operating_cash_flow  debt_to_equity  \\\n",
       "0001090872:2011:FY       3.031573             0.477953        1.098471   \n",
       "0001090872:2012:FY       2.445325            -0.621236        1.032015   \n",
       "0001090872:2013:FY       3.110487             0.202247        1.020420   \n",
       "\n",
       "                    interest_coverage  operating_margin  return_on_assets  \\\n",
       "0001090872:2011:FY          12.453488          0.533485          0.111737   \n",
       "0001090872:2012:FY          11.079208          0.525518          0.109434   \n",
       "0001090872:2013:FY           8.887850          0.521233          0.067752   \n",
       "\n",
       "                    return_on_equity                                office  \\\n",
       "0001090872:2011:FY          0.234476  Industrial Applications and Services   \n",
       "0001090872:2012:FY          0.222372  Industrial Applications and Services   \n",
       "0001090872:2013:FY          0.136888  Industrial Applications and Services   \n",
       "\n",
       "                    has_interest_payments  \n",
       "0001090872:2011:FY                      1  \n",
       "0001090872:2012:FY                      1  \n",
       "0001090872:2013:FY                      1  "
      ]
     },
     "execution_count": 47,
     "metadata": {},
     "output_type": "execute_result"
    }
   ],
   "source": [
    "import pandas as pd\n",
    "import numpy as np\n",
    "import xgboost as xgb\n",
    "from sklearn.preprocessing import LabelEncoder, QuantileTransformer, MinMaxScaler\n",
    "from sklearn.model_selection import train_test_split, GridSearchCV\n",
    "from sklearn.metrics import accuracy_score, roc_auc_score, balanced_accuracy_score, confusion_matrix\n",
    "\n",
    "model_df = pd.read_csv('../Data/model_data.csv', index_col = 0)\n",
    "model_df = model_df.drop('industry', axis = 1)\n",
    "feature_names = model_df.columns\n",
    "model_df['office'] = model_df['office'].astype('category')\n",
    "model_dm = xgb.DMatrix(model_df, enable_categorical = True, feature_names = feature_names)\n",
    "model_df.head(3)"
   ]
  },
  {
   "cell_type": "code",
   "execution_count": 23,
   "metadata": {},
   "outputs": [
    {
     "ename": "TypeError",
     "evalue": "train() missing 1 required positional argument: 'params'",
     "output_type": "error",
     "traceback": [
      "\u001b[1;31m---------------------------------------------------------------------------\u001b[0m",
      "\u001b[1;31mTypeError\u001b[0m                                 Traceback (most recent call last)",
      "Cell \u001b[1;32mIn[23], line 3\u001b[0m\n\u001b[0;32m      1\u001b[0m \u001b[39m# xgboost_model = xgb.XGBClassifier()\u001b[39;00m\n\u001b[0;32m      2\u001b[0m \u001b[39m# xgboost_model.train(dtrain = model_dm)\u001b[39;00m\n\u001b[1;32m----> 3\u001b[0m xgboost_model \u001b[39m=\u001b[39m xgb\u001b[39m.\u001b[39mtrain(dtrain \u001b[39m=\u001b[39m model_dm)\n",
      "File \u001b[1;32my:\\Anaconda\\envs\\LHLenvironment\\Lib\\site-packages\\xgboost\\core.py:620\u001b[0m, in \u001b[0;36mrequire_keyword_args.<locals>.throw_if.<locals>.inner_f\u001b[1;34m(*args, **kwargs)\u001b[0m\n\u001b[0;32m    618\u001b[0m \u001b[39mfor\u001b[39;00m k, arg \u001b[39min\u001b[39;00m \u001b[39mzip\u001b[39m(sig\u001b[39m.\u001b[39mparameters, args):\n\u001b[0;32m    619\u001b[0m     kwargs[k] \u001b[39m=\u001b[39m arg\n\u001b[1;32m--> 620\u001b[0m \u001b[39mreturn\u001b[39;00m func(\u001b[39m*\u001b[39m\u001b[39m*\u001b[39mkwargs)\n",
      "\u001b[1;31mTypeError\u001b[0m: train() missing 1 required positional argument: 'params'"
     ]
    }
   ],
   "source": [
    "# xgboost_model = xgb.XGBClassifier()\n",
    "# xgboost_model.train(dtrain = model_dm)\n",
    "xgboost_model = xgb.train(params = dtrain = model_dm)"
   ]
  },
  {
   "cell_type": "code",
   "execution_count": 11,
   "metadata": {},
   "outputs": [
    {
     "data": {
      "text/plain": [
       "{0: 'Industrial Applications and Services',\n",
       " 1: 'Office of Crypto Assets',\n",
       " 2: 'Office of Energy & Transportation',\n",
       " 3: 'Office of Finance',\n",
       " 4: 'Office of Finance or Office of Crypto Assets',\n",
       " 5: 'Office of Life Sciences',\n",
       " 6: 'Office of Manufacturing',\n",
       " 7: 'Office of Real Estate & Construction',\n",
       " 8: 'Office of Technology',\n",
       " 9: 'Office of Trade & Services'}"
      ]
     },
     "execution_count": 11,
     "metadata": {},
     "output_type": "execute_result"
    }
   ],
   "source": [
    "target_encoding = LabelEncoder()\n",
    "scaler = QuantileTransformer(n_quantiles = 20000, subsample= 25000)\n",
    "\n",
    "X = model_df.drop('office', axis = 1).copy()\n",
    "\n",
    "X = scaler.fit_transform(X)\n",
    "\n",
    "y = model_df['office'].copy()\n",
    "\n",
    "y = target_encoding.fit_transform(y)\n",
    "\n",
    "office_dict = {}\n",
    "\n",
    "for label in range(len(target_encoding.classes_)):\n",
    "    office = target_encoding.classes_[label]\n",
    "    office_dict[label] = office\n",
    "    \n",
    "office_dict"
   ]
  },
  {
   "cell_type": "code",
   "execution_count": 55,
   "metadata": {},
   "outputs": [],
   "source": [
    "X_train, X_test, y_train, y_test = train_test_split(X, y, random_state = 42, stratify = y)"
   ]
  },
  {
   "cell_type": "code",
   "execution_count": 56,
   "metadata": {},
   "outputs": [
    {
     "name": "stdout",
     "output_type": "stream",
     "text": [
      "[0]\tvalidation_0-aucpr:0.13428\n",
      "[1]\tvalidation_0-aucpr:0.14274\n",
      "[2]\tvalidation_0-aucpr:0.14467\n",
      "[3]\tvalidation_0-aucpr:0.14687\n"
     ]
    },
    {
     "name": "stderr",
     "output_type": "stream",
     "text": [
      "y:\\Anaconda\\envs\\LHLenvironment\\Lib\\site-packages\\xgboost\\sklearn.py:835: UserWarning: `eval_metric` in `fit` method is deprecated for better compatibility with scikit-learn, use `eval_metric` in constructor or`set_params` instead.\n",
      "  warnings.warn(\n",
      "y:\\Anaconda\\envs\\LHLenvironment\\Lib\\site-packages\\xgboost\\sklearn.py:835: UserWarning: `early_stopping_rounds` in `fit` method is deprecated for better compatibility with scikit-learn, use `early_stopping_rounds` in constructor or`set_params` instead.\n",
      "  warnings.warn(\n"
     ]
    },
    {
     "name": "stdout",
     "output_type": "stream",
     "text": [
      "[4]\tvalidation_0-aucpr:0.15409\n",
      "[5]\tvalidation_0-aucpr:0.15556\n",
      "[6]\tvalidation_0-aucpr:0.15713\n",
      "[7]\tvalidation_0-aucpr:0.15885\n",
      "[8]\tvalidation_0-aucpr:0.15989\n",
      "[9]\tvalidation_0-aucpr:0.16023\n",
      "[10]\tvalidation_0-aucpr:0.16281\n",
      "[11]\tvalidation_0-aucpr:0.16371\n",
      "[12]\tvalidation_0-aucpr:0.16495\n",
      "[13]\tvalidation_0-aucpr:0.16565\n",
      "[14]\tvalidation_0-aucpr:0.16851\n",
      "[15]\tvalidation_0-aucpr:0.16964\n",
      "[16]\tvalidation_0-aucpr:0.17020\n",
      "[17]\tvalidation_0-aucpr:0.16997\n",
      "[18]\tvalidation_0-aucpr:0.16993\n",
      "[19]\tvalidation_0-aucpr:0.17057\n",
      "[20]\tvalidation_0-aucpr:0.17025\n",
      "[21]\tvalidation_0-aucpr:0.17099\n",
      "[22]\tvalidation_0-aucpr:0.17118\n",
      "[23]\tvalidation_0-aucpr:0.17078\n",
      "[24]\tvalidation_0-aucpr:0.17087\n",
      "[25]\tvalidation_0-aucpr:0.17078\n",
      "[26]\tvalidation_0-aucpr:0.17096\n",
      "[27]\tvalidation_0-aucpr:0.16965\n",
      "[28]\tvalidation_0-aucpr:0.16882\n",
      "[29]\tvalidation_0-aucpr:0.16963\n",
      "[30]\tvalidation_0-aucpr:0.17007\n",
      "[31]\tvalidation_0-aucpr:0.16997\n",
      "[32]\tvalidation_0-aucpr:0.16990\n",
      "[33]\tvalidation_0-aucpr:0.17030\n",
      "[34]\tvalidation_0-aucpr:0.17095\n",
      "[35]\tvalidation_0-aucpr:0.17130\n",
      "[36]\tvalidation_0-aucpr:0.17117\n",
      "[37]\tvalidation_0-aucpr:0.17191\n",
      "[38]\tvalidation_0-aucpr:0.17171\n",
      "[39]\tvalidation_0-aucpr:0.17164\n",
      "[40]\tvalidation_0-aucpr:0.17162\n",
      "[41]\tvalidation_0-aucpr:0.17235\n",
      "[42]\tvalidation_0-aucpr:0.17271\n",
      "[43]\tvalidation_0-aucpr:0.17258\n",
      "[44]\tvalidation_0-aucpr:0.17319\n",
      "[45]\tvalidation_0-aucpr:0.17323\n",
      "[46]\tvalidation_0-aucpr:0.17338\n",
      "[47]\tvalidation_0-aucpr:0.17334\n",
      "[48]\tvalidation_0-aucpr:0.17375\n",
      "[49]\tvalidation_0-aucpr:0.17467\n",
      "[50]\tvalidation_0-aucpr:0.17473\n",
      "[51]\tvalidation_0-aucpr:0.17565\n",
      "[52]\tvalidation_0-aucpr:0.17545\n",
      "[53]\tvalidation_0-aucpr:0.17554\n",
      "[54]\tvalidation_0-aucpr:0.17534\n",
      "[55]\tvalidation_0-aucpr:0.17555\n",
      "[56]\tvalidation_0-aucpr:0.17585\n",
      "[57]\tvalidation_0-aucpr:0.17656\n",
      "[58]\tvalidation_0-aucpr:0.17518\n",
      "[59]\tvalidation_0-aucpr:0.17556\n",
      "[60]\tvalidation_0-aucpr:0.17546\n",
      "[61]\tvalidation_0-aucpr:0.17584\n",
      "[62]\tvalidation_0-aucpr:0.17974\n",
      "[63]\tvalidation_0-aucpr:0.18000\n",
      "[64]\tvalidation_0-aucpr:0.17965\n",
      "[65]\tvalidation_0-aucpr:0.17994\n",
      "[66]\tvalidation_0-aucpr:0.17977\n",
      "[67]\tvalidation_0-aucpr:0.17990\n",
      "[68]\tvalidation_0-aucpr:0.17979\n",
      "[69]\tvalidation_0-aucpr:0.17819\n",
      "[70]\tvalidation_0-aucpr:0.17763\n",
      "[71]\tvalidation_0-aucpr:0.17746\n",
      "[72]\tvalidation_0-aucpr:0.17772\n",
      "[73]\tvalidation_0-aucpr:0.17805\n",
      "[74]\tvalidation_0-aucpr:0.17778\n",
      "[75]\tvalidation_0-aucpr:0.17845\n",
      "[76]\tvalidation_0-aucpr:0.17822\n",
      "[77]\tvalidation_0-aucpr:0.17771\n",
      "[78]\tvalidation_0-aucpr:0.17721\n"
     ]
    },
    {
     "data": {
      "text/html": [
       "<style>#sk-container-id-18 {color: black;background-color: white;}#sk-container-id-18 pre{padding: 0;}#sk-container-id-18 div.sk-toggleable {background-color: white;}#sk-container-id-18 label.sk-toggleable__label {cursor: pointer;display: block;width: 100%;margin-bottom: 0;padding: 0.3em;box-sizing: border-box;text-align: center;}#sk-container-id-18 label.sk-toggleable__label-arrow:before {content: \"▸\";float: left;margin-right: 0.25em;color: #696969;}#sk-container-id-18 label.sk-toggleable__label-arrow:hover:before {color: black;}#sk-container-id-18 div.sk-estimator:hover label.sk-toggleable__label-arrow:before {color: black;}#sk-container-id-18 div.sk-toggleable__content {max-height: 0;max-width: 0;overflow: hidden;text-align: left;background-color: #f0f8ff;}#sk-container-id-18 div.sk-toggleable__content pre {margin: 0.2em;color: black;border-radius: 0.25em;background-color: #f0f8ff;}#sk-container-id-18 input.sk-toggleable__control:checked~div.sk-toggleable__content {max-height: 200px;max-width: 100%;overflow: auto;}#sk-container-id-18 input.sk-toggleable__control:checked~label.sk-toggleable__label-arrow:before {content: \"▾\";}#sk-container-id-18 div.sk-estimator input.sk-toggleable__control:checked~label.sk-toggleable__label {background-color: #d4ebff;}#sk-container-id-18 div.sk-label input.sk-toggleable__control:checked~label.sk-toggleable__label {background-color: #d4ebff;}#sk-container-id-18 input.sk-hidden--visually {border: 0;clip: rect(1px 1px 1px 1px);clip: rect(1px, 1px, 1px, 1px);height: 1px;margin: -1px;overflow: hidden;padding: 0;position: absolute;width: 1px;}#sk-container-id-18 div.sk-estimator {font-family: monospace;background-color: #f0f8ff;border: 1px dotted black;border-radius: 0.25em;box-sizing: border-box;margin-bottom: 0.5em;}#sk-container-id-18 div.sk-estimator:hover {background-color: #d4ebff;}#sk-container-id-18 div.sk-parallel-item::after {content: \"\";width: 100%;border-bottom: 1px solid gray;flex-grow: 1;}#sk-container-id-18 div.sk-label:hover label.sk-toggleable__label {background-color: #d4ebff;}#sk-container-id-18 div.sk-serial::before {content: \"\";position: absolute;border-left: 1px solid gray;box-sizing: border-box;top: 0;bottom: 0;left: 50%;z-index: 0;}#sk-container-id-18 div.sk-serial {display: flex;flex-direction: column;align-items: center;background-color: white;padding-right: 0.2em;padding-left: 0.2em;position: relative;}#sk-container-id-18 div.sk-item {position: relative;z-index: 1;}#sk-container-id-18 div.sk-parallel {display: flex;align-items: stretch;justify-content: center;background-color: white;position: relative;}#sk-container-id-18 div.sk-item::before, #sk-container-id-18 div.sk-parallel-item::before {content: \"\";position: absolute;border-left: 1px solid gray;box-sizing: border-box;top: 0;bottom: 0;left: 50%;z-index: -1;}#sk-container-id-18 div.sk-parallel-item {display: flex;flex-direction: column;z-index: 1;position: relative;background-color: white;}#sk-container-id-18 div.sk-parallel-item:first-child::after {align-self: flex-end;width: 50%;}#sk-container-id-18 div.sk-parallel-item:last-child::after {align-self: flex-start;width: 50%;}#sk-container-id-18 div.sk-parallel-item:only-child::after {width: 0;}#sk-container-id-18 div.sk-dashed-wrapped {border: 1px dashed gray;margin: 0 0.4em 0.5em 0.4em;box-sizing: border-box;padding-bottom: 0.4em;background-color: white;}#sk-container-id-18 div.sk-label label {font-family: monospace;font-weight: bold;display: inline-block;line-height: 1.2em;}#sk-container-id-18 div.sk-label-container {text-align: center;}#sk-container-id-18 div.sk-container {/* jupyter's `normalize.less` sets `[hidden] { display: none; }` but bootstrap.min.css set `[hidden] { display: none !important; }` so we also need the `!important` here to be able to override the default hidden behavior on the sphinx rendered scikit-learn.org. See: https://github.com/scikit-learn/scikit-learn/issues/21755 */display: inline-block !important;position: relative;}#sk-container-id-18 div.sk-text-repr-fallback {display: none;}</style><div id=\"sk-container-id-18\" class=\"sk-top-container\"><div class=\"sk-text-repr-fallback\"><pre>XGBClassifier(base_score=None, booster=None, callbacks=None,\n",
       "              colsample_bylevel=None, colsample_bynode=None,\n",
       "              colsample_bytree=None, early_stopping_rounds=None,\n",
       "              enable_categorical=False, eval_metric=None, feature_types=None,\n",
       "              gamma=None, gpu_id=None, grow_policy=None, importance_type=None,\n",
       "              interaction_constraints=None, learning_rate=None, max_bin=None,\n",
       "              max_cat_threshold=None, max_cat_to_onehot=None,\n",
       "              max_delta_step=None, max_depth=None, max_leaves=None,\n",
       "              min_child_weight=None, missing=None, monotone_constraints=None,\n",
       "              n_estimators=100, n_jobs=None, num_parallel_tree=None,\n",
       "              objective=&#x27;multi:softprob&#x27;, predictor=None, ...)</pre><b>In a Jupyter environment, please rerun this cell to show the HTML representation or trust the notebook. <br />On GitHub, the HTML representation is unable to render, please try loading this page with nbviewer.org.</b></div><div class=\"sk-container\" hidden><div class=\"sk-item\"><div class=\"sk-estimator sk-toggleable\"><input class=\"sk-toggleable__control sk-hidden--visually\" id=\"sk-estimator-id-18\" type=\"checkbox\" checked><label for=\"sk-estimator-id-18\" class=\"sk-toggleable__label sk-toggleable__label-arrow\">XGBClassifier</label><div class=\"sk-toggleable__content\"><pre>XGBClassifier(base_score=None, booster=None, callbacks=None,\n",
       "              colsample_bylevel=None, colsample_bynode=None,\n",
       "              colsample_bytree=None, early_stopping_rounds=None,\n",
       "              enable_categorical=False, eval_metric=None, feature_types=None,\n",
       "              gamma=None, gpu_id=None, grow_policy=None, importance_type=None,\n",
       "              interaction_constraints=None, learning_rate=None, max_bin=None,\n",
       "              max_cat_threshold=None, max_cat_to_onehot=None,\n",
       "              max_delta_step=None, max_depth=None, max_leaves=None,\n",
       "              min_child_weight=None, missing=None, monotone_constraints=None,\n",
       "              n_estimators=100, n_jobs=None, num_parallel_tree=None,\n",
       "              objective=&#x27;multi:softprob&#x27;, predictor=None, ...)</pre></div></div></div></div></div>"
      ],
      "text/plain": [
       "XGBClassifier(base_score=None, booster=None, callbacks=None,\n",
       "              colsample_bylevel=None, colsample_bynode=None,\n",
       "              colsample_bytree=None, early_stopping_rounds=None,\n",
       "              enable_categorical=False, eval_metric=None, feature_types=None,\n",
       "              gamma=None, gpu_id=None, grow_policy=None, importance_type=None,\n",
       "              interaction_constraints=None, learning_rate=None, max_bin=None,\n",
       "              max_cat_threshold=None, max_cat_to_onehot=None,\n",
       "              max_delta_step=None, max_depth=None, max_leaves=None,\n",
       "              min_child_weight=None, missing=None, monotone_constraints=None,\n",
       "              n_estimators=100, n_jobs=None, num_parallel_tree=None,\n",
       "              objective='multi:softprob', predictor=None, ...)"
      ]
     },
     "execution_count": 56,
     "metadata": {},
     "output_type": "execute_result"
    }
   ],
   "source": [
    "model = xgb.XGBClassifier(missing = None)\n",
    "\n",
    "model.fit(X_train, y_train, eval_metric = 'aucpr', verbose = True, early_stopping_rounds = 15, eval_set = [(X_test, y_test)])\n",
    "\n",
    "# y_pred = model.predict(X_test)\n",
    "\n",
    "# print(accuracy_score(y_test, y_pred))\n",
    "# print(balanced_accuracy_score(y_test, y_pred, adjusted = False))"
   ]
  },
  {
   "cell_type": "code",
   "execution_count": 50,
   "metadata": {},
   "outputs": [
    {
     "ename": "TypeError",
     "evalue": "confusion_matrix() missing 1 required positional argument: 'y_pred'",
     "output_type": "error",
     "traceback": [
      "\u001b[1;31m---------------------------------------------------------------------------\u001b[0m",
      "\u001b[1;31mTypeError\u001b[0m                                 Traceback (most recent call last)",
      "Cell \u001b[1;32mIn[50], line 1\u001b[0m\n\u001b[1;32m----> 1\u001b[0m confusion_matrix(model)\n",
      "\u001b[1;31mTypeError\u001b[0m: confusion_matrix() missing 1 required positional argument: 'y_pred'"
     ]
    }
   ],
   "source": [
    "confusion_matrix(model)"
   ]
  }
 ],
 "metadata": {
  "kernelspec": {
   "display_name": "Python 3",
   "language": "python",
   "name": "python3"
  },
  "language_info": {
   "codemirror_mode": {
    "name": "ipython",
    "version": 3
   },
   "file_extension": ".py",
   "mimetype": "text/x-python",
   "name": "python",
   "nbconvert_exporter": "python",
   "pygments_lexer": "ipython3",
   "version": "3.11.3"
  },
  "orig_nbformat": 4
 },
 "nbformat": 4,
 "nbformat_minor": 2
}
