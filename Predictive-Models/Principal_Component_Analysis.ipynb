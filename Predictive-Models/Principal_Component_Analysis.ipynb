{
 "cells": [
  {
   "cell_type": "code",
   "execution_count": 46,
   "metadata": {},
   "outputs": [],
   "source": [
    "import pandas as pd\n",
    "import numpy as np\n",
    "from sklearn.decomposition import PCA\n",
    "from sklearn.preprocessing import LabelEncoder, QuantileTransformer, MinMaxScaler, StandardScaler\n",
    "from sklearn.model_selection import train_test_split, GridSearchCV\n",
    "from sklearn.metrics import accuracy_score, roc_auc_score, balanced_accuracy_score, precision_recall_curve, roc_curve, f1_score, multilabel_confusion_matrix\n",
    "\n",
    "model_df = pd.read_csv('../Data/model_data.csv', index_col = 0)\n",
    "model_df = model_df.drop(['industry', 'office'], axis = 1)\n",
    "df_columns = model_df.columns\n",
    "\n",
    "scaler = StandardScaler()\n",
    "X_standard = scaler.fit_transform(X)\n",
    "pca_df = pd.DataFrame(X, columns = df_columns)"
   ]
  },
  {
   "cell_type": "code",
   "execution_count": 52,
   "metadata": {},
   "outputs": [
    {
     "name": "stdout",
     "output_type": "stream",
     "text": [
      "[0.20647195 0.20179142 0.1470405  0.12501594 0.12324258 0.08883371\n",
      " 0.05997031 0.04763358]\n",
      "['current_ratio' 'operating_cash_flow' 'debt_to_equity'\n",
      " 'interest_coverage' 'operating_margin' 'return_on_assets'\n",
      " 'return_on_equity' 'has_interest_payments']\n"
     ]
    }
   ],
   "source": [
    "scaler = StandardScaler()\n",
    "X_standard = scaler.fit_transform(X)\n",
    "pca_df = pd.DataFrame(X, columns = df_columns)\n",
    "\n",
    "pca = PCA(n_components = 8, svd_solver = 'full')\n",
    "\n",
    "pca.fit(pca_df)\n",
    "\n",
    "print(pca.explained_variance_ratio_)\n",
    "print(pca.feature_names_in_)"
   ]
  },
  {
   "cell_type": "code",
   "execution_count": 53,
   "metadata": {},
   "outputs": [
    {
     "name": "stdout",
     "output_type": "stream",
     "text": [
      "[0.42498799 0.19190593 0.13375343 0.09967592 0.07881948 0.04096145\n",
      " 0.01778322 0.01211259]\n",
      "['current_ratio' 'operating_cash_flow' 'debt_to_equity'\n",
      " 'interest_coverage' 'operating_margin' 'return_on_assets'\n",
      " 'return_on_equity' 'has_interest_payments']\n"
     ]
    }
   ],
   "source": [
    "scaler_quantile = QuantileTransformer()\n",
    "X_quantile = scaler_quantile.fit_transform(X)\n",
    "pca_df = pd.DataFrame(X_quantile, columns = df_columns)\n",
    "\n",
    "pca = PCA(n_components = 8, svd_solver = 'full')\n",
    "\n",
    "pca.fit(pca_df)\n",
    "\n",
    "print(pca.explained_variance_ratio_)\n",
    "print(pca.feature_names_in_)"
   ]
  }
 ],
 "metadata": {
  "kernelspec": {
   "display_name": "Python 3",
   "language": "python",
   "name": "python3"
  },
  "language_info": {
   "codemirror_mode": {
    "name": "ipython",
    "version": 3
   },
   "file_extension": ".py",
   "mimetype": "text/x-python",
   "name": "python",
   "nbconvert_exporter": "python",
   "pygments_lexer": "ipython3",
   "version": "3.11.3"
  },
  "orig_nbformat": 4
 },
 "nbformat": 4,
 "nbformat_minor": 2
}
