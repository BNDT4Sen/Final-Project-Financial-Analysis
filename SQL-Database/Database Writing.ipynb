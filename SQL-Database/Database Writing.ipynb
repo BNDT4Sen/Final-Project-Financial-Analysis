{
 "cells": [
  {
   "cell_type": "code",
   "execution_count": 35,
   "id": "43efa7d3-de3c-496b-ba95-697a4e76d13d",
   "metadata": {
    "tags": []
   },
   "outputs": [],
   "source": [
    "import sqlite3\n",
    "from sqlite3 import Error\n",
    "import pandas as pd\n",
    "\n",
    "# conn = sqlite3.connect()\n",
    "\n",
    "# c = conn.cursor()\n",
    "\n",
    "# c.execute('"
   ]
  },
  {
   "cell_type": "code",
   "execution_count": 36,
   "id": "cbce545d-625c-464c-b36d-b2faf85595fe",
   "metadata": {
    "tags": []
   },
   "outputs": [],
   "source": [
    "from SQLite_Functions import create_connection\n",
    "\n",
    "conn = sqlite3.connect('Analysis.db')\n",
    "c = conn.cursor()"
   ]
  },
  {
   "cell_type": "code",
   "execution_count": 39,
   "id": "86a102c8-b326-4206-9edc-919fd403a900",
   "metadata": {
    "tags": []
   },
   "outputs": [],
   "source": [
    "from SQLite_Functions import create_table\n",
    "\n",
    "filing_information = ''' \n",
    "CREATE TABLE IF NOT EXISTS filing_information (\n",
    "    filing_id TEXT PRIMARY KEY,\n",
    "    ticker TEXT NOT NULL,\n",
    "    company TEXT NOT NULL,\n",
    "    si_classification INTEGER NOT NULL,\n",
    "    start_date TEXT NOT NULL,\n",
    "    end_date TEXT NOT NULL,\n",
    "    filing_date TEXT NOT NULL,\n",
    "    fiscal_year INTEGER NOT NULL\n",
    "    ); '''\n",
    "                                       \n",
    "comprehensive_income = ''' \n",
    "CREATE TABLE IF NOT EXISTS comprehensive_income_statement (\n",
    "    filing_id TEXT PRIMARY KEY,\n",
    "    ticker TEXT NOT NULL,\n",
    "    fiscal_year INTEGER NOT NULL,\n",
    "    other_comprehensive_income_loss_attributable_to_parent INTEGER,\n",
    "    comprehensive_income_loss_attributable_to_noncontrolling_interest INTEGER,\n",
    "    comprehensive_income_loss INTEGER,\n",
    "    other_comprehensive_income_loss INTEGER,\n",
    "    comprehensive_income_loss_attributable_to_parent INTEGER,\n",
    "    FOREIGN KEY (filing_id) REFERENCES filing_information (filing_id)\n",
    "    ); '''\n",
    "\n",
    "income_statement = '''\n",
    "CREATE TABLE IF NOT EXISTS income_statement (\n",
    "    filing_id TEXT PRIMARY KEY,\n",
    "    ticker TEXT NOT NULL,\n",
    "    fiscal_year INTEGER NOT NULL,\n",
    "    cost_of_revenue INTEGER,\n",
    "    net_income_loss_attributable_to_parent INTEGER,\n",
    "    gross_profit INTEGER,\n",
    "    net_income_loss_available_to_common_stockholders_basic INTEGER,\n",
    "    operating_income_loss INTEGER,\n",
    "    income_tax_expense_benefit INTEGER,\n",
    "    income_tax_expense_benefit_current INTEGER,\n",
    "    income_tax_expense_benefit_deferred INTEGER,\n",
    "    benefits_costs_expenses INTEGER,\n",
    "    participating_securities_distributed_and_undistributed_earnings_loss_basic INTEGER,\n",
    "    income_loss_from_equity_method_investments INTEGER,\n",
    "    income_loss_before_equity_method_investments INTEGER,\n",
    "    revenues INTEGER,\n",
    "    net_income_loss_attributable_to_noncontrolling_interest INTEGER,\n",
    "    operating_expenses INTEGER,\n",
    "    preferred_stock_dividends_and_other_adjustments INTEGER,\n",
    "    nonoperating_income_loss INTEGER,\n",
    "    net_income_loss INTEGER, \n",
    "    income_loss_from_continuing_operations_before_tax INTEGER,\n",
    "    income_loss_from_continuing_operations_after_tax INTEGER,\n",
    "    costs_and_expenses INTEGER,\n",
    "    income_loss_from_discontinued_operations_net_of_tax INTEGER,\n",
    "    interest_expense_operating INTEGER,\n",
    "    FOREIGN KEY (filing_id) REFERENCES filing_information (filing_id)\n",
    "    ); '''\n",
    "\n",
    "cash_flow_statement = '''\n",
    "CREATE TABLE IF NOT EXISTS cash_flow_statement (\n",
    "    filing_id TEXT PRIMARY KEY,\n",
    "    ticker TEXT NOT NULL,\n",
    "    fiscal_year INTEGER NOT NULL,\n",
    "    exchange_gains_losses INTEGER,\n",
    "    net_cash_flow_from_investing_activities_continuing INTEGER,\n",
    "    net_cash_flow INTEGER,\n",
    "    net_cash_flow_from_operating_activities INTEGER,\n",
    "    net_cash_flow_from_financing_activities INTEGER,\n",
    "    net_cash_flow_from_investing_activities INTEGER,\n",
    "    net_cash_flow_from_financing_activities_continuing INTEGER,\n",
    "    net_cash_flow_continuing INTEGER,\n",
    "    net_cash_flow_from_operating_activities_continuing INTEGER,\n",
    "    FOREIGN KEY (filing_id) REFERENCES filing_information (filing_id)\n",
    "    ); '''\n",
    "    \n",
    "balance_sheet = '''\n",
    "CREATE TABLE IF NOT EXISTS balance_sheet (\n",
    "    filing_id TEXT PRIMARY KEY,\n",
    "    ticker TEXT NOT NULL,\n",
    "    fiscal_year INTEGER NOT NULL,\n",
    "    fixed_assets INTEGER,\n",
    "    noncurrent_assets INTEGER,\n",
    "    equity_attributable_to_parent INTEGER,\n",
    "    current_assets INTEGER,\n",
    "    noncurrent_liabilities INTEGER,\n",
    "    current_liabilities INTEGER,\n",
    "    other_than_fixed_noncurrent_assets INTEGER,\n",
    "    liabilities_and_equity INTEGER,\n",
    "    assets INTEGER,\n",
    "    equity INTEGER,\n",
    "    equity_attributable_to_noncontrolling_interest INTEGER,\n",
    "    liabilities INTEGER,\n",
    "    FOREIGN KEY (filing_id) REFERENCES filing_information (filing_id)\n",
    "    ); '''\n",
    "\n",
    "table_list = [filing_information, comprehensive_income, income_statement, cash_flow_statement, balance_sheet]"
   ]
  },
  {
   "cell_type": "code",
   "execution_count": 40,
   "id": "2e831539-3aa0-4638-bf90-5bcc0ffcb46c",
   "metadata": {
    "tags": []
   },
   "outputs": [],
   "source": [
    "for table in table_list:\n",
    "    c.execute(table)\n",
    "conn.commit()"
   ]
  },
  {
   "cell_type": "code",
   "execution_count": 33,
   "id": "ef867d2c-0188-4032-abb7-b3c18a799da4",
   "metadata": {
    "tags": []
   },
   "outputs": [
    {
     "data": {
      "text/plain": [
       "<sqlite3.Cursor at 0x226124b2640>"
      ]
     },
     "execution_count": 33,
     "metadata": {},
     "output_type": "execute_result"
    }
   ],
   "source": [
    "c.execute('SELECT * FROM filing_information')"
   ]
  },
  {
   "cell_type": "code",
   "execution_count": 37,
   "id": "9a2458e2-1fc6-4ca9-8a7d-b224c232ae0f",
   "metadata": {
    "tags": []
   },
   "outputs": [],
   "source": [
    "for row in c.fetchall(): print(row)"
   ]
  },
  {
   "cell_type": "code",
   "execution_count": 27,
   "id": "fab638da-0cdc-4fd5-96d7-71da97090268",
   "metadata": {
    "tags": []
   },
   "outputs": [],
   "source": [
    "def create_table(conn, create_table_sql):\n",
    "    \"\"\" create a table from the create_table_sql statement\n",
    "    :param conn: Connection object\n",
    "    :param create_table_sql: a CREATE TABLE statement\n",
    "    :return:\n",
    "    \"\"\"\n",
    "    try:\n",
    "        c = conn.cursor()\n",
    "        c.execute(create_table_sql)\n",
    "    except Error as e:\n",
    "        print(e)"
   ]
  },
  {
   "cell_type": "code",
   "execution_count": 21,
   "id": "4751c16c-226a-4fa0-8445-99a8d376942b",
   "metadata": {
    "tags": []
   },
   "outputs": [
    {
     "name": "stdout",
     "output_type": "stream",
     "text": [
      "ARCELLX INC financials not found\n",
      "AFFIMED N.V. financials not found\n",
      "ARDAGH METAL PACKAGING SA financials not found\n",
      "AMYLYX PHARMACEUTICALS financials not found\n",
      "ARTIVION INC financials not found\n",
      "ARENA GROUP HOLDINGS financials not found\n",
      "ARDMORE SHIPPING financials not found\n",
      "AVEANNA HEALTHCARE HOLDINGS financials not found\n",
      "BALL CORP financials not found\n",
      "BABYLON HOLDINGS LTD (A) financials not found\n",
      "BROOKFIELD BUSINESS CORPORATION financials not found\n",
      "BROOKFIELD RENEWABLE CORPORATION financials not found\n",
      "BREAD FINANCIAL HOLDING INC financials not found\n",
      "BROOKFIELD INFRASTRUCTURE financials not found\n",
      "BANCO LATINOAMERICANO DE COMERCIO EXTERI financials not found\n",
      "BOSTON OMAHA financials not found\n",
      "BORR DRILLING financials not found\n",
      "BRC INC (A) financials not found\n",
      "CENNTRO ELECTRIC GROUP financials not found\n",
      "CINCOR PHARMA financials not found\n",
      "CERBERUS CYBER SENTINEL financials not found\n",
      "COSTAMARE financials not found\n",
      "CORE SCIENTIFIC INC financials not found\n",
      "COPA HOLDINGS S.A. CL A financials not found\n",
      "CEPTON INC (A) financials not found\n",
      "CRANE HOLDINGS CO financials not found\n",
      "CHARGE ENTERPRISES financials not found\n",
      "CAESARSTONE LTD financials not found\n",
      "CONSTELLIUM SE financials not found\n",
      "DAKOTA GOLD CORP financials not found\n",
      "DHT HOLDINGS financials not found\n",
      "HF SINCLAIR CORPORATION financials not found\n",
      "AMDOCS financials not found\n",
      "DISTRIBUTION SOLUTIONS GROUP INC financials not found\n",
      "EDGIO INC financials not found\n",
      "ENOVIS CORPORATION financials not found\n",
      "ESAB CORPORATION financials not found\n",
      "FLEX LNG LIMITED financials not found\n",
      "FIRST BANK financials not found\n",
      "FIRST REPUBLIC BANK SAN FRANCISCO financials not found\n",
      "FRONTLINE financials not found\n",
      "FRONTIER COMMUNICATIONS PARENT INC financials not found\n",
      "GAMBLING.COM GROUP financials not found\n",
      "GLOBALFOUNDRIES financials not found\n",
      "GOLAR LNG LTD. financials not found\n",
      "GLOBANT SA financials not found\n",
      "GELESIS HOLDING INC (A) financials not found\n",
      "GOLDEN OCEAN GROUP LIMITED financials not found\n",
      "GREENLIGHT BIOSCIENCES HOLDINGS (A) financials not found\n",
      "HINGHAM INST financials not found\n",
      "HILLEVAX financials not found\n",
      "ANYWHERE REAL ESTATE INC financials not found\n",
      "IBEX financials not found\n",
      "INSPIRATO INCORPORATED (A) financials not found\n",
      "JOHN MARSHALL BANCORP INC financials not found\n",
      "KINETIK HOLDINGS INC (A) financials not found\n",
      "LEAFLY HOLDINGS INC financials not found\n",
      "LI CYCLE HOLDINGS CORP (A) financials not found\n",
      "TERRAN ORBITAL CORPORATION (A) financials not found\n",
      "LIGHT & WONDER INC financials not found\n",
      "META PLATFORMS INC financials not found\n",
      "MULLEN AUTOMOTIVE INC financials not found\n",
      "NORDIC AMERICAN TANKER financials not found\n",
      "ENETI INC financials not found\n",
      "NEOGAMES financials not found\n",
      "NICOLET BANKSHARES INC financials not found\n",
      "NANO X IMAGING financials not found\n",
      "ENERGY VAULT HOLDINGS INC (A) financials not found\n",
      "BANK OF N.T. BUTTERFIELD & SON financials not found\n",
      "NUTEX HEALTH financials not found\n",
      "BANK OZK financials not found\n",
      "PARAMOUNT GLOBAL (B) financials not found\n",
      "PARAMOUNT GLOBAL (A) financials not found\n",
      "PEPGEN INC financials not found\n",
      "PREFERRED BANK LOS ANGELES financials not found\n",
      "POLYMET MINING financials not found\n",
      "PAYSAFE LIMITED (A) financials not found\n",
      "QIAGEN N.V. financials not found\n",
      "RIGETTI COMPUTING INC (A) financials not found\n",
      "REGAL REXNORD CORPORATION financials not found\n",
      "THE NECESSITY RETAIL REIT INC financials not found\n",
      "SAFE BULKERS financials not found\n",
      "SIGNATURE BANK financials not found\n",
      "SFL CORPORATION LTD financials not found\n",
      "TANGER FACTORY OUTLET CENTER financials not found\n",
      "NUSCALE POWER CORPORATION (A) financials not found\n",
      "SNAP ONE HOLDINGS financials not found\n",
      "SONDER HOLDINGS INC financials not found\n",
      "SAPIENS INTERNATIONAL CORP financials not found\n",
      "SPOTIFY TECHNOLOGY SA financials not found\n",
      "STONECO financials not found\n",
      "SCORPIO TANKERS financials not found\n",
      "STARRY GROUP HOLDINGS INC (A) financials not found\n",
      "ATLASSIAN financials not found\n",
      "TEXTAINER GROUP HOLDINGS LTD. financials not found\n",
      "TEEKAY financials not found\n",
      "TEEKAY TANKERS financials not found\n",
      "TENON MEDICAL INC financials not found\n",
      "TOWNE BANK financials not found\n",
      "USERTESTING financials not found\n",
      "WARNER BROS DISCOVERY INC financials not found\n",
      "WIX.COM financials not found\n",
      "ERMENEGILDO ZENGA N V (A) financials not found\n",
      "ZIMVIE financials not found\n"
     ]
    }
   ],
   "source": [
    "Ticker_DF = pd.read_csv('../Data/Company_Ticker_DF.csv')\n",
    "Ticker_Zip = zip(Ticker_DF['Ticker'], Ticker_DF['Company'])\n",
    "\n",
    "Ticker_Dict = dict(Ticker_Zip)\n",
    "\n",
    "for Ticker, Company in Ticker_Dict.items():\n",
    "    try:\n",
    "        pd.read_csv(f'../Data/Raw Request Data/{Ticker}_Annual_Financials.json')\n",
    "    except FileNotFoundError:\n",
    "        print(f'Error! {Company} financials not found.')\n",
    "\n",
    "# Ticker_Dict"
   ]
  }
 ],
 "metadata": {
  "kernelspec": {
   "display_name": "Python 3",
   "language": "python",
   "name": "python3"
  },
  "language_info": {
   "codemirror_mode": {
    "name": "ipython",
    "version": 3
   },
   "file_extension": ".py",
   "mimetype": "text/x-python",
   "name": "python",
   "nbconvert_exporter": "python",
   "pygments_lexer": "ipython3",
   "version": "3.11.3"
  }
 },
 "nbformat": 4,
 "nbformat_minor": 5
}
