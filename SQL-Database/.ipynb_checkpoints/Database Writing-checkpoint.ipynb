{
 "cells": [
  {
   "cell_type": "code",
   "execution_count": 22,
   "id": "43efa7d3-de3c-496b-ba95-697a4e76d13d",
   "metadata": {
    "tags": []
   },
   "outputs": [],
   "source": [
    "import sqlite3\n",
    "from sqlite3 import Error\n",
    "import pandas as pd\n",
    "\n",
    "# conn = sqlite3.connect()\n",
    "\n",
    "# c = conn.cursor()\n",
    "\n",
    "# c.execute('"
   ]
  },
  {
   "cell_type": "code",
   "execution_count": 25,
   "id": "cbce545d-625c-464c-b36d-b2faf85595fe",
   "metadata": {
    "tags": []
   },
   "outputs": [
    {
     "name": "stdout",
     "output_type": "stream",
     "text": [
      "2.6.0\n"
     ]
    }
   ],
   "source": [
    "from Create_DB import create_connection\n",
    "\n",
    "create_connection('Analysis.db')"
   ]
  },
  {
   "cell_type": "code",
   "execution_count": 29,
   "id": "86a102c8-b326-4206-9edc-919fd403a900",
   "metadata": {
    "tags": []
   },
   "outputs": [],
   "source": [
    "from SQLite_Functions import create_table\n",
    "\n",
    "    filing_information = ''' \n",
    "    CREATE TABLE IF NOT EXISTS filing_information (\n",
    "        filing_id TEXT PRIMARY KEY,\n",
    "        ticker TEXT NOT NULL,\n",
    "        company TEXT NOT NULL,\n",
    "        si_classification INTEGER NOT NULL,\n",
    "        start_date TEXT NOT NULL,\n",
    "        end_date TEXT NOT NULL,\n",
    "        filing_date TEXT NOT NULL,\n",
    "        fiscal_year INTEGER NOT NULL\n",
    "        ); '''\n",
    "        \n",
    "        \n",
    "    # comprehensive_income_statement =                                 \n",
    "    \n",
    "    income_statement = ''' \n",
    "    CREATE TABLE IF NOT EXISTS filing_information (\n",
    "        filing_id TEXT PRIMARY KEY,\n",
    "        ticker TEXT NOT NULL,\n",
    "        fiscal_year INTEGER NOT NULL,\n",
    "        FOREIGN KEY (filing_id) REFERENCES filing_information (filing_id)\n",
    "        ); '''\n",
    "    \n",
    "    # cash_flow_statement = \n",
    "    \n",
    "    # balance_sheet ="
   ]
  },
  {
   "cell_type": "code",
   "execution_count": 27,
   "id": "fab638da-0cdc-4fd5-96d7-71da97090268",
   "metadata": {
    "tags": []
   },
   "outputs": [],
   "source": [
    "def create_table(conn, create_table_sql):\n",
    "    \"\"\" create a table from the create_table_sql statement\n",
    "    :param conn: Connection object\n",
    "    :param create_table_sql: a CREATE TABLE statement\n",
    "    :return:\n",
    "    \"\"\"\n",
    "    try:\n",
    "        c = conn.cursor()\n",
    "        c.execute(create_table_sql)\n",
    "    except Error as e:\n",
    "        print(e)"
   ]
  },
  {
   "cell_type": "code",
   "execution_count": 21,
   "id": "4751c16c-226a-4fa0-8445-99a8d376942b",
   "metadata": {
    "tags": []
   },
   "outputs": [
    {
     "name": "stdout",
     "output_type": "stream",
     "text": [
      "ARCELLX INC financials not found\n",
      "AFFIMED N.V. financials not found\n",
      "ARDAGH METAL PACKAGING SA financials not found\n",
      "AMYLYX PHARMACEUTICALS financials not found\n",
      "ARTIVION INC financials not found\n",
      "ARENA GROUP HOLDINGS financials not found\n",
      "ARDMORE SHIPPING financials not found\n",
      "AVEANNA HEALTHCARE HOLDINGS financials not found\n",
      "BALL CORP financials not found\n",
      "BABYLON HOLDINGS LTD (A) financials not found\n",
      "BROOKFIELD BUSINESS CORPORATION financials not found\n",
      "BROOKFIELD RENEWABLE CORPORATION financials not found\n",
      "BREAD FINANCIAL HOLDING INC financials not found\n",
      "BROOKFIELD INFRASTRUCTURE financials not found\n",
      "BANCO LATINOAMERICANO DE COMERCIO EXTERI financials not found\n",
      "BOSTON OMAHA financials not found\n",
      "BORR DRILLING financials not found\n",
      "BRC INC (A) financials not found\n",
      "CENNTRO ELECTRIC GROUP financials not found\n",
      "CINCOR PHARMA financials not found\n",
      "CERBERUS CYBER SENTINEL financials not found\n",
      "COSTAMARE financials not found\n",
      "CORE SCIENTIFIC INC financials not found\n",
      "COPA HOLDINGS S.A. CL A financials not found\n",
      "CEPTON INC (A) financials not found\n",
      "CRANE HOLDINGS CO financials not found\n",
      "CHARGE ENTERPRISES financials not found\n",
      "CAESARSTONE LTD financials not found\n",
      "CONSTELLIUM SE financials not found\n",
      "DAKOTA GOLD CORP financials not found\n",
      "DHT HOLDINGS financials not found\n",
      "HF SINCLAIR CORPORATION financials not found\n",
      "AMDOCS financials not found\n",
      "DISTRIBUTION SOLUTIONS GROUP INC financials not found\n",
      "EDGIO INC financials not found\n",
      "ENOVIS CORPORATION financials not found\n",
      "ESAB CORPORATION financials not found\n",
      "FLEX LNG LIMITED financials not found\n",
      "FIRST BANK financials not found\n",
      "FIRST REPUBLIC BANK SAN FRANCISCO financials not found\n",
      "FRONTLINE financials not found\n",
      "FRONTIER COMMUNICATIONS PARENT INC financials not found\n",
      "GAMBLING.COM GROUP financials not found\n",
      "GLOBALFOUNDRIES financials not found\n",
      "GOLAR LNG LTD. financials not found\n",
      "GLOBANT SA financials not found\n",
      "GELESIS HOLDING INC (A) financials not found\n",
      "GOLDEN OCEAN GROUP LIMITED financials not found\n",
      "GREENLIGHT BIOSCIENCES HOLDINGS (A) financials not found\n",
      "HINGHAM INST financials not found\n",
      "HILLEVAX financials not found\n",
      "ANYWHERE REAL ESTATE INC financials not found\n",
      "IBEX financials not found\n",
      "INSPIRATO INCORPORATED (A) financials not found\n",
      "JOHN MARSHALL BANCORP INC financials not found\n",
      "KINETIK HOLDINGS INC (A) financials not found\n",
      "LEAFLY HOLDINGS INC financials not found\n",
      "LI CYCLE HOLDINGS CORP (A) financials not found\n",
      "TERRAN ORBITAL CORPORATION (A) financials not found\n",
      "LIGHT & WONDER INC financials not found\n",
      "META PLATFORMS INC financials not found\n",
      "MULLEN AUTOMOTIVE INC financials not found\n",
      "NORDIC AMERICAN TANKER financials not found\n",
      "ENETI INC financials not found\n",
      "NEOGAMES financials not found\n",
      "NICOLET BANKSHARES INC financials not found\n",
      "NANO X IMAGING financials not found\n",
      "ENERGY VAULT HOLDINGS INC (A) financials not found\n",
      "BANK OF N.T. BUTTERFIELD & SON financials not found\n",
      "NUTEX HEALTH financials not found\n",
      "BANK OZK financials not found\n",
      "PARAMOUNT GLOBAL (B) financials not found\n",
      "PARAMOUNT GLOBAL (A) financials not found\n",
      "PEPGEN INC financials not found\n",
      "PREFERRED BANK LOS ANGELES financials not found\n",
      "POLYMET MINING financials not found\n",
      "PAYSAFE LIMITED (A) financials not found\n",
      "QIAGEN N.V. financials not found\n",
      "RIGETTI COMPUTING INC (A) financials not found\n",
      "REGAL REXNORD CORPORATION financials not found\n",
      "THE NECESSITY RETAIL REIT INC financials not found\n",
      "SAFE BULKERS financials not found\n",
      "SIGNATURE BANK financials not found\n",
      "SFL CORPORATION LTD financials not found\n",
      "TANGER FACTORY OUTLET CENTER financials not found\n",
      "NUSCALE POWER CORPORATION (A) financials not found\n",
      "SNAP ONE HOLDINGS financials not found\n",
      "SONDER HOLDINGS INC financials not found\n",
      "SAPIENS INTERNATIONAL CORP financials not found\n",
      "SPOTIFY TECHNOLOGY SA financials not found\n",
      "STONECO financials not found\n",
      "SCORPIO TANKERS financials not found\n",
      "STARRY GROUP HOLDINGS INC (A) financials not found\n",
      "ATLASSIAN financials not found\n",
      "TEXTAINER GROUP HOLDINGS LTD. financials not found\n",
      "TEEKAY financials not found\n",
      "TEEKAY TANKERS financials not found\n",
      "TENON MEDICAL INC financials not found\n",
      "TOWNE BANK financials not found\n",
      "USERTESTING financials not found\n",
      "WARNER BROS DISCOVERY INC financials not found\n",
      "WIX.COM financials not found\n",
      "ERMENEGILDO ZENGA N V (A) financials not found\n",
      "ZIMVIE financials not found\n"
     ]
    }
   ],
   "source": [
    "Ticker_DF = pd.read_csv('../Data/Company_Ticker_DF.csv')\n",
    "Ticker_Zip = zip(Ticker_DF['Ticker'], Ticker_DF['Company'])\n",
    "\n",
    "Ticker_Dict = dict(Ticker_Zip)\n",
    "\n",
    "for Ticker, Company in Ticker_Dict.items():\n",
    "    try:\n",
    "        pd.read_csv(f'../Data/Raw Request Data/{Ticker}_Annual_Financials.json')\n",
    "    except FileNotFoundError:\n",
    "        print(f'Error! {Company} financials not found.')\n",
    "\n",
    "# Ticker_Dict"
   ]
  }
 ],
 "metadata": {
  "kernelspec": {
   "display_name": "LHLenvironment",
   "language": "python",
   "name": "lhlenvironment"
  },
  "language_info": {
   "codemirror_mode": {
    "name": "ipython",
    "version": 3
   },
   "file_extension": ".py",
   "mimetype": "text/x-python",
   "name": "python",
   "nbconvert_exporter": "python",
   "pygments_lexer": "ipython3",
   "version": "3.11.3"
  }
 },
 "nbformat": 4,
 "nbformat_minor": 5
}
