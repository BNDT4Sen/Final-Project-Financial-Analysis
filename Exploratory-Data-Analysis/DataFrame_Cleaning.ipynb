{
 "cells": [
  {
   "cell_type": "code",
   "execution_count": 3,
   "metadata": {},
   "outputs": [],
   "source": [
    "import EDA\n",
    "import importlib\n",
    "import pandas as pd"
   ]
  },
  {
   "cell_type": "code",
   "execution_count": 4,
   "metadata": {},
   "outputs": [],
   "source": [
    "# Relevant DataFrames are imported and sorted into lists.\n",
    "comprehensive_income_df = pd.read_csv('../Data/Pandas_DataFrames/comprehensive_income_df.csv', index_col = [0])\n",
    "income_statement_df = pd.read_csv('../Data/Pandas_DataFrames/income_statement_df.csv', index_col = [0])\n",
    "cash_flow_df = pd.read_csv('../Data/Pandas_DataFrames/cash_flow_df.csv', index_col = [0])\n",
    "balance_sheet_df = pd.read_csv('../Data/Pandas_DataFrames/balance_sheet_df.csv', index_col = [0])\n",
    "filing_information_df = pd.read_csv('../Data/Pandas_DataFrames/filing_information_df.csv', index_col = [0])\n",
    "company_information_df = pd.read_csv('../Data/Pandas_DataFrames/company_information_df.csv', index_col = [0])\n",
    "\n",
    "full_df_list = [comprehensive_income_df, income_statement_df, cash_flow_df, balance_sheet_df, filing_information_df, company_information_df]\n",
    "statements_list = [comprehensive_income_df, income_statement_df, cash_flow_df, balance_sheet_df]     \n",
    "other_information_list = [filing_information_df, company_information_df]"
   ]
  },
  {
   "cell_type": "code",
   "execution_count": 5,
   "metadata": {},
   "outputs": [
    {
     "data": {
      "text/plain": [
       "                    other_comprehensive_income_loss_attributable_to_noncontrolling_interest\n",
       "0001308161:2015:FY  -214000000.0                                                               2\n",
       "0001308161:2016:FY  -8000000.0                                                                 2\n",
       "0001308161:2017:FY   6000000.0                                                                 2\n",
       "0001564708:2015:FY  -24000000.0                                                                2\n",
       "0001564708:2016:FY  -1000000.0                                                                 2\n",
       "Name: other_comprehensive_income_loss_attributable_to_noncontrolling_interest, dtype: int64"
      ]
     },
     "execution_count": 5,
     "metadata": {},
     "output_type": "execute_result"
    }
   ],
   "source": [
    "# Returns the index for rows that are duplicated.\n",
    "importlib.reload(EDA)\n",
    "EDA.unique_check(comprehensive_income_df)"
   ]
  },
  {
   "cell_type": "code",
   "execution_count": 6,
   "metadata": {},
   "outputs": [
    {
     "name": "stdout",
     "output_type": "stream",
     "text": [
      "Unique index values: 22810\n",
      "Total index values: 22978\n",
      "Total index values after dropping duplicates: 22810\n"
     ]
    }
   ],
   "source": [
    "# Duplicate rows are removed. The lengths of the comprehensive_income_df are printed both before and after.\n",
    "\n",
    "print('Unique index values:', len(pd.unique(comprehensive_income_df.index)))\n",
    "print('Total index values:', len(comprehensive_income_df))\n",
    "\n",
    "comprehensive_income_df = EDA.duplicate_removal(comprehensive_income_df)\n",
    "income_statement_df = EDA.duplicate_removal(income_statement_df)\n",
    "cash_flow_df = EDA.duplicate_removal(cash_flow_df)\n",
    "balance_sheet_df = EDA.duplicate_removal(balance_sheet_df)\n",
    "filing_information_df = EDA.duplicate_removal(filing_information_df)\n",
    "company_information_df = EDA.duplicate_removal(company_information_df)\n",
    "\n",
    "print('Total index values after dropping duplicates:', len(comprehensive_income_df.index))"
   ]
  },
  {
   "cell_type": "code",
   "execution_count": 7,
   "metadata": {},
   "outputs": [
    {
     "data": {
      "text/plain": [
       "Series([], Name: other_comprehensive_income_loss_attributable_to_noncontrolling_interest, dtype: int64)"
      ]
     },
     "execution_count": 7,
     "metadata": {},
     "output_type": "execute_result"
    }
   ],
   "source": [
    "# There are no longer any duplicate rows located in the DataFrame used as an example.\n",
    "importlib.reload(EDA)\n",
    "EDA.unique_check(comprehensive_income_df)"
   ]
  },
  {
   "cell_type": "code",
   "execution_count": 11,
   "metadata": {},
   "outputs": [],
   "source": [
    "# Each DataFrame is examined individually. Uncomment to explore them yourself.\n",
    "\n",
    "# comprehensive_income_df\n",
    "# income_statement_df\n",
    "# cash_flow_df\n",
    "# balance_sheet_df\n",
    "# filing_information_df\n",
    "# company_information_df"
   ]
  },
  {
   "cell_type": "code",
   "execution_count": 151,
   "metadata": {},
   "outputs": [
    {
     "data": {
      "text/plain": [
       "2009"
      ]
     },
     "execution_count": 151,
     "metadata": {},
     "output_type": "execute_result"
    }
   ],
   "source": [
    "# The earliest year that appears in the data is checked.\n",
    "\n",
    "comprehensive_income_df['fiscal_year'].min()"
   ]
  },
  {
   "cell_type": "code",
   "execution_count": 153,
   "metadata": {},
   "outputs": [
    {
     "name": "stdout",
     "output_type": "stream",
     "text": [
      "######################### {'comprehensive_income_df'} #########################\n",
      "21929.0 null values in column other_comprehensive_income_loss_attributable_to_noncontrolling_interest\n",
      "16299.0 null values in column other_comprehensive_income_loss_attributable_to_parent\n",
      "50.0 null values in column comprehensive_income_loss\n",
      "50.0 null values in column comprehensive_income_loss_attributable_to_parent\n",
      "42.0 null values in column comprehensive_income_loss_attributable_to_noncontrolling_interest\n",
      "6.0 null values in column other_comprehensive_income_loss\n",
      "######################### {'income_statement_df'} #########################\n",
      "22814.0 null values in column income_loss_from_discontinued_operations_net_of_tax_adjustment_to_prior_year_gain_loss_on_disposal\n",
      "22772.0 null values in column income_loss_from_discontinued_operations_net_of_tax_provision_for_gain_loss_on_disposal\n",
      "22684.0 null values in column gain_loss_on_sale_properties_net_tax\n",
      "22585.0 null values in column net_income_loss_attributable_to_nonredeemable_noncontrolling_interest\n",
      "22324.0 null values in column other_operating_income_expenses\n",
      "22204.0 null values in column income_loss_from_discontinued_operations_net_of_tax_during_phase_out\n",
      "22021.0 null values in column interest_and_debt_expense\n",
      "21944.0 null values in column net_income_loss_attributable_to_redeemable_noncontrolling_interest\n",
      "21933.0 null values in column income_loss_from_discontinued_operations_net_of_tax_gain_loss_on_disposal\n",
      "21693.0 null values in column undistributed_earnings_loss_allocated_to_participating_securities_basic\n",
      "21345.0 null values in column cost_of_revenue_services\n",
      "20467.0 null values in column noninterest_income\n",
      "20436.0 null values in column noninterest_expense\n",
      "19317.0 null values in column interest_and_dividend_income_operating\n",
      "19284.0 null values in column cost_of_revenue_goods\n",
      "18718.0 null values in column income_loss_from_discontinued_operations_net_of_tax\n",
      "18151.0 null values in column interest_income_expense_operating_net\n",
      "18150.0 null values in column interest_income_expense_after_provision_for_losses\n",
      "17307.0 null values in column provision_for_loan_lease_and_other_losses\n",
      "16306.0 null values in column income_loss_from_equity_method_investments\n",
      "15800.0 null values in column nonoperating_income_loss\n",
      "8538.0 null values in column income_loss_before_equity_method_investments\n",
      "8492.0 null values in column gross_profit\n",
      "8467.0 null values in column cost_of_revenue\n",
      "7036.0 null values in column income_tax_expense_benefit_current\n",
      "6683.0 null values in column interest_expense_operating\n",
      "3747.0 null values in column income_tax_expense_benefit_deferred\n",
      "3111.0 null values in column diluted_earnings_per_share\n",
      "3039.0 null values in column basic_earnings_per_share\n",
      "1033.0 null values in column income_tax_expense_benefit\n",
      "369.0 null values in column benefits_costs_expenses\n",
      "343.0 null values in column costs_and_expenses\n",
      "318.0 null values in column operating_expenses\n",
      "298.0 null values in column operating_income_loss\n",
      "92.0 null values in column revenues\n",
      "24.0 null values in column net_income_loss_attributable_to_parent\n",
      "24.0 null values in column preferred_stock_dividends_and_other_adjustments\n",
      "24.0 null values in column net_income_loss_available_to_common_stockholders_basic\n",
      "24.0 null values in column participating_securities_distributed_and_undistributed_earnings_loss_basic\n",
      "24.0 null values in column net_income_loss\n",
      "18.0 null values in column net_income_loss_attributable_to_noncontrolling_interest\n",
      "5.0 null values in column income_loss_from_continuing_operations_after_tax\n",
      "5.0 null values in column income_loss_from_continuing_operations_before_tax\n",
      "######################### {'cash_flow_df'} #########################\n",
      "22089.0 null values in column net_cash_flow_from_financing_activities_discontinued\n",
      "21549.0 null values in column net_cash_flow_from_investing_activities_discontinued\n",
      "21044.0 null values in column net_cash_flow_from_operating_activities_discontinued\n",
      "20934.0 null values in column net_cash_flow_discontinued\n",
      "11774.0 null values in column exchange_gains_losses\n",
      "19.0 null values in column net_cash_flow_from_investing_activities_continuing\n",
      "17.0 null values in column net_cash_flow_from_financing_activities_continuing\n",
      "14.0 null values in column net_cash_flow_from_operating_activities_continuing\n",
      "14.0 null values in column net_cash_flow_from_operating_activities\n",
      "13.0 null values in column net_cash_flow_from_investing_activities\n",
      "11.0 null values in column net_cash_flow_from_financing_activities\n",
      "######################### {'balance_sheet_df'} #########################\n",
      "22766.0 null values in column redeemable_noncontrolling_interest_other\n",
      "22747.0 null values in column redeemable_noncontrolling_interest_preferred\n",
      "22704.0 null values in column redeemable_noncontrolling_interest_common\n",
      "22232.0 null values in column temporary_equity_attributable_to_parent\n",
      "22201.0 null values in column commitments_and_contingencies\n",
      "21275.0 null values in column redeemable_noncontrolling_interest\n",
      "20423.0 null values in column temporary_equity\n",
      "2519.0 null values in column fixed_assets\n",
      "2484.0 null values in column other_than_fixed_noncurrent_assets\n",
      "36.0 null values in column equity_attributable_to_parent\n",
      "36.0 null values in column equity_attributable_to_noncontrolling_interest\n",
      "35.0 null values in column equity\n",
      "28.0 null values in column current_assets\n",
      "28.0 null values in column noncurrent_assets\n",
      "23.0 null values in column assets\n",
      "20.0 null values in column liabilities_and_equity\n",
      "14.0 null values in column current_liabilities\n",
      "14.0 null values in column liabilities\n",
      "14.0 null values in column noncurrent_liabilities\n"
     ]
    }
   ],
   "source": [
    "# Each column of each DataFrame is iterated over to determine how many null values are located in each.\n",
    "\n",
    "importlib.reload(EDA)\n",
    "statements_list = [comprehensive_income_df, income_statement_df, cash_flow_df, balance_sheet_df]\n",
    "EDA.nan_check(statements_list)"
   ]
  },
  {
   "cell_type": "code",
   "execution_count": 154,
   "metadata": {},
   "outputs": [
    {
     "name": "stdout",
     "output_type": "stream",
     "text": [
      "['0001337553:2014:FY', '0001337553:2014:FY', '0001337553:2014:FY', '0001098972:2021:FY', '0001098972:2021:FY', '0001098972:2021:FY', '0000794619:2012:FY', '0000794619:2012:FY', '0000794619:2012:FY', '0001275187:2015:FY', '0001275187:2015:FY', '0001275187:2015:FY', '0001580808:2016:FY', '0001580808:2016:FY', '0001580808:2016:FY', '0001717556:2021:FY', '0001717556:2021:FY', '0001717556:2021:FY', '0000915840:2014:FY', '0000915840:2014:FY', '0000915840:2014:FY', '0000915840:2015:FY', '0000915840:2015:FY', '0000915840:2015:FY', '0000018255:2022:FY', '0000018255:2022:FY', '0000018255:2022:FY', '0001306830:2012:FY', '0001306830:2012:FY', '0001306830:2012:FY', '0000827876:2020:FY', '0000827876:2020:FY', '0000827876:2020:FY', '0000827876:2022:FY', '0000827876:2022:FY', '0000827876:2022:FY', '0000900075:2021:FY', '0000900075:2021:FY', '0000900075:2021:FY', '0000900075:2022:FY', '0000900075:2022:FY', '0000900075:2022:FY', '0000889609:2012:FY', '0000889609:2012:FY', '0000889609:2012:FY', '0000889609:2013:FY', '0000889609:2013:FY', '0000889609:2013:FY', '0000889609:2018:FY', '0000889609:2018:FY', '0000889609:2018:FY', '0000889609:2019:FY', '0000889609:2019:FY', '0000889609:2019:FY', '0000889609:2020:FY', '0000889609:2020:FY', '0000889609:2021:FY', '0000889609:2021:FY', '0001160951:2022:FY', '0001160951:2022:FY', '0001160951:2022:FY', '0001502749:2012:FY', '0001502749:2012:FY', '0001502749:2012:FY', '0001502749:2013:FY', '0001502749:2013:FY', '0001502749:2013:FY', '0001502749:2014:FY', '0001502749:2014:FY', '0001502749:2014:FY', '0001502749:2015:FY', '0001502749:2015:FY', '0001502749:2015:FY', '0001502749:2016:FY', '0001502749:2016:FY', '0001502749:2016:FY', '0001703644:2019:FY', '0001703644:2019:FY', '0001703644:2019:FY', '0001703644:2020:FY', '0001703644:2020:FY', '0001703644:2020:FY', '0001065059:2014:FY', '0001065059:2014:FY', '0001065059:2014:FY', '0000352541:2020:FY', '0000352541:2020:FY', '0000352541:2020:FY', '0000352541:2021:FY', '0000352541:2021:FY', '0000352541:2021:FY', '0000036270:2012:FY', '0000036270:2012:FY', '0000036270:2012:FY', '0000036270:2013:FY', '0000036270:2013:FY', '0000036270:2013:FY', '0001327688:2018:FY', '0001327688:2018:FY', '0001327688:2018:FY', '0001093691:2013:FY', '0001093691:2013:FY', '0001093691:2013:FY', '0001410384:2015:FY', '0001410384:2015:FY', '0001410384:2015:FY', '0001281761:2020:FY', '0001281761:2020:FY', '0001281761:2020:FY', '0000935419:2011:FY', '0000935419:2011:FY', '0000935419:2011:FY', '0001171155:2016:FY', '0001171155:2016:FY', '0001171155:2016:FY', '0001171155:2018:FY', '0001171155:2018:FY', '0001171155:2018:FY', '0001171155:2019:FY', '0001171155:2019:FY', '0001171155:2019:FY', '0001171155:2020:FY', '0001171155:2020:FY', '0001171155:2020:FY', '0001171155:2021:FY', '0001171155:2021:FY', '0001171155:2021:FY', '0000918965:2012:FY', '0000918965:2012:FY', '0000918965:2012:FY', '0000720672:2013:FY', '0000720672:2013:FY', '0000720672:2013:FY', '0001032208:2021:FY', '0001032208:2021:FY', '0001032208:2021:FY', '0000909494:2012:FY', '0000909494:2012:FY', '0000909494:2012:FY', '0000909494:2013:FY', '0000909494:2013:FY', '0000909494:2013:FY', '0001375205:2013:FY', '0001375205:2013:FY', '0001375205:2013:FY', '0001346302:2018:FY', '0001346302:2018:FY', '0001346302:2018:FY']\n",
      "['comprehensive_income_loss_attributable_to_noncontrolling_interest', 'other_comprehensive_income_loss', 'comprehensive_income_loss', 'comprehensive_income_loss_attributable_to_parent']\n",
      "['0001337553:2013:FY', '0001337553:2014:FY', '0001337553:2015:FY', '0001337553:2016:FY', '0001744659:2019:FY', '0001744659:2020:FY', '0001744659:2021:FY', '0001598968:2014:FY', '0001598968:2014:FY', '0001598968:2014:FY', '0001598968:2014:FY', '0001598968:2014:FY', '0001598968:2014:FY', '0001562401:2021:FY', '0001690769:2018:FY', '0001690769:2018:FY', '0001690769:2018:FY', '0001690769:2018:FY', '0001690769:2018:FY', '0001690769:2018:FY', '0001690769:2018:FY', '0001591588:2015:FY', '0001591588:2015:FY', '0001591588:2015:FY', '0001591588:2015:FY', '0001591588:2015:FY', '0001591588:2015:FY', '0001591588:2016:FY', '0001591588:2016:FY', '0001591588:2016:FY', '0001591588:2016:FY', '0001591588:2016:FY', '0001591588:2016:FY', '0001591588:2017:FY', '0001591588:2017:FY', '0001591588:2017:FY', '0001591588:2017:FY', '0001591588:2017:FY', '0001591588:2018:FY', '0001591588:2018:FY', '0001591588:2018:FY', '0001591588:2018:FY', '0001591588:2018:FY', '0001591588:2019:FY', '0001591588:2019:FY', '0001591588:2019:FY', '0001591588:2019:FY', '0001591588:2019:FY', '0001492422:2017:FY', '0001492422:2018:FY', '0001492422:2019:FY', '0001814329:2021:FY', '0001501796:2021:FY', '0000763901:2014:FY', '0000763901:2015:FY', '0001819989:2021:FY', '0000906345:2010:FY', '0000882184:2010:FY', '0001379895:2012:FY', '0001379895:2012:FY', '0001379895:2012:FY', '0001379895:2012:FY', '0001379895:2012:FY', '0001379895:2012:FY', '0001379895:2012:FY', '0001379895:2012:FY', '0001379895:2012:FY', '0001379895:2013:FY', '0001856236:2021:FY', '0000886982:2009:FY', '0000886982:2010:FY', '0000886982:2011:FY', '0000886982:2012:FY', '0001682325:2016:FY', '0001682325:2017:FY', '0001682325:2018:FY', '0000819689:2012:FY', '0001061937:2011:FY', '0001061937:2011:FY', '0001061937:2011:FY', '0001061937:2011:FY', '0001061937:2011:FY', '0001061937:2011:FY', '0001759631:2020:FY', '0001005731:2015:FY', '0001005731:2015:FY', '0001005731:2015:FY', '0001005731:2015:FY', '0001005731:2015:FY', '0001005731:2015:FY', '0001005731:2017:FY', '0001005731:2017:FY', '0001005731:2017:FY', '0001005731:2017:FY', '0001005731:2017:FY', '0001005731:2017:FY', '0001717307:2020:FY', '0001717307:2021:FY', '0001764013:2020:FY', '0001764013:2021:FY', '0001764013:2022:FY', '0001037390:2021:FY', '0001497612:2011:FY', '0001404912:2011:FY', '0001404912:2012:FY', '0001404912:2013:FY', '0000031235:2013:FY', '0000031235:2013:FY', '0000031235:2013:FY', '0000031235:2013:FY', '0000031235:2013:FY', '0000031235:2013:FY', '0000031235:2013:FY', '0000031235:2013:FY', '0000031235:2013:FY', '0001422143:2015:FY', '0001422143:2016:FY', '0001422143:2017:FY', '0001422143:2018:FY', '0001422143:2019:FY', '0001422143:2020:FY', '0001422143:2021:FY', '0001065059:2015:FY', '0001065059:2015:FY', '0001065059:2015:FY', '0001065059:2015:FY', '0001065059:2015:FY', '0001065059:2015:FY', '0001489393:2011:FY', '0000912595:2013:FY', '0000912595:2014:FY', '0000912595:2014:FY', '0000912595:2014:FY', '0000912595:2014:FY', '0000912595:2014:FY', '0000912595:2014:FY', '0000912595:2015:FY', '0000912595:2015:FY', '0000912595:2015:FY', '0000912595:2015:FY', '0000912595:2015:FY', '0000912595:2015:FY', '0000773141:2013:FY', '0000065270:2020:FY', '0001809987:2021:FY', '0000833079:2018:FY', '0000833079:2019:FY', '0000833079:2020:FY', '0000833079:2021:FY', '0001808805:2021:FY', '0001798100:2020:FY', '0001798100:2021:FY', '0001532961:2014:FY', '0001532961:2014:FY', '0001532961:2014:FY', '0001532961:2014:FY', '0001532961:2014:FY', '0001532961:2014:FY', '0000906163:2010:FY', '0000888491:2014:FY', '0000888491:2014:FY', '0000888491:2014:FY', '0000888491:2014:FY', '0000888491:2014:FY', '0000888491:2014:FY', '0000704532:2022:FY', '0000704532:2022:FY', '0000704532:2022:FY', '0000704532:2022:FY', '0000704532:2022:FY', '0000704532:2022:FY', '0001456772:2020:FY', '0001456772:2021:FY', '0001802457:2021:FY', '0001564406:2021:FY', '0000075362:2009:FY', '0001830033:2021:FY', '0001728205:2021:FY', '0001428522:2014:FY', '0001428522:2015:FY', '0001428522:2016:FY', '0001571283:2013:FY', '0001688852:2017:FY', '0001688852:2018:FY', '0000090896:2021:FY', '0000732717:2016:FY', '0000732717:2016:FY', '0000732717:2016:FY', '0000732717:2016:FY', '0000732717:2016:FY', '0000850429:2018:FY', '0000850429:2019:FY', '0000850429:2020:FY', '0000850429:2021:FY', '0000730263:2013:FY', '0001334933:2020:FY', '0001334933:2021:FY', '0000752642:2015:FY', '0000752642:2015:FY', '0000752642:2015:FY', '0000752642:2015:FY', '0000752642:2015:FY', '0000752642:2015:FY', '0000752642:2015:FY', '0000752642:2015:FY', '0000752642:2015:FY', '0000704159:2014:FY', '0001111335:2011:FY', '0001111335:2011:FY', '0001111335:2011:FY', '0001111335:2011:FY', '0001111335:2011:FY', '0001111335:2011:FY', '0001111335:2011:FY', '0001111335:2011:FY', '0001111335:2011:FY', '0001111335:2012:FY', '0001111335:2012:FY', '0001111335:2012:FY', '0001111335:2012:FY', '0001111335:2012:FY', '0001111335:2012:FY', '0001111335:2012:FY', '0001111335:2012:FY', '0001111335:2012:FY', '0001000697:2011:FY', '0001000697:2011:FY', '0001000697:2011:FY', '0001000697:2011:FY', '0001000697:2011:FY', '0001000697:2011:FY', '0001000697:2012:FY', '0001000697:2012:FY', '0001000697:2012:FY', '0001000697:2012:FY', '0001000697:2012:FY', '0001000697:2012:FY', '0001425287:2016:FY', '0000034088:2009:FY', '0000034088:2010:FY']\n",
      "['net_income_loss_attributable_to_parent', 'net_income_loss', 'participating_securities_distributed_and_undistributed_earnings_loss_basic', 'net_income_loss_available_to_common_stockholders_basic', 'income_loss_from_continuing_operations_after_tax', 'preferred_stock_dividends_and_other_adjustments', 'revenues', 'net_income_loss_attributable_to_noncontrolling_interest', 'income_loss_from_continuing_operations_before_tax']\n",
      "['0001809104:2021:FY', '0001809104:2021:FY', '0001809104:2021:FY', '0001809104:2021:FY', '0001492422:2017:FY', '0001492422:2017:FY', '0001420520:2017:FY', '0001314052:2017:FY', '0001314052:2017:FY', '0001314052:2019:FY', '0001314052:2019:FY', '0000949157:2016:FY', '0000783412:2011:FY', '0000783412:2011:FY', '0000783412:2012:FY', '0000783412:2012:FY', '0000783412:2013:FY', '0000783412:2013:FY', '0000783412:2014:FY', '0000783412:2014:FY', '0000783412:2015:FY', '0000783412:2015:FY', '0001411342:2011:FY', '0001411342:2011:FY', '0001411342:2012:FY', '0001411342:2012:FY', '0001411342:2013:FY', '0001411342:2013:FY', '0001411342:2014:FY', '0001411342:2014:FY', '0001411342:2015:FY', '0001411342:2015:FY', '0001411342:2016:FY', '0001411342:2016:FY', '0001411342:2017:FY', '0001411342:2017:FY', '0001411342:2018:FY', '0001411342:2018:FY', '0001836176:2021:FY', '0001836176:2021:FY', '0001385613:2014:FY', '0001682325:2017:FY', '0001682325:2017:FY', '0001587523:2014:FY', '0001587523:2014:FY', '0001587523:2015:FY', '0001587523:2015:FY', '0001587523:2016:FY', '0001587523:2016:FY', '0001587523:2017:FY', '0001587523:2017:FY', '0001587523:2018:FY', '0001587523:2018:FY', '0001587523:2019:FY', '0001587523:2019:FY', '0001587523:2020:FY', '0001587523:2020:FY', '0001587523:2021:FY', '0001587523:2021:FY', '0000827054:2011:FY', '0000827054:2011:FY', '0000907242:2017:FY', '0000907242:2017:FY', '0001173420:2013:FY', '0001173420:2013:FY', '0001173420:2014:FY', '0001173420:2014:FY', '0001173420:2015:FY', '0001173420:2015:FY', '0000080172:2013:FY', '0000080172:2013:FY', '0001695357:2018:FY', '0001695357:2018:FY', '0000897075:2014:FY', '0000897075:2015:FY', '0000897075:2016:FY', '0000090896:2013:FY', '0000090896:2013:FY', '0000090896:2016:FY', '0000090896:2016:FY', '0000090896:2017:FY', '0000090896:2017:FY', '0000863894:2017:FY', '0000863894:2017:FY', '0001411685:2020:FY', '0000749935:2012:FY', '0001822250:2020:FY', '0001822250:2020:FY']\n",
      "['net_cash_flow_from_operating_activities_continuing', 'net_cash_flow_from_investing_activities_continuing', 'net_cash_flow_from_financing_activities', 'net_cash_flow_from_investing_activities', 'net_cash_flow_from_financing_activities_continuing', 'net_cash_flow_from_operating_activities']\n",
      "['0001337553:2013:FY', '0001337553:2013:FY', '0001337553:2013:FY', '0000093859:2012:FY', '0000093859:2012:FY', '0000093859:2012:FY', '0000093859:2012:FY', '0000093859:2014:FY', '0000093859:2014:FY', '0000093859:2014:FY', '0000093859:2014:FY', '0000093859:2015:FY', '0000093859:2015:FY', '0000093859:2015:FY', '0000093859:2015:FY', '0000093859:2016:FY', '0000093859:2016:FY', '0000093859:2016:FY', '0000093859:2016:FY', '0000093859:2017:FY', '0000093859:2017:FY', '0000093859:2017:FY', '0000093859:2017:FY', '0001726173:2018:FY', '0001726173:2018:FY', '0001726173:2018:FY', '0001726173:2018:FY', '0001726173:2019:FY', '0001726173:2019:FY', '0001726173:2019:FY', '0001726173:2019:FY', '0001581068:2013:FY', '0001581068:2013:FY', '0001581068:2013:FY', '0001581068:2013:FY', '0001581068:2013:FY', '0001581068:2013:FY', '0001581068:2013:FY', '0001581068:2013:FY', '0001581068:2013:FY', '0001581068:2013:FY', '0000831001:2015:FY', '0000831001:2015:FY', '0000831001:2016:FY', '0000831001:2016:FY', '0000831001:2018:FY', '0000831001:2018:FY', '0000910612:2014:FY', '0000910612:2014:FY', '0000910612:2014:FY', '0000910612:2014:FY', '0000910612:2014:FY', '0000910612:2014:FY', '0000910612:2015:FY', '0000910612:2015:FY', '0000910612:2015:FY', '0000910612:2015:FY', '0000910612:2015:FY', '0000910612:2015:FY', '0000910612:2016:FY', '0000910612:2016:FY', '0000910612:2016:FY', '0000910612:2016:FY', '0000910612:2016:FY', '0000910612:2016:FY', '0000910612:2017:FY', '0000910612:2017:FY', '0000910612:2017:FY', '0000910612:2017:FY', '0000910612:2017:FY', '0000910612:2017:FY', '0000910612:2018:FY', '0000910612:2018:FY', '0000910612:2018:FY', '0000910612:2018:FY', '0000910612:2018:FY', '0000910612:2018:FY', '0001047862:2013:FY', '0001047862:2013:FY', '0001047862:2013:FY', '0001704596:2018:FY', '0001704596:2018:FY', '0001704596:2018:FY', '0001856236:2021:FY', '0001856236:2021:FY', '0001856236:2021:FY', '0001856236:2021:FY', '0001792849:2020:FY', '0001792849:2020:FY', '0001792849:2020:FY', '0001061937:2010:FY', '0001061937:2010:FY', '0001061937:2010:FY', '0001061937:2010:FY', '0001061937:2011:FY', '0001061937:2011:FY', '0001061937:2011:FY', '0001061937:2011:FY', '0001061937:2012:FY', '0001061937:2012:FY', '0001061937:2012:FY', '0001061937:2012:FY', '0001404912:2021:FY', '0001404912:2021:FY', '0001404912:2021:FY', '0001065059:2014:FY', '0001065059:2014:FY', '0001065059:2014:FY', '0001065059:2014:FY', '0001065059:2014:FY', '0001065059:2014:FY', '0000912595:2013:FY', '0000912595:2013:FY', '0000912595:2013:FY', '0000912595:2013:FY', '0000912595:2013:FY', '0000912595:2013:FY', '0000066004:2014:FY', '0000066004:2014:FY', '0000066004:2014:FY', '0000066004:2015:FY', '0000066004:2015:FY', '0000066004:2015:FY', '0000066004:2016:FY', '0000066004:2016:FY', '0000066004:2016:FY', '0000066004:2017:FY', '0000066004:2017:FY', '0000066004:2017:FY', '0000066004:2018:FY', '0000066004:2018:FY', '0000066004:2018:FY', '0000066004:2019:FY', '0000066004:2019:FY', '0000066004:2019:FY', '0000066004:2020:FY', '0000066004:2020:FY', '0000066004:2020:FY', '0000066004:2021:FY', '0000066004:2021:FY', '0000066004:2021:FY', '0001564406:2020:FY', '0001564406:2020:FY', '0001564406:2020:FY', '0001564406:2020:FY', '0001564406:2020:FY', '0001564406:2020:FY', '0001564406:2020:FY', '0001564406:2020:FY', '0001564406:2020:FY', '0001564406:2020:FY', '0001564406:2021:FY', '0001564406:2021:FY', '0001564406:2021:FY', '0001564406:2021:FY', '0001564406:2021:FY', '0001564406:2021:FY', '0001564406:2021:FY', '0001564406:2021:FY', '0001564406:2021:FY', '0001564406:2021:FY', '0001466593:2010:FY', '0001466593:2010:FY', '0001466593:2010:FY', '0001637207:2015:FY', '0001637207:2015:FY', '0001637207:2015:FY', '0000910606:2016:FY', '0000910606:2016:FY', '0000910606:2016:FY', '0000910606:2016:FY', '0000910606:2017:FY', '0000910606:2017:FY', '0000910606:2017:FY', '0000910606:2017:FY', '0000910606:2017:FY', '0000910606:2017:FY', '0000910606:2017:FY', '0000910606:2017:FY', '0000910606:2017:FY', '0000910606:2017:FY', '0000910606:2018:FY', '0000910606:2018:FY', '0000910606:2018:FY', '0000910606:2018:FY', '0000910606:2018:FY', '0000910606:2018:FY', '0000910606:2018:FY', '0000910606:2018:FY', '0000910606:2018:FY', '0000910606:2018:FY', '0001688852:2017:FY', '0001688852:2017:FY', '0001688852:2017:FY', '0001688852:2017:FY', '0001688852:2017:FY', '0001688852:2017:FY', '0001688852:2017:FY', '0001688852:2017:FY', '0001688852:2017:FY', '0001856031:2021:FY', '0001856031:2021:FY', '0001856031:2021:FY', '0001856031:2021:FY', '0001856031:2021:FY', '0001856031:2021:FY', '0001856031:2021:FY', '0001856031:2021:FY', '0001856031:2021:FY', '0001856031:2021:FY', '0001023459:2021:FY', '0001023459:2021:FY', '0001023459:2021:FY', '0000850261:2013:FY', '0000850261:2013:FY', '0000850261:2013:FY', '0001773427:2019:FY', '0001773427:2019:FY', '0001773427:2019:FY', '0000733590:2014:FY', '0000733590:2014:FY', '0000733590:2014:FY', '0000097517:2013:FY', '0000097517:2013:FY', '0000097517:2013:FY', '0001212545:2016:FY', '0001212545:2016:FY', '0001212545:2018:FY', '0001212545:2018:FY', '0000783325:2009:FY', '0000783325:2009:FY', '0000783325:2009:FY', '0000783325:2018:FY', '0000783325:2018:FY', '0000783325:2018:FY', '0000783325:2019:FY', '0000783325:2019:FY', '0000783325:2019:FY', '0000783325:2020:FY', '0000783325:2020:FY', '0000783325:2020:FY', '0000783325:2021:FY', '0000783325:2021:FY', '0000783325:2021:FY', '0001131457:2011:FY', '0001131457:2011:FY', '0001131457:2011:FY', '0001131457:2011:FY']\n",
      "['current_liabilities', 'current_assets', 'equity', 'liabilities_and_equity', 'equity_attributable_to_parent', 'equity_attributable_to_noncontrolling_interest', 'assets', 'noncurrent_liabilities', 'liabilities', 'noncurrent_assets']\n",
      "######################### {'comprehensive_income_df'} #########################\n",
      "21879.0 null values in column other_comprehensive_income_loss_attributable_to_noncontrolling_interest\n",
      "16254.0 null values in column other_comprehensive_income_loss_attributable_to_parent\n",
      "######################### {'income_statement_df'} #########################\n",
      "22706.0 null values in column income_loss_from_discontinued_operations_net_of_tax_adjustment_to_prior_year_gain_loss_on_disposal\n",
      "22664.0 null values in column income_loss_from_discontinued_operations_net_of_tax_provision_for_gain_loss_on_disposal\n",
      "22576.0 null values in column gain_loss_on_sale_properties_net_tax\n",
      "22477.0 null values in column net_income_loss_attributable_to_nonredeemable_noncontrolling_interest\n",
      "22216.0 null values in column other_operating_income_expenses\n",
      "22099.0 null values in column income_loss_from_discontinued_operations_net_of_tax_during_phase_out\n",
      "21917.0 null values in column interest_and_debt_expense\n",
      "21839.0 null values in column net_income_loss_attributable_to_redeemable_noncontrolling_interest\n",
      "21826.0 null values in column income_loss_from_discontinued_operations_net_of_tax_gain_loss_on_disposal\n",
      "21588.0 null values in column undistributed_earnings_loss_allocated_to_participating_securities_basic\n",
      "21239.0 null values in column cost_of_revenue_services\n",
      "20359.0 null values in column noninterest_income\n",
      "20335.0 null values in column noninterest_expense\n",
      "19209.0 null values in column interest_and_dividend_income_operating\n",
      "19182.0 null values in column cost_of_revenue_goods\n",
      "18617.0 null values in column income_loss_from_discontinued_operations_net_of_tax\n",
      "18045.0 null values in column interest_income_expense_after_provision_for_losses\n",
      "18045.0 null values in column interest_income_expense_operating_net\n",
      "17206.0 null values in column provision_for_loan_lease_and_other_losses\n",
      "16226.0 null values in column income_loss_from_equity_method_investments\n",
      "15717.0 null values in column nonoperating_income_loss\n",
      "8468.0 null values in column income_loss_before_equity_method_investments\n",
      "8398.0 null values in column gross_profit\n",
      "8373.0 null values in column cost_of_revenue\n",
      "6975.0 null values in column income_tax_expense_benefit_current\n",
      "6631.0 null values in column interest_expense_operating\n",
      "3691.0 null values in column income_tax_expense_benefit_deferred\n",
      "3051.0 null values in column diluted_earnings_per_share\n",
      "2977.0 null values in column basic_earnings_per_share\n",
      "1002.0 null values in column income_tax_expense_benefit\n",
      "277.0 null values in column benefits_costs_expenses\n",
      "264.0 null values in column costs_and_expenses\n",
      "241.0 null values in column operating_expenses\n",
      "226.0 null values in column operating_income_loss\n",
      "######################### {'cash_flow_df'} #########################\n",
      "22043.0 null values in column net_cash_flow_from_financing_activities_discontinued\n",
      "21503.0 null values in column net_cash_flow_from_investing_activities_discontinued\n",
      "20997.0 null values in column net_cash_flow_from_operating_activities_discontinued\n",
      "20888.0 null values in column net_cash_flow_discontinued\n",
      "11738.0 null values in column exchange_gains_losses\n",
      "######################### {'balance_sheet_df'} #########################\n",
      "22710.0 null values in column redeemable_noncontrolling_interest_other\n",
      "22690.0 null values in column redeemable_noncontrolling_interest_preferred\n",
      "22647.0 null values in column redeemable_noncontrolling_interest_common\n",
      "22176.0 null values in column temporary_equity_attributable_to_parent\n",
      "22144.0 null values in column commitments_and_contingencies\n",
      "21223.0 null values in column redeemable_noncontrolling_interest\n",
      "20373.0 null values in column temporary_equity\n",
      "2494.0 null values in column fixed_assets\n",
      "2449.0 null values in column other_than_fixed_noncurrent_assets\n"
     ]
    }
   ],
   "source": [
    "# Rows with null values in columns that have less than 100 total null values are dropped.\n",
    "# These rows are dealt with as outliers - a company reported to have 0 liabilities and equity is a very unlikely extreme, \n",
    "# and will pollute any analysis.\n",
    "\n",
    "importlib.reload(EDA)\n",
    "\n",
    "comprehensive_income_df = EDA.drop_incomplete_rows(comprehensive_income_df)\n",
    "income_statement_df = EDA.drop_incomplete_rows(income_statement_df)\n",
    "cash_flow_df = EDA.drop_incomplete_rows(cash_flow_df)\n",
    "balance_sheet_df = EDA.drop_incomplete_rows(balance_sheet_df)\n",
    "\n",
    "# Null values are checked once more.\n",
    "\n",
    "statements_list = [comprehensive_income_df, income_statement_df, cash_flow_df, balance_sheet_df]\n",
    "EDA.nan_check(statements_list)"
   ]
  },
  {
   "cell_type": "code",
   "execution_count": 155,
   "metadata": {},
   "outputs": [
    {
     "name": "stdout",
     "output_type": "stream",
     "text": [
      "######################### {'comprehensive_income_df'} #########################\n",
      "######################### {'income_statement_df'} #########################\n",
      "######################### {'cash_flow_df'} #########################\n",
      "######################### {'balance_sheet_df'} #########################\n"
     ]
    }
   ],
   "source": [
    "# The remaining null values are replaced with zeroes, as that is generally implied by a null value in financial statements.\n",
    "\n",
    "importlib.reload(EDA)\n",
    "\n",
    "comprehensive_income_df = comprehensive_income_df.fillna(0)\n",
    "income_statement_df = income_statement_df.fillna(0)\n",
    "cash_flow_df = cash_flow_df.fillna(0)\n",
    "balance_sheet_df = balance_sheet_df.fillna(0)\n",
    "\n",
    "# No null values remain in the DataFrames.\n",
    "\n",
    "statements_list = [comprehensive_income_df, income_statement_df, cash_flow_df, balance_sheet_df]\n",
    "EDA.nan_check(statements_list)"
   ]
  },
  {
   "cell_type": "code",
   "execution_count": 72,
   "metadata": {},
   "outputs": [],
   "source": [
    "# The cleaned data is exported into a separate folder for later feature engineering.\n",
    "\n",
    "comprehensive_income_df.to_csv('../Data/Cleaned_Pandas_DataFrames/comprehensive_income_df.csv')\n",
    "\n",
    "income_statement_df.to_csv('../Data/Cleaned_Pandas_DataFrames/income_statement_df.csv')\n",
    "\n",
    "cash_flow_df.to_csv('../Data/Cleaned_Pandas_DataFrames/cash_flow_df.csv')\n",
    "\n",
    "balance_sheet_df.to_csv('../Data/Cleaned_Pandas_DataFrames/balance_sheet_df.csv')\n",
    "\n",
    "filing_information_df.to_csv('../Data/Cleaned_Pandas_DataFrames/filing_information_df.csv')\n",
    "\n",
    "company_information_df.to_csv('../Data/Cleaned_Pandas_DataFrames/company_information_df.csv')"
   ]
  }
 ],
 "metadata": {
  "kernelspec": {
   "display_name": "Python 3",
   "language": "python",
   "name": "python3"
  },
  "language_info": {
   "codemirror_mode": {
    "name": "ipython",
    "version": 3
   },
   "file_extension": ".py",
   "mimetype": "text/x-python",
   "name": "python",
   "nbconvert_exporter": "python",
   "pygments_lexer": "ipython3",
   "version": "3.11.3"
  },
  "orig_nbformat": 4
 },
 "nbformat": 4,
 "nbformat_minor": 2
}
