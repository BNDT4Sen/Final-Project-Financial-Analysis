{
 "cells": [
  {
   "cell_type": "code",
   "execution_count": 9,
   "metadata": {},
   "outputs": [],
   "source": [
    "import pandas as pd\n",
    "import features\n",
    "import importlib"
   ]
  },
  {
   "cell_type": "code",
   "execution_count": 10,
   "metadata": {},
   "outputs": [],
   "source": [
    "comprehensive_income_df = pd.read_csv('../Data/Cleaned_Pandas_DataFrames/comprehensive_income_df.csv', index_col = [0])\n",
    "\n",
    "income_statement_df = pd.read_csv('../Data/Cleaned_Pandas_DataFrames/income_statement_df.csv', index_col = [0])\n",
    "\n",
    "cash_flow_df = pd.read_csv('../Data/Cleaned_Pandas_DataFrames/cash_flow_df.csv', index_col = [0])\n",
    "\n",
    "balance_sheet_df = pd.read_csv('../Data/Cleaned_Pandas_DataFrames/balance_sheet_df.csv', index_col = [0])\n",
    "\n",
    "filing_information_df = pd.read_csv('../Data/Cleaned_Pandas_DataFrames/filing_information_df.csv', index_col = [0])\n",
    "\n",
    "company_information_df = pd.read_csv('../Data/Cleaned_Pandas_DataFrames/company_information_df.csv', index_col = [0])\n",
    "\n",
    "full_df_list = [comprehensive_income_df, income_statement_df, cash_flow_df, balance_sheet_df, filing_information_df, company_information_df]\n",
    "\n",
    "statements_list = [comprehensive_income_df, income_statement_df, cash_flow_df, balance_sheet_df]\n",
    "                   \n",
    "other_information_list = [filing_information_df, company_information_df]\n"
   ]
  },
  {
   "cell_type": "code",
   "execution_count": 19,
   "metadata": {},
   "outputs": [
    {
     "name": "stdout",
     "output_type": "stream",
     "text": [
      "22836\n",
      "22762\n"
     ]
    }
   ],
   "source": [
    "print(len(balance_sheet_df.index))\n",
    "print(len(cash_flow_df.index))"
   ]
  },
  {
   "cell_type": "code",
   "execution_count": 20,
   "metadata": {},
   "outputs": [
    {
     "data": {
      "text/plain": [
       "0001090872:2011:FY    3.031573\n",
       "0001090872:2012:FY    2.445325\n",
       "0001090872:2013:FY    3.110487\n",
       "0001090872:2014:FY    3.231492\n",
       "0001090872:2015:FY    3.776639\n",
       "                        ...   \n",
       "0001423774:2022:FY    1.497216\n",
       "0001439288:2021:FY    1.975042\n",
       "0000846475:2019:FY    4.342120\n",
       "0000846475:2020:FY    6.229416\n",
       "0000846475:2021:FY    3.615452\n",
       "Length: 22801, dtype: float64"
      ]
     },
     "execution_count": 20,
     "metadata": {},
     "output_type": "execute_result"
    }
   ],
   "source": [
    "importlib.reload(features)\n",
    "features.current_ratio(balance_sheet_df)"
   ]
  },
  {
   "cell_type": "code",
   "execution_count": 36,
   "metadata": {},
   "outputs": [
    {
     "name": "stderr",
     "output_type": "stream",
     "text": [
      "c:\\Users\\forse\\Repositories\\Final-Project-Financial-Analysis\\Functions\\features.py:51: RuntimeWarning: divide by zero encountered in scalar divide\n",
      "  ratio = net_cash_flow / current_liabilities\n"
     ]
    },
    {
     "data": {
      "text/plain": [
       "0001090872:2011:FY    0.477953\n",
       "0001090872:2012:FY   -0.621236\n",
       "0001090872:2013:FY    0.202247\n",
       "0001090872:2014:FY    0.207403\n",
       "0001090872:2015:FY   -1.050205\n",
       "                        ...   \n",
       "0001423774:2022:FY    0.088451\n",
       "0001439288:2021:FY   -0.642679\n",
       "0000846475:2019:FY    0.752742\n",
       "0000846475:2020:FY    2.484234\n",
       "0000846475:2021:FY    0.150365\n",
       "Length: 22762, dtype: float64"
      ]
     },
     "execution_count": 36,
     "metadata": {},
     "output_type": "execute_result"
    }
   ],
   "source": [
    "importlib.reload(features)\n",
    "features.operating_cash_flow(cash_flow_df, balance_sheet_df)"
   ]
  },
  {
   "cell_type": "code",
   "execution_count": 38,
   "metadata": {},
   "outputs": [
    {
     "ename": "ZeroDivisionError",
     "evalue": "float division by zero",
     "output_type": "error",
     "traceback": [
      "\u001b[1;31m---------------------------------------------------------------------------\u001b[0m",
      "\u001b[1;31mZeroDivisionError\u001b[0m                         Traceback (most recent call last)",
      "Cell \u001b[1;32mIn[38], line 2\u001b[0m\n\u001b[0;32m      1\u001b[0m importlib\u001b[39m.\u001b[39mreload(features)\n\u001b[1;32m----> 2\u001b[0m features\u001b[39m.\u001b[39mdebt_to_equity(balance_sheet_df)\n",
      "File \u001b[1;32mc:\\Users\\forse\\Repositories\\Final-Project-Financial-Analysis\\Functions\\features.py:60\u001b[0m, in \u001b[0;36mdebt_to_equity\u001b[1;34m(balance_sheet_df)\u001b[0m\n\u001b[0;32m     57\u001b[0m \u001b[39mprint\u001b[39m(\u001b[39mlen\u001b[39m(balance_sheet_series))\n\u001b[0;32m     58\u001b[0m \u001b[39m# for index, ratio in cash_flow_series.items():\u001b[39;00m\n\u001b[1;32m---> 60\u001b[0m \u001b[39mreturn\u001b[39;00m cash_flow_series\n",
      "\u001b[1;31mZeroDivisionError\u001b[0m: float division by zero"
     ]
    }
   ],
   "source": [
    "importlib.reload(features)\n",
    "features.debt_to_equity(balance_sheet_df)"
   ]
  }
 ],
 "metadata": {
  "kernelspec": {
   "display_name": "Python 3",
   "language": "python",
   "name": "python3"
  },
  "language_info": {
   "codemirror_mode": {
    "name": "ipython",
    "version": 3
   },
   "file_extension": ".py",
   "mimetype": "text/x-python",
   "name": "python",
   "nbconvert_exporter": "python",
   "pygments_lexer": "ipython3",
   "version": "3.11.3"
  },
  "orig_nbformat": 4
 },
 "nbformat": 4,
 "nbformat_minor": 2
}
