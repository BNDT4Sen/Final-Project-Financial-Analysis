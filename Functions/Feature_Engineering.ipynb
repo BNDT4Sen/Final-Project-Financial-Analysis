{
 "cells": [
  {
   "cell_type": "code",
   "execution_count": 49,
   "metadata": {},
   "outputs": [],
   "source": [
    "import pandas as pd\n",
    "import features\n",
    "import importlib"
   ]
  },
  {
   "cell_type": "code",
   "execution_count": 50,
   "metadata": {},
   "outputs": [],
   "source": [
    "comprehensive_income_df = pd.read_csv('../Data/Cleaned_Pandas_DataFrames/comprehensive_income_df.csv', index_col = [0])\n",
    "\n",
    "income_statement_df = pd.read_csv('../Data/Cleaned_Pandas_DataFrames/income_statement_df.csv', index_col = [0])\n",
    "\n",
    "cash_flow_df = pd.read_csv('../Data/Cleaned_Pandas_DataFrames/cash_flow_df.csv', index_col = [0])\n",
    "\n",
    "balance_sheet_df = pd.read_csv('../Data/Cleaned_Pandas_DataFrames/balance_sheet_df.csv', index_col = [0])\n",
    "\n",
    "filing_information_df = pd.read_csv('../Data/Cleaned_Pandas_DataFrames/filing_information_df.csv', index_col = [0])\n",
    "\n",
    "company_information_df = pd.read_csv('../Data/Cleaned_Pandas_DataFrames/company_information_df.csv', index_col = [0])\n",
    "\n",
    "full_df_list = [comprehensive_income_df, income_statement_df, cash_flow_df, balance_sheet_df, filing_information_df, company_information_df]\n",
    "\n",
    "statements_list = [comprehensive_income_df, income_statement_df, cash_flow_df, balance_sheet_df]\n",
    "                   \n",
    "other_information_list = [filing_information_df, company_information_df]\n"
   ]
  },
  {
   "cell_type": "code",
   "execution_count": 69,
   "metadata": {},
   "outputs": [
    {
     "name": "stdout",
     "output_type": "stream",
     "text": [
      "22779\n",
      "22715\n"
     ]
    }
   ],
   "source": [
    "print(len(balance_sheet_df.index))\n",
    "print(len(cash_flow_df.index))"
   ]
  },
  {
   "cell_type": "code",
   "execution_count": 62,
   "metadata": {},
   "outputs": [],
   "source": [
    "importlib.reload(features)\n",
    "current_ratio = features.current_ratio(balance_sheet_df)"
   ]
  },
  {
   "cell_type": "code",
   "execution_count": 63,
   "metadata": {},
   "outputs": [],
   "source": [
    "importlib.reload(features)\n",
    "operating_cash_flow = features.operating_cash_flow(cash_flow_df, balance_sheet_df)"
   ]
  },
  {
   "cell_type": "code",
   "execution_count": 64,
   "metadata": {},
   "outputs": [],
   "source": [
    "importlib.reload(features)\n",
    "debt_to_equity = features.debt_to_equity(balance_sheet_df)"
   ]
  },
  {
   "cell_type": "code",
   "execution_count": 65,
   "metadata": {},
   "outputs": [],
   "source": [
    "importlib.reload(features)\n",
    "interest_coverage = features.interest_coverage(income_statement_df)"
   ]
  },
  {
   "cell_type": "code",
   "execution_count": 66,
   "metadata": {},
   "outputs": [],
   "source": [
    "importlib.reload(features)\n",
    "operating_margin = features.operating_margin(income_statement_df)"
   ]
  },
  {
   "cell_type": "code",
   "execution_count": 67,
   "metadata": {},
   "outputs": [],
   "source": [
    "importlib.reload(features)\n",
    "return_on_assets = features.return_on_assets(income_statement_df, balance_sheet_df)"
   ]
  },
  {
   "cell_type": "code",
   "execution_count": 68,
   "metadata": {},
   "outputs": [],
   "source": [
    "importlib.reload(features)\n",
    "return_on_equity = features.return_on_equity(income_statement_df, balance_sheet_df)"
   ]
  },
  {
   "cell_type": "code",
   "execution_count": 106,
   "metadata": {},
   "outputs": [
    {
     "name": "stdout",
     "output_type": "stream",
     "text": [
      "<class 'pandas.core.frame.DataFrame'>\n",
      "Index: 22838 entries, 0001090872:2011:FY to 0001131457:2011:FY\n",
      "Data columns (total 7 columns):\n",
      " #   Column               Non-Null Count  Dtype  \n",
      "---  ------               --------------  -----  \n",
      " 0   current_ratio        22779 non-null  float64\n",
      " 1   operating_cash_flow  22681 non-null  float64\n",
      " 2   debt_to_equity       22779 non-null  float64\n",
      " 3   interest_coverage    22719 non-null  float64\n",
      " 4   operating_margin     22719 non-null  float64\n",
      " 5   return_on_assets     22660 non-null  float64\n",
      " 6   return_on_equity     22660 non-null  float64\n",
      "dtypes: float64(7)\n",
      "memory usage: 1.4+ MB\n",
      "None\n"
     ]
    },
    {
     "data": {
      "text/plain": [
       "31"
      ]
     },
     "execution_count": 106,
     "metadata": {},
     "output_type": "execute_result"
    }
   ],
   "source": [
    "feature_list = [current_ratio, operating_cash_flow, debt_to_equity, interest_coverage, operating_margin, return_on_assets, return_on_equity]\n",
    "\n",
    "feature_df = pd.concat(feature_list, axis = 1)\n",
    "feature_df.columns = ['current_ratio', 'operating_cash_flow', 'debt_to_equity', 'interest_coverage', 'operating_margin', 'return_on_assets', 'return_on_equity']\n",
    "\n",
    "print(feature_df.info())\n",
    "feature_df['operating_cash_flow'].loc[feature_df['operating_cash_flow'] == 0].count()"
   ]
  },
  {
   "cell_type": "code",
   "execution_count": 118,
   "metadata": {},
   "outputs": [
    {
     "name": "stdout",
     "output_type": "stream",
     "text": [
      "<class 'pandas.core.frame.DataFrame'>\n",
      "Index: 22838 entries, 0001090872:2011:FY to 0001131457:2011:FY\n",
      "Data columns (total 7 columns):\n",
      " #   Column               Non-Null Count  Dtype  \n",
      "---  ------               --------------  -----  \n",
      " 0   current_ratio        22779 non-null  float64\n",
      " 1   operating_cash_flow  22681 non-null  float64\n",
      " 2   debt_to_equity       22779 non-null  float64\n",
      " 3   interest_coverage    22719 non-null  float64\n",
      " 4   operating_margin     22719 non-null  float64\n",
      " 5   return_on_assets     22660 non-null  float64\n",
      " 6   return_on_equity     22660 non-null  float64\n",
      "dtypes: float64(7)\n",
      "memory usage: 1.4+ MB\n",
      "None\n",
      "The column current_ratio has 0 rows with values of zero!\n",
      "The column operating_cash_flow has 31 rows with values of zero!\n",
      "The column debt_to_equity has 0 rows with values of zero!\n",
      "The column interest_coverage has 6897 rows with values of zero!\n",
      "The column operating_margin has 307 rows with values of zero!\n",
      "The column return_on_assets has 0 rows with values of zero!\n",
      "The column return_on_equity has 0 rows with values of zero!\n"
     ]
    },
    {
     "name": "stderr",
     "output_type": "stream",
     "text": [
      "c:\\Users\\forse\\Repositories\\Final-Project-Financial-Analysis\\Functions\\features.py:154: SettingWithCopyWarning: \n",
      "A value is trying to be set on a copy of a slice from a DataFrame.\n",
      "Try using .loc[row_indexer,col_indexer] = value instead\n",
      "\n",
      "See the caveats in the documentation: https://pandas.pydata.org/pandas-docs/stable/user_guide/indexing.html#returning-a-view-versus-a-copy\n"
     ]
    },
    {
     "data": {
      "text/html": [
       "<div>\n",
       "<style scoped>\n",
       "    .dataframe tbody tr th:only-of-type {\n",
       "        vertical-align: middle;\n",
       "    }\n",
       "\n",
       "    .dataframe tbody tr th {\n",
       "        vertical-align: top;\n",
       "    }\n",
       "\n",
       "    .dataframe thead th {\n",
       "        text-align: right;\n",
       "    }\n",
       "</style>\n",
       "<table border=\"1\" class=\"dataframe\">\n",
       "  <thead>\n",
       "    <tr style=\"text-align: right;\">\n",
       "      <th></th>\n",
       "      <th>current_ratio</th>\n",
       "      <th>operating_cash_flow</th>\n",
       "      <th>debt_to_equity</th>\n",
       "      <th>interest_coverage</th>\n",
       "      <th>operating_margin</th>\n",
       "      <th>return_on_assets</th>\n",
       "      <th>return_on_equity</th>\n",
       "      <th>has_interest_payments</th>\n",
       "    </tr>\n",
       "  </thead>\n",
       "  <tbody>\n",
       "    <tr>\n",
       "      <th>0001090872:2011:FY</th>\n",
       "      <td>3.031573</td>\n",
       "      <td>0.477953</td>\n",
       "      <td>1.098471</td>\n",
       "      <td>12.453488</td>\n",
       "      <td>0.533485</td>\n",
       "      <td>0.111737</td>\n",
       "      <td>0.234476</td>\n",
       "      <td>1</td>\n",
       "    </tr>\n",
       "    <tr>\n",
       "      <th>0001090872:2012:FY</th>\n",
       "      <td>2.445325</td>\n",
       "      <td>-0.621236</td>\n",
       "      <td>1.032015</td>\n",
       "      <td>11.079208</td>\n",
       "      <td>0.525518</td>\n",
       "      <td>0.109434</td>\n",
       "      <td>0.222372</td>\n",
       "      <td>1</td>\n",
       "    </tr>\n",
       "    <tr>\n",
       "      <th>0001090872:2013:FY</th>\n",
       "      <td>3.110487</td>\n",
       "      <td>0.202247</td>\n",
       "      <td>1.020420</td>\n",
       "      <td>8.887850</td>\n",
       "      <td>0.521233</td>\n",
       "      <td>0.067752</td>\n",
       "      <td>0.136888</td>\n",
       "      <td>1</td>\n",
       "    </tr>\n",
       "    <tr>\n",
       "      <th>0001090872:2014:FY</th>\n",
       "      <td>3.231492</td>\n",
       "      <td>0.207403</td>\n",
       "      <td>1.043199</td>\n",
       "      <td>7.353982</td>\n",
       "      <td>0.514683</td>\n",
       "      <td>0.046533</td>\n",
       "      <td>0.095076</td>\n",
       "      <td>1</td>\n",
       "    </tr>\n",
       "    <tr>\n",
       "      <th>0001090872:2015:FY</th>\n",
       "      <td>3.776639</td>\n",
       "      <td>-1.050205</td>\n",
       "      <td>0.793525</td>\n",
       "      <td>7.909091</td>\n",
       "      <td>0.505448</td>\n",
       "      <td>0.053617</td>\n",
       "      <td>0.096163</td>\n",
       "      <td>1</td>\n",
       "    </tr>\n",
       "    <tr>\n",
       "      <th>...</th>\n",
       "      <td>...</td>\n",
       "      <td>...</td>\n",
       "      <td>...</td>\n",
       "      <td>...</td>\n",
       "      <td>...</td>\n",
       "      <td>...</td>\n",
       "      <td>...</td>\n",
       "      <td>...</td>\n",
       "    </tr>\n",
       "    <tr>\n",
       "      <th>0001423774:2022:FY</th>\n",
       "      <td>1.497216</td>\n",
       "      <td>0.088451</td>\n",
       "      <td>1.586365</td>\n",
       "      <td>0.000000</td>\n",
       "      <td>0.595931</td>\n",
       "      <td>-0.225325</td>\n",
       "      <td>-0.582772</td>\n",
       "      <td>0</td>\n",
       "    </tr>\n",
       "    <tr>\n",
       "      <th>0001439288:2021:FY</th>\n",
       "      <td>1.975042</td>\n",
       "      <td>-0.642679</td>\n",
       "      <td>7.526108</td>\n",
       "      <td>3.083573</td>\n",
       "      <td>0.409705</td>\n",
       "      <td>0.112183</td>\n",
       "      <td>0.956487</td>\n",
       "      <td>1</td>\n",
       "    </tr>\n",
       "    <tr>\n",
       "      <th>0000846475:2019:FY</th>\n",
       "      <td>4.342120</td>\n",
       "      <td>0.752742</td>\n",
       "      <td>0.438813</td>\n",
       "      <td>0.000000</td>\n",
       "      <td>0.806166</td>\n",
       "      <td>0.335679</td>\n",
       "      <td>0.482980</td>\n",
       "      <td>0</td>\n",
       "    </tr>\n",
       "    <tr>\n",
       "      <th>0000846475:2020:FY</th>\n",
       "      <td>6.229416</td>\n",
       "      <td>2.484234</td>\n",
       "      <td>0.269457</td>\n",
       "      <td>0.000000</td>\n",
       "      <td>0.782619</td>\n",
       "      <td>0.125722</td>\n",
       "      <td>0.159599</td>\n",
       "      <td>0</td>\n",
       "    </tr>\n",
       "    <tr>\n",
       "      <th>0000846475:2021:FY</th>\n",
       "      <td>3.615452</td>\n",
       "      <td>0.150365</td>\n",
       "      <td>0.802827</td>\n",
       "      <td>0.000000</td>\n",
       "      <td>0.790324</td>\n",
       "      <td>0.128330</td>\n",
       "      <td>0.231356</td>\n",
       "      <td>0</td>\n",
       "    </tr>\n",
       "  </tbody>\n",
       "</table>\n",
       "<p>22596 rows × 8 columns</p>\n",
       "</div>"
      ],
      "text/plain": [
       "                    current_ratio  operating_cash_flow  debt_to_equity  \\\n",
       "0001090872:2011:FY       3.031573             0.477953        1.098471   \n",
       "0001090872:2012:FY       2.445325            -0.621236        1.032015   \n",
       "0001090872:2013:FY       3.110487             0.202247        1.020420   \n",
       "0001090872:2014:FY       3.231492             0.207403        1.043199   \n",
       "0001090872:2015:FY       3.776639            -1.050205        0.793525   \n",
       "...                           ...                  ...             ...   \n",
       "0001423774:2022:FY       1.497216             0.088451        1.586365   \n",
       "0001439288:2021:FY       1.975042            -0.642679        7.526108   \n",
       "0000846475:2019:FY       4.342120             0.752742        0.438813   \n",
       "0000846475:2020:FY       6.229416             2.484234        0.269457   \n",
       "0000846475:2021:FY       3.615452             0.150365        0.802827   \n",
       "\n",
       "                    interest_coverage  operating_margin  return_on_assets  \\\n",
       "0001090872:2011:FY          12.453488          0.533485          0.111737   \n",
       "0001090872:2012:FY          11.079208          0.525518          0.109434   \n",
       "0001090872:2013:FY           8.887850          0.521233          0.067752   \n",
       "0001090872:2014:FY           7.353982          0.514683          0.046533   \n",
       "0001090872:2015:FY           7.909091          0.505448          0.053617   \n",
       "...                               ...               ...               ...   \n",
       "0001423774:2022:FY           0.000000          0.595931         -0.225325   \n",
       "0001439288:2021:FY           3.083573          0.409705          0.112183   \n",
       "0000846475:2019:FY           0.000000          0.806166          0.335679   \n",
       "0000846475:2020:FY           0.000000          0.782619          0.125722   \n",
       "0000846475:2021:FY           0.000000          0.790324          0.128330   \n",
       "\n",
       "                    return_on_equity  has_interest_payments  \n",
       "0001090872:2011:FY          0.234476                      1  \n",
       "0001090872:2012:FY          0.222372                      1  \n",
       "0001090872:2013:FY          0.136888                      1  \n",
       "0001090872:2014:FY          0.095076                      1  \n",
       "0001090872:2015:FY          0.096163                      1  \n",
       "...                              ...                    ...  \n",
       "0001423774:2022:FY         -0.582772                      0  \n",
       "0001439288:2021:FY          0.956487                      1  \n",
       "0000846475:2019:FY          0.482980                      0  \n",
       "0000846475:2020:FY          0.159599                      0  \n",
       "0000846475:2021:FY          0.231356                      0  \n",
       "\n",
       "[22596 rows x 8 columns]"
      ]
     },
     "execution_count": 118,
     "metadata": {},
     "output_type": "execute_result"
    }
   ],
   "source": [
    "importlib.reload(features)\n",
    "features.final_df_check(feature_df)"
   ]
  }
 ],
 "metadata": {
  "kernelspec": {
   "display_name": "Python 3",
   "language": "python",
   "name": "python3"
  },
  "language_info": {
   "codemirror_mode": {
    "name": "ipython",
    "version": 3
   },
   "file_extension": ".py",
   "mimetype": "text/x-python",
   "name": "python",
   "nbconvert_exporter": "python",
   "pygments_lexer": "ipython3",
   "version": "3.11.3"
  },
  "orig_nbformat": 4
 },
 "nbformat": 4,
 "nbformat_minor": 2
}
