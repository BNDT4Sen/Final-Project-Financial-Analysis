{
 "cells": [
  {
   "cell_type": "code",
   "execution_count": 40,
   "metadata": {},
   "outputs": [],
   "source": [
    "import pandas as pd\n",
    "import features\n",
    "import importlib"
   ]
  },
  {
   "cell_type": "code",
   "execution_count": 41,
   "metadata": {},
   "outputs": [],
   "source": [
    "comprehensive_income_df = pd.read_csv('../Data/Cleaned_Pandas_DataFrames/comprehensive_income_df.csv', index_col = [0])\n",
    "\n",
    "income_statement_df = pd.read_csv('../Data/Cleaned_Pandas_DataFrames/income_statement_df.csv', index_col = [0])\n",
    "\n",
    "cash_flow_df = pd.read_csv('../Data/Cleaned_Pandas_DataFrames/cash_flow_df.csv', index_col = [0])\n",
    "\n",
    "balance_sheet_df = pd.read_csv('../Data/Cleaned_Pandas_DataFrames/balance_sheet_df.csv', index_col = [0])\n",
    "\n",
    "filing_information_df = pd.read_csv('../Data/Cleaned_Pandas_DataFrames/filing_information_df.csv', index_col = [0])\n",
    "\n",
    "company_information_df = pd.read_csv('../Data/Cleaned_Pandas_DataFrames/company_information_df.csv', index_col = [0])\n",
    "\n",
    "full_df_list = [comprehensive_income_df, income_statement_df, cash_flow_df, balance_sheet_df, filing_information_df, company_information_df]\n",
    "\n",
    "statements_list = [comprehensive_income_df, income_statement_df, cash_flow_df, balance_sheet_df]\n",
    "                   \n",
    "other_information_list = [filing_information_df, company_information_df]\n"
   ]
  },
  {
   "cell_type": "code",
   "execution_count": 42,
   "metadata": {},
   "outputs": [
    {
     "name": "stdout",
     "output_type": "stream",
     "text": [
      "22779\n",
      "22715\n"
     ]
    }
   ],
   "source": [
    "print(len(balance_sheet_df.index))\n",
    "print(len(cash_flow_df.index))"
   ]
  },
  {
   "cell_type": "code",
   "execution_count": 43,
   "metadata": {},
   "outputs": [
    {
     "data": {
      "text/plain": [
       "0001090872:2011:FY    3.031573\n",
       "0001090872:2012:FY    2.445325\n",
       "0001090872:2013:FY    3.110487\n",
       "0001090872:2014:FY    3.231492\n",
       "0001090872:2015:FY    3.776639\n",
       "                        ...   \n",
       "0001423774:2022:FY    1.497216\n",
       "0001439288:2021:FY    1.975042\n",
       "0000846475:2019:FY    4.342120\n",
       "0000846475:2020:FY    6.229416\n",
       "0000846475:2021:FY    3.615452\n",
       "Length: 22779, dtype: float64"
      ]
     },
     "execution_count": 43,
     "metadata": {},
     "output_type": "execute_result"
    }
   ],
   "source": [
    "importlib.reload(features)\n",
    "features.current_ratio(balance_sheet_df)"
   ]
  },
  {
   "cell_type": "code",
   "execution_count": 47,
   "metadata": {},
   "outputs": [
    {
     "data": {
      "text/plain": [
       "0001090872:2011:FY    0.477953\n",
       "0001090872:2012:FY   -0.621236\n",
       "0001090872:2013:FY    0.202247\n",
       "0001090872:2014:FY    0.207403\n",
       "0001090872:2015:FY   -1.050205\n",
       "                        ...   \n",
       "0001423774:2022:FY    0.088451\n",
       "0001439288:2021:FY   -0.642679\n",
       "0000846475:2019:FY    0.752742\n",
       "0000846475:2020:FY    2.484234\n",
       "0000846475:2021:FY    0.150365\n",
       "Length: 22681, dtype: float64"
      ]
     },
     "execution_count": 47,
     "metadata": {},
     "output_type": "execute_result"
    }
   ],
   "source": [
    "importlib.reload(features)\n",
    "features.operating_cash_flow(cash_flow_df, balance_sheet_df)"
   ]
  },
  {
   "cell_type": "code",
   "execution_count": 48,
   "metadata": {},
   "outputs": [
    {
     "data": {
      "text/plain": [
       "0001090872:2011:FY    1.098471\n",
       "0001090872:2012:FY    1.032015\n",
       "0001090872:2013:FY    1.020420\n",
       "0001090872:2014:FY    1.043199\n",
       "0001090872:2015:FY    0.793525\n",
       "                        ...   \n",
       "0001423774:2022:FY    1.586365\n",
       "0001439288:2021:FY    7.526108\n",
       "0000846475:2019:FY    0.438813\n",
       "0000846475:2020:FY    0.269457\n",
       "0000846475:2021:FY    0.802827\n",
       "Length: 22779, dtype: float64"
      ]
     },
     "execution_count": 48,
     "metadata": {},
     "output_type": "execute_result"
    }
   ],
   "source": [
    "importlib.reload(features)\n",
    "features.debt_to_equity(balance_sheet_df)"
   ]
  }
 ],
 "metadata": {
  "kernelspec": {
   "display_name": "Python 3",
   "language": "python",
   "name": "python3"
  },
  "language_info": {
   "codemirror_mode": {
    "name": "ipython",
    "version": 3
   },
   "file_extension": ".py",
   "mimetype": "text/x-python",
   "name": "python",
   "nbconvert_exporter": "python",
   "pygments_lexer": "ipython3",
   "version": "3.11.3"
  },
  "orig_nbformat": 4
 },
 "nbformat": 4,
 "nbformat_minor": 2
}
